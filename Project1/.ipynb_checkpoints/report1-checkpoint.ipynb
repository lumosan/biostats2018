{
 "cells": [
  {
   "cell_type": "code",
   "execution_count": 1,
   "metadata": {
    "collapsed": true
   },
   "outputs": [],
   "source": [
    "library(xtable)\n",
    "require(stats); require(graphics)"
   ]
  },
  {
   "cell_type": "code",
   "execution_count": 2,
   "metadata": {
    "collapsed": true
   },
   "outputs": [],
   "source": [
    "data(\"PlantGrowth\")\n",
    "help(\"PlantGrowth\")"
   ]
  },
  {
   "cell_type": "code",
   "execution_count": 3,
   "metadata": {},
   "outputs": [
    {
     "data": {
      "text/html": [
       "<table>\n",
       "<thead><tr><th scope=col>weight</th><th scope=col>group</th></tr></thead>\n",
       "<tbody>\n",
       "\t<tr><td>4.17</td><td>ctrl</td></tr>\n",
       "\t<tr><td>5.58</td><td>ctrl</td></tr>\n",
       "\t<tr><td>5.18</td><td>ctrl</td></tr>\n",
       "\t<tr><td>6.11</td><td>ctrl</td></tr>\n",
       "\t<tr><td>4.50</td><td>ctrl</td></tr>\n",
       "\t<tr><td>4.61</td><td>ctrl</td></tr>\n",
       "\t<tr><td>5.17</td><td>ctrl</td></tr>\n",
       "\t<tr><td>4.53</td><td>ctrl</td></tr>\n",
       "\t<tr><td>5.33</td><td>ctrl</td></tr>\n",
       "\t<tr><td>5.14</td><td>ctrl</td></tr>\n",
       "\t<tr><td>4.81</td><td>trt1</td></tr>\n",
       "\t<tr><td>4.17</td><td>trt1</td></tr>\n",
       "\t<tr><td>4.41</td><td>trt1</td></tr>\n",
       "\t<tr><td>3.59</td><td>trt1</td></tr>\n",
       "\t<tr><td>5.87</td><td>trt1</td></tr>\n",
       "\t<tr><td>3.83</td><td>trt1</td></tr>\n",
       "\t<tr><td>6.03</td><td>trt1</td></tr>\n",
       "\t<tr><td>4.89</td><td>trt1</td></tr>\n",
       "\t<tr><td>4.32</td><td>trt1</td></tr>\n",
       "\t<tr><td>4.69</td><td>trt1</td></tr>\n",
       "\t<tr><td>6.31</td><td>trt2</td></tr>\n",
       "\t<tr><td>5.12</td><td>trt2</td></tr>\n",
       "\t<tr><td>5.54</td><td>trt2</td></tr>\n",
       "\t<tr><td>5.50</td><td>trt2</td></tr>\n",
       "\t<tr><td>5.37</td><td>trt2</td></tr>\n",
       "\t<tr><td>5.29</td><td>trt2</td></tr>\n",
       "\t<tr><td>4.92</td><td>trt2</td></tr>\n",
       "\t<tr><td>6.15</td><td>trt2</td></tr>\n",
       "\t<tr><td>5.80</td><td>trt2</td></tr>\n",
       "\t<tr><td>5.26</td><td>trt2</td></tr>\n",
       "</tbody>\n",
       "</table>\n"
      ],
      "text/latex": [
       "\\begin{tabular}{r|ll}\n",
       " weight & group\\\\\n",
       "\\hline\n",
       "\t 4.17 & ctrl\\\\\n",
       "\t 5.58 & ctrl\\\\\n",
       "\t 5.18 & ctrl\\\\\n",
       "\t 6.11 & ctrl\\\\\n",
       "\t 4.50 & ctrl\\\\\n",
       "\t 4.61 & ctrl\\\\\n",
       "\t 5.17 & ctrl\\\\\n",
       "\t 4.53 & ctrl\\\\\n",
       "\t 5.33 & ctrl\\\\\n",
       "\t 5.14 & ctrl\\\\\n",
       "\t 4.81 & trt1\\\\\n",
       "\t 4.17 & trt1\\\\\n",
       "\t 4.41 & trt1\\\\\n",
       "\t 3.59 & trt1\\\\\n",
       "\t 5.87 & trt1\\\\\n",
       "\t 3.83 & trt1\\\\\n",
       "\t 6.03 & trt1\\\\\n",
       "\t 4.89 & trt1\\\\\n",
       "\t 4.32 & trt1\\\\\n",
       "\t 4.69 & trt1\\\\\n",
       "\t 6.31 & trt2\\\\\n",
       "\t 5.12 & trt2\\\\\n",
       "\t 5.54 & trt2\\\\\n",
       "\t 5.50 & trt2\\\\\n",
       "\t 5.37 & trt2\\\\\n",
       "\t 5.29 & trt2\\\\\n",
       "\t 4.92 & trt2\\\\\n",
       "\t 6.15 & trt2\\\\\n",
       "\t 5.80 & trt2\\\\\n",
       "\t 5.26 & trt2\\\\\n",
       "\\end{tabular}\n"
      ],
      "text/markdown": [
       "\n",
       "weight | group | \n",
       "|---|---|---|---|---|---|---|---|---|---|---|---|---|---|---|---|---|---|---|---|---|---|---|---|---|---|---|---|---|---|\n",
       "| 4.17 | ctrl | \n",
       "| 5.58 | ctrl | \n",
       "| 5.18 | ctrl | \n",
       "| 6.11 | ctrl | \n",
       "| 4.50 | ctrl | \n",
       "| 4.61 | ctrl | \n",
       "| 5.17 | ctrl | \n",
       "| 4.53 | ctrl | \n",
       "| 5.33 | ctrl | \n",
       "| 5.14 | ctrl | \n",
       "| 4.81 | trt1 | \n",
       "| 4.17 | trt1 | \n",
       "| 4.41 | trt1 | \n",
       "| 3.59 | trt1 | \n",
       "| 5.87 | trt1 | \n",
       "| 3.83 | trt1 | \n",
       "| 6.03 | trt1 | \n",
       "| 4.89 | trt1 | \n",
       "| 4.32 | trt1 | \n",
       "| 4.69 | trt1 | \n",
       "| 6.31 | trt2 | \n",
       "| 5.12 | trt2 | \n",
       "| 5.54 | trt2 | \n",
       "| 5.50 | trt2 | \n",
       "| 5.37 | trt2 | \n",
       "| 5.29 | trt2 | \n",
       "| 4.92 | trt2 | \n",
       "| 6.15 | trt2 | \n",
       "| 5.80 | trt2 | \n",
       "| 5.26 | trt2 | \n",
       "\n",
       "\n"
      ],
      "text/plain": [
       "   weight group\n",
       "1  4.17   ctrl \n",
       "2  5.58   ctrl \n",
       "3  5.18   ctrl \n",
       "4  6.11   ctrl \n",
       "5  4.50   ctrl \n",
       "6  4.61   ctrl \n",
       "7  5.17   ctrl \n",
       "8  4.53   ctrl \n",
       "9  5.33   ctrl \n",
       "10 5.14   ctrl \n",
       "11 4.81   trt1 \n",
       "12 4.17   trt1 \n",
       "13 4.41   trt1 \n",
       "14 3.59   trt1 \n",
       "15 5.87   trt1 \n",
       "16 3.83   trt1 \n",
       "17 6.03   trt1 \n",
       "18 4.89   trt1 \n",
       "19 4.32   trt1 \n",
       "20 4.69   trt1 \n",
       "21 6.31   trt2 \n",
       "22 5.12   trt2 \n",
       "23 5.54   trt2 \n",
       "24 5.50   trt2 \n",
       "25 5.37   trt2 \n",
       "26 5.29   trt2 \n",
       "27 4.92   trt2 \n",
       "28 6.15   trt2 \n",
       "29 5.80   trt2 \n",
       "30 5.26   trt2 "
      ]
     },
     "metadata": {},
     "output_type": "display_data"
    }
   ],
   "source": [
    "PlantGrowth"
   ]
  },
  {
   "cell_type": "code",
   "execution_count": 4,
   "metadata": {},
   "outputs": [
    {
     "name": "stdout",
     "output_type": "stream",
     "text": [
      "'data.frame':\t30 obs. of  2 variables:\n",
      " $ weight: num  4.17 5.58 5.18 6.11 4.5 4.61 5.17 4.53 5.33 5.14 ...\n",
      " $ group : Factor w/ 3 levels \"ctrl\",\"trt1\",..: 1 1 1 1 1 1 1 1 1 1 ...\n"
     ]
    }
   ],
   "source": [
    "str(PlantGrowth)"
   ]
  },
  {
   "cell_type": "code",
   "execution_count": 5,
   "metadata": {},
   "outputs": [
    {
     "data": {
      "text/plain": [
       "group\n",
       "ctrl trt1 trt2 \n",
       "  10   10   10 "
      ]
     },
     "metadata": {},
     "output_type": "display_data"
    }
   ],
   "source": [
    "xtabs(~group, data=PlantGrowth)"
   ]
  },
  {
   "cell_type": "code",
   "execution_count": 6,
   "metadata": {},
   "outputs": [
    {
     "data": {
      "text/html": [
       "<dl class=dl-horizontal>\n",
       "\t<dt>ctrl</dt>\n",
       "\t\t<dd>5.032</dd>\n",
       "\t<dt>trt1</dt>\n",
       "\t\t<dd>4.661</dd>\n",
       "\t<dt>trt2</dt>\n",
       "\t\t<dd>5.526</dd>\n",
       "</dl>\n"
      ],
      "text/plain": [
       " ctrl  trt1  trt2 \n",
       "5.032 4.661 5.526 "
      ]
     },
     "metadata": {},
     "output_type": "display_data"
    }
   ],
   "source": [
    "tapply(PlantGrowth$weight, PlantGrowth$group, mean)"
   ]
  },
  {
   "cell_type": "code",
   "execution_count": 7,
   "metadata": {},
   "outputs": [
    {
     "data": {
      "text/html": [
       "<dl class=dl-horizontal>\n",
       "\t<dt>ctrl</dt>\n",
       "\t\t<dd>0.583091378392406</dd>\n",
       "\t<dt>trt1</dt>\n",
       "\t\t<dd>0.793675696434703</dd>\n",
       "\t<dt>trt2</dt>\n",
       "\t\t<dd>0.442573283322786</dd>\n",
       "</dl>\n"
      ],
      "text/plain": [
       "     ctrl      trt1      trt2 \n",
       "0.5830914 0.7936757 0.4425733 "
      ]
     },
     "metadata": {},
     "output_type": "display_data"
    }
   ],
   "source": [
    "tapply(PlantGrowth$weight, PlantGrowth$group, sd)"
   ]
  },
  {
   "cell_type": "code",
   "execution_count": 8,
   "metadata": {},
   "outputs": [
    {
     "data": {
      "image/png": "[encoded data removed]",
      "text/plain": [
       "plot without title"
      ]
     },
     "metadata": {},
     "output_type": "display_data"
    }
   ],
   "source": [
    "plot.design(PlantGrowth)"
   ]
  },
  {
   "cell_type": "code",
   "execution_count": 30,
   "metadata": {},
   "outputs": [
    {
     "data": {
      "image/png": "[encoded data removed]",
      "text/plain": [
       "Plot with title \"PlantGrowth data\""
      ]
     },
     "metadata": {},
     "output_type": "display_data"
    }
   ],
   "source": [
    "require(stats); require(graphics)\n",
    "boxplot(weight ~ group, data = PlantGrowth, main = \"PlantGrowth data\",\n",
    "        ylab = \"Dried weight of plants\", col = \"lightgray\",\n",
    "        notch = FALSE, varwidth = TRUE)\n",
    "stripchart(weight ~ group, data = PlantGrowth,\n",
    "            vertical = TRUE, method = \"jitter\",\n",
    "            pch = 21, bg = \"blue\",\n",
    "            add = TRUE) "
   ]
  },
  {
   "cell_type": "code",
   "execution_count": 32,
   "metadata": {},
   "outputs": [
    {
     "data": {
      "text/plain": [
       "            Df Sum Sq Mean Sq F value Pr(>F)  \n",
       "group        2  3.766  1.8832   4.846 0.0159 *\n",
       "Residuals   27 10.492  0.3886                 \n",
       "---\n",
       "Signif. codes:  0 '***' 0.001 '**' 0.01 '*' 0.05 '.' 0.1 ' ' 1"
      ]
     },
     "metadata": {},
     "output_type": "display_data"
    }
   ],
   "source": [
    "pg.aov <- aov(lm(weight ~ group, data = PlantGrowth))\n",
    "summary(pg.aov)"
   ]
  },
  {
   "cell_type": "code",
   "execution_count": 33,
   "metadata": {},
   "outputs": [
    {
     "data": {
      "image/png": "[encoded data removed]",
      "text/plain": [
       "Plot with title \"\""
      ]
     },
     "metadata": {},
     "output_type": "display_data"
    }
   ],
   "source": [
    "layout(matrix(1:4,ncol=2))\n",
    "plot(pg.aov)"
   ]
  },
  {
   "cell_type": "code",
   "execution_count": 39,
   "metadata": {},
   "outputs": [
    {
     "data": {
      "text/plain": [
       "  Tukey multiple comparisons of means\n",
       "    95% family-wise confidence level\n",
       "\n",
       "Fit: aov(formula = lm(weight ~ group, data = PlantGrowth))\n",
       "\n",
       "$group\n",
       "            diff        lwr       upr     p adj\n",
       "trt1-ctrl -0.371 -1.0622161 0.3202161 0.3908711\n",
       "trt2-ctrl  0.494 -0.1972161 1.1852161 0.1979960\n",
       "trt2-trt1  0.865  0.1737839 1.5562161 0.0120064\n"
      ]
     },
     "metadata": {},
     "output_type": "display_data"
    }
   ],
   "source": [
    "pg.hsd <- TukeyHSD(pg.aov, \"group\")\n",
    "pg.hsd"
   ]
  },
  {
   "cell_type": "code",
   "execution_count": 40,
   "metadata": {},
   "outputs": [
    {
     "data": {
      "image/png": "[encoded data removed]",
      "text/plain": [
       "Plot with title \"95% family-wise confidence level\n",
       "\""
      ]
     },
     "metadata": {},
     "output_type": "display_data"
    }
   ],
   "source": [
    "plot(pg.hsd)"
   ]
  },
  {
   "cell_type": "code",
   "execution_count": 35,
   "metadata": {
    "collapsed": true
   },
   "outputs": [],
   "source": [
    "## One factor ANOVA example from Dobson's book, cf. Table 7.4:\n",
    "# require(stats); require(graphics)\n",
    "# boxplot(weight ~ group, data = PlantGrowth, main = \"PlantGrowth data\",\n",
    "#         ylab = \"Dried weight of plants\", col = \"lightgray\",\n",
    "#         notch = FALSE, varwidth = TRUE)\n",
    "# anova(lm(weight ~ group, data = PlantGrowth))"
   ]
  },
  {
   "cell_type": "code",
   "execution_count": 36,
   "metadata": {},
   "outputs": [
    {
     "data": {
      "text/html": [
       "<table>\n",
       "<thead><tr><th scope=col>weight</th><th scope=col>group</th></tr></thead>\n",
       "<tbody>\n",
       "\t<tr><td>4.17</td><td>ctrl</td></tr>\n",
       "\t<tr><td>5.58</td><td>ctrl</td></tr>\n",
       "\t<tr><td>5.18</td><td>ctrl</td></tr>\n",
       "\t<tr><td>6.11</td><td>ctrl</td></tr>\n",
       "\t<tr><td>4.50</td><td>ctrl</td></tr>\n",
       "\t<tr><td>4.61</td><td>ctrl</td></tr>\n",
       "\t<tr><td>5.17</td><td>ctrl</td></tr>\n",
       "\t<tr><td>4.53</td><td>ctrl</td></tr>\n",
       "\t<tr><td>5.33</td><td>ctrl</td></tr>\n",
       "\t<tr><td>5.14</td><td>ctrl</td></tr>\n",
       "\t<tr><td>4.81</td><td>trt1</td></tr>\n",
       "\t<tr><td>4.17</td><td>trt1</td></tr>\n",
       "\t<tr><td>4.41</td><td>trt1</td></tr>\n",
       "\t<tr><td>3.59</td><td>trt1</td></tr>\n",
       "\t<tr><td>5.87</td><td>trt1</td></tr>\n",
       "\t<tr><td>3.83</td><td>trt1</td></tr>\n",
       "\t<tr><td>6.03</td><td>trt1</td></tr>\n",
       "\t<tr><td>4.89</td><td>trt1</td></tr>\n",
       "\t<tr><td>4.32</td><td>trt1</td></tr>\n",
       "\t<tr><td>4.69</td><td>trt1</td></tr>\n",
       "\t<tr><td>6.31</td><td>trt2</td></tr>\n",
       "\t<tr><td>5.12</td><td>trt2</td></tr>\n",
       "\t<tr><td>5.54</td><td>trt2</td></tr>\n",
       "\t<tr><td>5.50</td><td>trt2</td></tr>\n",
       "\t<tr><td>5.37</td><td>trt2</td></tr>\n",
       "\t<tr><td>5.29</td><td>trt2</td></tr>\n",
       "\t<tr><td>4.92</td><td>trt2</td></tr>\n",
       "\t<tr><td>6.15</td><td>trt2</td></tr>\n",
       "\t<tr><td>5.80</td><td>trt2</td></tr>\n",
       "\t<tr><td>5.26</td><td>trt2</td></tr>\n",
       "</tbody>\n",
       "</table>\n"
      ],
      "text/latex": [
       "\\begin{tabular}{r|ll}\n",
       " weight & group\\\\\n",
       "\\hline\n",
       "\t 4.17 & ctrl\\\\\n",
       "\t 5.58 & ctrl\\\\\n",
       "\t 5.18 & ctrl\\\\\n",
       "\t 6.11 & ctrl\\\\\n",
       "\t 4.50 & ctrl\\\\\n",
       "\t 4.61 & ctrl\\\\\n",
       "\t 5.17 & ctrl\\\\\n",
       "\t 4.53 & ctrl\\\\\n",
       "\t 5.33 & ctrl\\\\\n",
       "\t 5.14 & ctrl\\\\\n",
       "\t 4.81 & trt1\\\\\n",
       "\t 4.17 & trt1\\\\\n",
       "\t 4.41 & trt1\\\\\n",
       "\t 3.59 & trt1\\\\\n",
       "\t 5.87 & trt1\\\\\n",
       "\t 3.83 & trt1\\\\\n",
       "\t 6.03 & trt1\\\\\n",
       "\t 4.89 & trt1\\\\\n",
       "\t 4.32 & trt1\\\\\n",
       "\t 4.69 & trt1\\\\\n",
       "\t 6.31 & trt2\\\\\n",
       "\t 5.12 & trt2\\\\\n",
       "\t 5.54 & trt2\\\\\n",
       "\t 5.50 & trt2\\\\\n",
       "\t 5.37 & trt2\\\\\n",
       "\t 5.29 & trt2\\\\\n",
       "\t 4.92 & trt2\\\\\n",
       "\t 6.15 & trt2\\\\\n",
       "\t 5.80 & trt2\\\\\n",
       "\t 5.26 & trt2\\\\\n",
       "\\end{tabular}\n"
      ],
      "text/markdown": [
       "\n",
       "weight | group | \n",
       "|---|---|---|---|---|---|---|---|---|---|---|---|---|---|---|---|---|---|---|---|---|---|---|---|---|---|---|---|---|---|\n",
       "| 4.17 | ctrl | \n",
       "| 5.58 | ctrl | \n",
       "| 5.18 | ctrl | \n",
       "| 6.11 | ctrl | \n",
       "| 4.50 | ctrl | \n",
       "| 4.61 | ctrl | \n",
       "| 5.17 | ctrl | \n",
       "| 4.53 | ctrl | \n",
       "| 5.33 | ctrl | \n",
       "| 5.14 | ctrl | \n",
       "| 4.81 | trt1 | \n",
       "| 4.17 | trt1 | \n",
       "| 4.41 | trt1 | \n",
       "| 3.59 | trt1 | \n",
       "| 5.87 | trt1 | \n",
       "| 3.83 | trt1 | \n",
       "| 6.03 | trt1 | \n",
       "| 4.89 | trt1 | \n",
       "| 4.32 | trt1 | \n",
       "| 4.69 | trt1 | \n",
       "| 6.31 | trt2 | \n",
       "| 5.12 | trt2 | \n",
       "| 5.54 | trt2 | \n",
       "| 5.50 | trt2 | \n",
       "| 5.37 | trt2 | \n",
       "| 5.29 | trt2 | \n",
       "| 4.92 | trt2 | \n",
       "| 6.15 | trt2 | \n",
       "| 5.80 | trt2 | \n",
       "| 5.26 | trt2 | \n",
       "\n",
       "\n"
      ],
      "text/plain": [
       "   weight group\n",
       "1  4.17   ctrl \n",
       "2  5.58   ctrl \n",
       "3  5.18   ctrl \n",
       "4  6.11   ctrl \n",
       "5  4.50   ctrl \n",
       "6  4.61   ctrl \n",
       "7  5.17   ctrl \n",
       "8  4.53   ctrl \n",
       "9  5.33   ctrl \n",
       "10 5.14   ctrl \n",
       "11 4.81   trt1 \n",
       "12 4.17   trt1 \n",
       "13 4.41   trt1 \n",
       "14 3.59   trt1 \n",
       "15 5.87   trt1 \n",
       "16 3.83   trt1 \n",
       "17 6.03   trt1 \n",
       "18 4.89   trt1 \n",
       "19 4.32   trt1 \n",
       "20 4.69   trt1 \n",
       "21 6.31   trt2 \n",
       "22 5.12   trt2 \n",
       "23 5.54   trt2 \n",
       "24 5.50   trt2 \n",
       "25 5.37   trt2 \n",
       "26 5.29   trt2 \n",
       "27 4.92   trt2 \n",
       "28 6.15   trt2 \n",
       "29 5.80   trt2 \n",
       "30 5.26   trt2 "
      ]
     },
     "metadata": {},
     "output_type": "display_data"
    }
   ],
   "source": [
    "xtable(PlantGrowth)"
   ]
  },
  {
   "cell_type": "code",
   "execution_count": 37,
   "metadata": {},
   "outputs": [
    {
     "name": "stdout",
     "output_type": "stream",
     "text": [
      "% latex table generated in R 3.4.3 by xtable 1.8-2 package\n",
      "% Sat Mar 31 15:00:47 2018\n",
      "\\begin{table}[ht]\n",
      "\\centering\n",
      "\\begin{tabular}{rrl}\n",
      "  \\hline\n",
      " & weight & group \\\\ \n",
      "  \\hline\n",
      "1 & 4.17 & ctrl \\\\ \n",
      "  2 & 5.58 & ctrl \\\\ \n",
      "  3 & 5.18 & ctrl \\\\ \n",
      "  4 & 6.11 & ctrl \\\\ \n",
      "  5 & 4.50 & ctrl \\\\ \n",
      "  6 & 4.61 & ctrl \\\\ \n",
      "  7 & 5.17 & ctrl \\\\ \n",
      "  8 & 4.53 & ctrl \\\\ \n",
      "  9 & 5.33 & ctrl \\\\ \n",
      "  10 & 5.14 & ctrl \\\\ \n",
      "  11 & 4.81 & trt1 \\\\ \n",
      "  12 & 4.17 & trt1 \\\\ \n",
      "  13 & 4.41 & trt1 \\\\ \n",
      "  14 & 3.59 & trt1 \\\\ \n",
      "  15 & 5.87 & trt1 \\\\ \n",
      "  16 & 3.83 & trt1 \\\\ \n",
      "  17 & 6.03 & trt1 \\\\ \n",
      "  18 & 4.89 & trt1 \\\\ \n",
      "  19 & 4.32 & trt1 \\\\ \n",
      "  20 & 4.69 & trt1 \\\\ \n",
      "  21 & 6.31 & trt2 \\\\ \n",
      "  22 & 5.12 & trt2 \\\\ \n",
      "  23 & 5.54 & trt2 \\\\ \n",
      "  24 & 5.50 & trt2 \\\\ \n",
      "  25 & 5.37 & trt2 \\\\ \n",
      "  26 & 5.29 & trt2 \\\\ \n",
      "  27 & 4.92 & trt2 \\\\ \n",
      "  28 & 6.15 & trt2 \\\\ \n",
      "  29 & 5.80 & trt2 \\\\ \n",
      "  30 & 5.26 & trt2 \\\\ \n",
      "   \\hline\n",
      "\\end{tabular}\n",
      "\\end{table}\n"
     ]
    }
   ],
   "source": [
    "print(xtable(PlantGrowth))"
   ]
  },
  {
   "cell_type": "code",
   "execution_count": 38,
   "metadata": {},
   "outputs": [
    {
     "name": "stdout",
     "output_type": "stream",
     "text": [
      "<!-- html table generated in R 3.4.3 by xtable 1.8-2 package -->\n",
      "<!-- Sat Mar 31 15:00:48 2018 -->\n",
      "<table border=1>\n",
      "<tr> <th>  </th> <th> weight </th> <th> group </th>  </tr>\n",
      "  <tr> <td align=\"right\"> 1 </td> <td align=\"right\"> 4.17 </td> <td> ctrl </td> </tr>\n",
      "  <tr> <td align=\"right\"> 2 </td> <td align=\"right\"> 5.58 </td> <td> ctrl </td> </tr>\n",
      "  <tr> <td align=\"right\"> 3 </td> <td align=\"right\"> 5.18 </td> <td> ctrl </td> </tr>\n",
      "  <tr> <td align=\"right\"> 4 </td> <td align=\"right\"> 6.11 </td> <td> ctrl </td> </tr>\n",
      "  <tr> <td align=\"right\"> 5 </td> <td align=\"right\"> 4.50 </td> <td> ctrl </td> </tr>\n",
      "  <tr> <td align=\"right\"> 6 </td> <td align=\"right\"> 4.61 </td> <td> ctrl </td> </tr>\n",
      "  <tr> <td align=\"right\"> 7 </td> <td align=\"right\"> 5.17 </td> <td> ctrl </td> </tr>\n",
      "  <tr> <td align=\"right\"> 8 </td> <td align=\"right\"> 4.53 </td> <td> ctrl </td> </tr>\n",
      "  <tr> <td align=\"right\"> 9 </td> <td align=\"right\"> 5.33 </td> <td> ctrl </td> </tr>\n",
      "  <tr> <td align=\"right\"> 10 </td> <td align=\"right\"> 5.14 </td> <td> ctrl </td> </tr>\n",
      "  <tr> <td align=\"right\"> 11 </td> <td align=\"right\"> 4.81 </td> <td> trt1 </td> </tr>\n",
      "  <tr> <td align=\"right\"> 12 </td> <td align=\"right\"> 4.17 </td> <td> trt1 </td> </tr>\n",
      "  <tr> <td align=\"right\"> 13 </td> <td align=\"right\"> 4.41 </td> <td> trt1 </td> </tr>\n",
      "  <tr> <td align=\"right\"> 14 </td> <td align=\"right\"> 3.59 </td> <td> trt1 </td> </tr>\n",
      "  <tr> <td align=\"right\"> 15 </td> <td align=\"right\"> 5.87 </td> <td> trt1 </td> </tr>\n",
      "  <tr> <td align=\"right\"> 16 </td> <td align=\"right\"> 3.83 </td> <td> trt1 </td> </tr>\n",
      "  <tr> <td align=\"right\"> 17 </td> <td align=\"right\"> 6.03 </td> <td> trt1 </td> </tr>\n",
      "  <tr> <td align=\"right\"> 18 </td> <td align=\"right\"> 4.89 </td> <td> trt1 </td> </tr>\n",
      "  <tr> <td align=\"right\"> 19 </td> <td align=\"right\"> 4.32 </td> <td> trt1 </td> </tr>\n",
      "  <tr> <td align=\"right\"> 20 </td> <td align=\"right\"> 4.69 </td> <td> trt1 </td> </tr>\n",
      "  <tr> <td align=\"right\"> 21 </td> <td align=\"right\"> 6.31 </td> <td> trt2 </td> </tr>\n",
      "  <tr> <td align=\"right\"> 22 </td> <td align=\"right\"> 5.12 </td> <td> trt2 </td> </tr>\n",
      "  <tr> <td align=\"right\"> 23 </td> <td align=\"right\"> 5.54 </td> <td> trt2 </td> </tr>\n",
      "  <tr> <td align=\"right\"> 24 </td> <td align=\"right\"> 5.50 </td> <td> trt2 </td> </tr>\n",
      "  <tr> <td align=\"right\"> 25 </td> <td align=\"right\"> 5.37 </td> <td> trt2 </td> </tr>\n",
      "  <tr> <td align=\"right\"> 26 </td> <td align=\"right\"> 5.29 </td> <td> trt2 </td> </tr>\n",
      "  <tr> <td align=\"right\"> 27 </td> <td align=\"right\"> 4.92 </td> <td> trt2 </td> </tr>\n",
      "  <tr> <td align=\"right\"> 28 </td> <td align=\"right\"> 6.15 </td> <td> trt2 </td> </tr>\n",
      "  <tr> <td align=\"right\"> 29 </td> <td align=\"right\"> 5.80 </td> <td> trt2 </td> </tr>\n",
      "  <tr> <td align=\"right\"> 30 </td> <td align=\"right\"> 5.26 </td> <td> trt2 </td> </tr>\n",
      "   </table>\n"
     ]
    }
   ],
   "source": [
    "print(xtable(PlantGrowth), type='html')"
   ]
  },
  {
   "cell_type": "code",
   "execution_count": null,
   "metadata": {
    "collapsed": true
   },
   "outputs": [],
   "source": []
  },
  {
   "cell_type": "code",
   "execution_count": null,
   "metadata": {
    "collapsed": true
   },
   "outputs": [],
   "source": []
  }
 ],
 "metadata": {
  "kernelspec": {
   "display_name": "R",
   "language": "R",
   "name": "ir"
  },
  "language_info": {
   "codemirror_mode": "r",
   "file_extension": ".r",
   "mimetype": "text/x-r-source",
   "name": "R",
   "pygments_lexer": "r",
   "version": "3.4.2"
  }
 },
 "nbformat": 4,
 "nbformat_minor": 1
}

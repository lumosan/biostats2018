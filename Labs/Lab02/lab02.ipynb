{
 "cells": [
  {
   "cell_type": "markdown",
   "metadata": {},
   "source": [
    "# 1 Weight gain data"
   ]
  },
  {
   "cell_type": "markdown",
   "metadata": {},
   "source": [
    "### 1.1 Import and see some info about data"
   ]
  },
  {
   "cell_type": "code",
   "execution_count": 2,
   "metadata": {
    "collapsed": true
   },
   "outputs": [],
   "source": [
    "# Load data\n",
    "library(HSAUR3)\n",
    "data(\"weightgain\", package = \"HSAUR3\")"
   ]
  },
  {
   "cell_type": "code",
   "execution_count": 35,
   "metadata": {},
   "outputs": [
    {
     "name": "stdout",
     "output_type": "stream",
     "text": [
      "'data.frame':\t40 obs. of  3 variables:\n",
      " $ source    : Factor w/ 2 levels \"Beef\",\"Cereal\": 1 1 1 1 1 1 1 1 1 1 ...\n",
      " $ type      : Factor w/ 2 levels \"High\",\"Low\": 2 2 2 2 2 2 2 2 2 2 ...\n",
      " $ weightgain: int  90 76 90 64 86 51 72 90 95 78 ...\n"
     ]
    }
   ],
   "source": [
    "# Compactly display data\n",
    "str(weightgain)"
   ]
  },
  {
   "cell_type": "code",
   "execution_count": 33,
   "metadata": {},
   "outputs": [
    {
     "data": {
      "text/plain": [
       "        type\n",
       "source   High Low\n",
       "  Beef     10  10\n",
       "  Cereal   10  10"
      ]
     },
     "metadata": {},
     "output_type": "display_data"
    }
   ],
   "source": [
    "# See that data is balanced\n",
    "xtabs(~source+type, data=weightgain)"
   ]
  },
  {
   "cell_type": "code",
   "execution_count": 37,
   "metadata": {},
   "outputs": [
    {
     "data": {
      "text/plain": [
       "    source     type      weightgain    \n",
       " Beef  :20   High:20   Min.   : 51.00  \n",
       " Cereal:20   Low :20   1st Qu.: 75.50  \n",
       "                       Median : 88.50  \n",
       "                       Mean   : 87.25  \n",
       "                       3rd Qu.: 98.00  \n",
       "                       Max.   :118.00  "
      ]
     },
     "metadata": {},
     "output_type": "display_data"
    }
   ],
   "source": [
    "# Print data summary\n",
    "summary(weightgain)"
   ]
  },
  {
   "cell_type": "markdown",
   "metadata": {},
   "source": [
    "### 1.2 See mean and sd per group, and check for homoscedasticity"
   ]
  },
  {
   "cell_type": "code",
   "execution_count": 6,
   "metadata": {},
   "outputs": [
    {
     "data": {
      "text/html": [
       "<table>\n",
       "<thead><tr><th></th><th scope=col>High</th><th scope=col>Low</th></tr></thead>\n",
       "<tbody>\n",
       "\t<tr><th scope=row>Beef</th><td>100.0</td><td>79.2 </td></tr>\n",
       "\t<tr><th scope=row>Cereal</th><td> 85.9</td><td>83.9 </td></tr>\n",
       "</tbody>\n",
       "</table>\n"
      ],
      "text/latex": [
       "\\begin{tabular}{r|ll}\n",
       "  & High & Low\\\\\n",
       "\\hline\n",
       "\tBeef & 100.0 & 79.2 \\\\\n",
       "\tCereal &  85.9 & 83.9 \\\\\n",
       "\\end{tabular}\n"
      ],
      "text/markdown": [
       "\n",
       "| <!--/--> | High | Low | \n",
       "|---|---|\n",
       "| Beef | 100.0 | 79.2  | \n",
       "| Cereal |  85.9 | 83.9  | \n",
       "\n",
       "\n"
      ],
      "text/plain": [
       "       High  Low \n",
       "Beef   100.0 79.2\n",
       "Cereal  85.9 83.9"
      ]
     },
     "metadata": {},
     "output_type": "display_data"
    }
   ],
   "source": [
    "tapply(weightgain$weightgain, list(weightgain$source, weightgain$type), mean)"
   ]
  },
  {
   "cell_type": "code",
   "execution_count": 8,
   "metadata": {},
   "outputs": [
    {
     "data": {
      "text/html": [
       "<table>\n",
       "<thead><tr><th></th><th scope=col>High</th><th scope=col>Low</th></tr></thead>\n",
       "<tbody>\n",
       "\t<tr><th scope=row>Beef</th><td>15.13642</td><td>13.88684</td></tr>\n",
       "\t<tr><th scope=row>Cereal</th><td>15.02184</td><td>15.70881</td></tr>\n",
       "</tbody>\n",
       "</table>\n"
      ],
      "text/latex": [
       "\\begin{tabular}{r|ll}\n",
       "  & High & Low\\\\\n",
       "\\hline\n",
       "\tBeef & 15.13642 & 13.88684\\\\\n",
       "\tCereal & 15.02184 & 15.70881\\\\\n",
       "\\end{tabular}\n"
      ],
      "text/markdown": [
       "\n",
       "| <!--/--> | High | Low | \n",
       "|---|---|\n",
       "| Beef | 15.13642 | 13.88684 | \n",
       "| Cereal | 15.02184 | 15.70881 | \n",
       "\n",
       "\n"
      ],
      "text/plain": [
       "       High     Low     \n",
       "Beef   15.13642 13.88684\n",
       "Cereal 15.02184 15.70881"
      ]
     },
     "metadata": {},
     "output_type": "display_data"
    }
   ],
   "source": [
    "tapply(weightgain$weightgain, list(weightgain$source, weightgain$type), sd)"
   ]
  },
  {
   "cell_type": "markdown",
   "metadata": {},
   "source": [
    "*Homoscedasticity: The k populations have the same\n",
    "variance*\n",
    "\n",
    "**Does the assumption of homoscedasticity appear to hold for these data?**\n",
    "Mostly yes\n",
    "\n",
    "**Do there appear to be differences in mean weight gain for these\n",
    "two factors?**\n",
    "Not really, because the differences are similar to the standard deviation.\n"
   ]
  },
  {
   "cell_type": "code",
   "execution_count": 9,
   "metadata": {},
   "outputs": [
    {
     "data": {
      "image/png": "[encoded data removed]",
      "text/plain": [
       "plot without title"
      ]
     },
     "metadata": {},
     "output_type": "display_data"
    }
   ],
   "source": [
    "plot.design(weightgain)"
   ]
  },
  {
   "cell_type": "markdown",
   "metadata": {},
   "source": [
    "###  1.3 Fit ANOVA"
   ]
  },
  {
   "cell_type": "markdown",
   "metadata": {},
   "source": [
    "Fit an ANOVA model to the data:\n",
    "\n",
    "`\n",
    "weightgain ~ source + type + source:type\n",
    "`"
   ]
  },
  {
   "cell_type": "code",
   "execution_count": 14,
   "metadata": {},
   "outputs": [
    {
     "data": {
      "text/plain": [
       "            Df Sum Sq Mean Sq F value Pr(>F)  \n",
       "source       1    221   220.9   0.988 0.3269  \n",
       "type         1   1300  1299.6   5.812 0.0211 *\n",
       "source:type  1    884   883.6   3.952 0.0545 .\n",
       "Residuals   36   8049   223.6                 \n",
       "---\n",
       "Signif. codes:  0 ‘***’ 0.001 ‘**’ 0.01 ‘*’ 0.05 ‘.’ 0.1 ‘ ’ 1"
      ]
     },
     "metadata": {},
     "output_type": "display_data"
    }
   ],
   "source": [
    "wg.aov <- aov(weightgain ~ source*type, data=weightgain)\n",
    "summary(wg.aov)"
   ]
  },
  {
   "cell_type": "markdown",
   "metadata": {},
   "source": [
    "#### 1.3.1 Treatment contrasts explanation"
   ]
  },
  {
   "cell_type": "code",
   "execution_count": 18,
   "metadata": {},
   "outputs": [
    {
     "data": {
      "text/html": [
       "<strong>$contrasts</strong> = <dl class=dl-horizontal>\n",
       "\t<dt>unordered</dt>\n",
       "\t\t<dd>'contr.treatment'</dd>\n",
       "\t<dt>ordered</dt>\n",
       "\t\t<dd>'contr.poly'</dd>\n",
       "</dl>\n"
      ],
      "text/latex": [
       "\\textbf{\\$contrasts} = \\begin{description*}\n",
       "\\item[unordered] 'contr.treatment'\n",
       "\\item[ordered] 'contr.poly'\n",
       "\\end{description*}\n"
      ],
      "text/markdown": [
       "**$contrasts** = unordered\n",
       ":   'contr.treatment'ordered\n",
       ":   'contr.poly'\n",
       "\n"
      ],
      "text/plain": [
       "$contrasts\n",
       "        unordered           ordered \n",
       "\"contr.treatment\"      \"contr.poly\" \n"
      ]
     },
     "metadata": {},
     "output_type": "display_data"
    }
   ],
   "source": [
    "options(\"contrasts\")In [26]:"
   ]
  },
  {
   "cell_type": "markdown",
   "metadata": {},
   "source": [
    "**Treatment contrasts** fit with a model where the coefficient for the first level of a model is set to 0. Thus, the interpretation of a given\n",
    "coefficient is that it estimates the difference between the effect of the first level and the level corresponding to the coefficient. (It is\n",
    "possible to change this if it makes more practical sense to use a different constraint for your problem \\- see the help for contrasts .\n",
    "Here, treatment contrasts are fine.)\n",
    "\n",
    "**Treatment contrasts** (`contr.treatment`): The *first* (alphanumeric) factor level is *set to 0* ($\\alpha_1=0$)\n",
    "\n",
    "*Interpretation* of other coefficients ($\\alpha_i$) for that factor: represent the effect of level $i$ above the effect of $\\alpha_1$ (i.e. $\\alpha_i-\\alpha_1$)\n",
    "\n",
    "\n"
   ]
  },
  {
   "cell_type": "code",
   "execution_count": 24,
   "metadata": {},
   "outputs": [
    {
     "data": {
      "text/html": [
       "<ol class=list-inline>\n",
       "\t<li>'Beef'</li>\n",
       "\t<li>'Cereal'</li>\n",
       "</ol>\n"
      ],
      "text/latex": [
       "\\begin{enumerate*}\n",
       "\\item 'Beef'\n",
       "\\item 'Cereal'\n",
       "\\end{enumerate*}\n"
      ],
      "text/markdown": [
       "1. 'Beef'\n",
       "2. 'Cereal'\n",
       "\n",
       "\n"
      ],
      "text/plain": [
       "[1] \"Beef\"   \"Cereal\""
      ]
     },
     "metadata": {},
     "output_type": "display_data"
    },
    {
     "data": {
      "text/html": [
       "<ol class=list-inline>\n",
       "\t<li>'High'</li>\n",
       "\t<li>'Low'</li>\n",
       "</ol>\n"
      ],
      "text/latex": [
       "\\begin{enumerate*}\n",
       "\\item 'High'\n",
       "\\item 'Low'\n",
       "\\end{enumerate*}\n"
      ],
      "text/markdown": [
       "1. 'High'\n",
       "2. 'Low'\n",
       "\n",
       "\n"
      ],
      "text/plain": [
       "[1] \"High\" \"Low\" "
      ]
     },
     "metadata": {},
     "output_type": "display_data"
    }
   ],
   "source": [
    "# get levels for each factor\n",
    "levels(weightgain$source)\n",
    "levels(weightgain$type)"
   ]
  },
  {
   "cell_type": "markdown",
   "metadata": {},
   "source": [
    "#### 1.3.2 Interpret model coefficients"
   ]
  },
  {
   "cell_type": "code",
   "execution_count": 15,
   "metadata": {},
   "outputs": [
    {
     "data": {
      "text/html": [
       "<dl class=dl-horizontal>\n",
       "\t<dt>(Intercept)</dt>\n",
       "\t\t<dd>100</dd>\n",
       "\t<dt>sourceCereal</dt>\n",
       "\t\t<dd>-14.1</dd>\n",
       "\t<dt>typeLow</dt>\n",
       "\t\t<dd>-20.8</dd>\n",
       "\t<dt>sourceCereal:typeLow</dt>\n",
       "\t\t<dd>18.8</dd>\n",
       "</dl>\n"
      ],
      "text/latex": [
       "\\begin{description*}\n",
       "\\item[(Intercept)] 100\n",
       "\\item[sourceCereal] -14.1\n",
       "\\item[typeLow] -20.8\n",
       "\\item[sourceCereal:typeLow] 18.8\n",
       "\\end{description*}\n"
      ],
      "text/markdown": [
       "(Intercept)\n",
       ":   100sourceCereal\n",
       ":   -14.1typeLow\n",
       ":   -20.8sourceCereal:typeLow\n",
       ":   18.8\n",
       "\n"
      ],
      "text/plain": [
       "         (Intercept)         sourceCereal              typeLow \n",
       "               100.0                -14.1                -20.8 \n",
       "sourceCereal:typeLow \n",
       "                18.8 "
      ]
     },
     "metadata": {},
     "output_type": "display_data"
    }
   ],
   "source": [
    "# extract estimated model coefficient\n",
    "coef(wg.aov)"
   ]
  },
  {
   "cell_type": "markdown",
   "metadata": {},
   "source": [
    "*Hint: Your interpretation should correspond to the design plot you made.*\n",
    "\n",
    "Source cereal has a lower mean; type low has a lower mean; when the source is cereal and the type is low, however, due to the interaction between the factors the mean is higher."
   ]
  },
  {
   "cell_type": "markdown",
   "metadata": {},
   "source": [
    "### 1.4 Plot interaction term\n",
    "\n",
    "The interaction term is marginally significant. Examine the interaction graphically by making an interaction plot. Does the plot support the anova results you obtained?\n",
    "\n",
    "According to the plot, the impact that the type has on the gain is lower when the source is cereal. However, in both cases the gain is lower for _type low_. \n",
    "\n",
    "We can also see that the difference is 100-80 for beef, and 86-84 for cereal.\n"
   ]
  },
  {
   "cell_type": "code",
   "execution_count": 26,
   "metadata": {},
   "outputs": [
    {
     "data": {
      "image/png": "[encoded data removed]",
      "text/plain": [
       "plot without title"
      ]
     },
     "metadata": {},
     "output_type": "display_data"
    }
   ],
   "source": [
    "interaction.plot(weightgain$type, weightgain$source, weightgain$weightgain)"
   ]
  },
  {
   "cell_type": "code",
   "execution_count": 31,
   "metadata": {},
   "outputs": [
    {
     "data": {
      "image/png": "[encoded data removed]",
      "text/plain": [
       "Plot with title “”"
      ]
     },
     "metadata": {},
     "output_type": "display_data"
    }
   ],
   "source": [
    "layout(matrix(1:4,ncol=2))\n",
    "plot(wg.aov)"
   ]
  },
  {
   "cell_type": "markdown",
   "metadata": {},
   "source": [
    "Normality -- By looking at the Q-Q plot, we can see it's mostly normal\n",
    "\n",
    "Homoscedasticity -- first plot, we can see that the standardized residuals have a similar variance for all factor combinations (plots in the second column are already standardized, so they give no info on this!)"
   ]
  },
  {
   "cell_type": "markdown",
   "metadata": {},
   "source": [
    "### 1.5 Summary of findings\n",
    "\n",
    "Observations are balanced in this case.\n",
    "\n",
    "The assumptions for applying ANOVA are met: The samples are normally distributed in all populations (seen from Normal Q-Q and the residuals vs fitted plots); homoscedasticity is also met because the variances are nearly the same (can see from residuals vs fitted plots); and we can assume they're independent.\n",
    "\n",
    "There is no significant interaction between the factors (p-value bigger than 0.05).\n",
    "\n",
    "The conclusion is that high protein diet results in weight gain independently from the source."
   ]
  },
  {
   "cell_type": "markdown",
   "metadata": {},
   "source": [
    "----------------------"
   ]
  },
  {
   "cell_type": "markdown",
   "metadata": {},
   "source": [
    "# 2 Foster feeding data"
   ]
  },
  {
   "cell_type": "markdown",
   "metadata": {},
   "source": [
    "### 2.1 Import and see some info about data"
   ]
  },
  {
   "cell_type": "code",
   "execution_count": 40,
   "metadata": {
    "collapsed": true
   },
   "outputs": [],
   "source": [
    "# Load data\n",
    "data(\"foster\", package = \"HSAUR3\")"
   ]
  },
  {
   "cell_type": "code",
   "execution_count": 41,
   "metadata": {},
   "outputs": [
    {
     "name": "stdout",
     "output_type": "stream",
     "text": [
      "'data.frame':\t61 obs. of  3 variables:\n",
      " $ litgen: Factor w/ 4 levels \"A\",\"B\",\"I\",\"J\": 1 1 1 1 1 1 1 1 1 1 ...\n",
      " $ motgen: Factor w/ 4 levels \"A\",\"B\",\"I\",\"J\": 1 1 1 1 1 2 2 2 3 3 ...\n",
      " $ weight: num  61.5 68.2 64 65 59.7 55 42 60.2 52.5 61.8 ...\n"
     ]
    }
   ],
   "source": [
    "# Compactly display data\n",
    "str(foster)"
   ]
  },
  {
   "cell_type": "code",
   "execution_count": 42,
   "metadata": {},
   "outputs": [
    {
     "data": {
      "text/plain": [
       "      motgen\n",
       "litgen A B I J\n",
       "     A 5 3 4 5\n",
       "     B 4 5 4 2\n",
       "     I 3 3 5 3\n",
       "     J 4 3 3 5"
      ]
     },
     "metadata": {},
     "output_type": "display_data"
    }
   ],
   "source": [
    "# See that data is unbalanced\n",
    "xtabs(~litgen+motgen, data=foster)"
   ]
  },
  {
   "cell_type": "code",
   "execution_count": 47,
   "metadata": {},
   "outputs": [
    {
     "data": {
      "text/plain": [
       " litgen motgen     weight     \n",
       " A:17   A:16   Min.   :36.30  \n",
       " B:15   B:14   1st Qu.:48.20  \n",
       " I:14   I:16   Median :54.00  \n",
       " J:15   J:15   Mean   :53.97  \n",
       "               3rd Qu.:60.30  \n",
       "               Max.   :69.80  "
      ]
     },
     "metadata": {},
     "output_type": "display_data"
    }
   ],
   "source": [
    "# Print data summary\n",
    "summary(foster)"
   ]
  },
  {
   "cell_type": "markdown",
   "metadata": {},
   "source": [
    "### 2.2 See mean and sd per group, and check for homoscedasticity"
   ]
  },
  {
   "cell_type": "code",
   "execution_count": 48,
   "metadata": {},
   "outputs": [
    {
     "data": {
      "text/html": [
       "<table>\n",
       "<thead><tr><th></th><th scope=col>A</th><th scope=col>B</th><th scope=col>I</th><th scope=col>J</th></tr></thead>\n",
       "<tbody>\n",
       "\t<tr><th scope=row>A</th><td>63.680  </td><td>52.40000</td><td>54.12500</td><td>48.96000</td></tr>\n",
       "\t<tr><th scope=row>B</th><td>52.325  </td><td>60.64000</td><td>53.92500</td><td>45.90000</td></tr>\n",
       "\t<tr><th scope=row>I</th><td>47.100  </td><td>64.36667</td><td>51.60000</td><td>49.43333</td></tr>\n",
       "\t<tr><th scope=row>J</th><td>54.350  </td><td>56.10000</td><td>54.53333</td><td>49.06000</td></tr>\n",
       "</tbody>\n",
       "</table>\n"
      ],
      "text/latex": [
       "\\begin{tabular}{r|llll}\n",
       "  & A & B & I & J\\\\\n",
       "\\hline\n",
       "\tA & 63.680   & 52.40000 & 54.12500 & 48.96000\\\\\n",
       "\tB & 52.325   & 60.64000 & 53.92500 & 45.90000\\\\\n",
       "\tI & 47.100   & 64.36667 & 51.60000 & 49.43333\\\\\n",
       "\tJ & 54.350   & 56.10000 & 54.53333 & 49.06000\\\\\n",
       "\\end{tabular}\n"
      ],
      "text/markdown": [
       "\n",
       "| <!--/--> | A | B | I | J | \n",
       "|---|---|---|---|\n",
       "| A | 63.680   | 52.40000 | 54.12500 | 48.96000 | \n",
       "| B | 52.325   | 60.64000 | 53.92500 | 45.90000 | \n",
       "| I | 47.100   | 64.36667 | 51.60000 | 49.43333 | \n",
       "| J | 54.350   | 56.10000 | 54.53333 | 49.06000 | \n",
       "\n",
       "\n"
      ],
      "text/plain": [
       "  A      B        I        J       \n",
       "A 63.680 52.40000 54.12500 48.96000\n",
       "B 52.325 60.64000 53.92500 45.90000\n",
       "I 47.100 64.36667 51.60000 49.43333\n",
       "J 54.350 56.10000 54.53333 49.06000"
      ]
     },
     "metadata": {},
     "output_type": "display_data"
    }
   ],
   "source": [
    "tapply(foster$weight, list(foster$litgen, foster$motgen), mean)"
   ]
  },
  {
   "cell_type": "code",
   "execution_count": 49,
   "metadata": {},
   "outputs": [
    {
     "data": {
      "text/html": [
       "<table>\n",
       "<thead><tr><th></th><th scope=col>A</th><th scope=col>B</th><th scope=col>I</th><th scope=col>J</th></tr></thead>\n",
       "<tbody>\n",
       "\t<tr><th scope=row>A</th><td> 3.273683</td><td>9.374433 </td><td>5.321889 </td><td>8.760594 </td></tr>\n",
       "\t<tr><th scope=row>B</th><td> 5.533158</td><td>5.647389 </td><td>5.114277 </td><td>7.636753 </td></tr>\n",
       "\t<tr><th scope=row>I</th><td>18.103315</td><td>7.124839 </td><td>8.624964 </td><td>5.372461 </td></tr>\n",
       "\t<tr><th scope=row>J</th><td> 5.325098</td><td>3.351119 </td><td>8.376953 </td><td>5.335541 </td></tr>\n",
       "</tbody>\n",
       "</table>\n"
      ],
      "text/latex": [
       "\\begin{tabular}{r|llll}\n",
       "  & A & B & I & J\\\\\n",
       "\\hline\n",
       "\tA &  3.273683 & 9.374433  & 5.321889  & 8.760594 \\\\\n",
       "\tB &  5.533158 & 5.647389  & 5.114277  & 7.636753 \\\\\n",
       "\tI & 18.103315 & 7.124839  & 8.624964  & 5.372461 \\\\\n",
       "\tJ &  5.325098 & 3.351119  & 8.376953  & 5.335541 \\\\\n",
       "\\end{tabular}\n"
      ],
      "text/markdown": [
       "\n",
       "| <!--/--> | A | B | I | J | \n",
       "|---|---|---|---|\n",
       "| A |  3.273683 | 9.374433  | 5.321889  | 8.760594  | \n",
       "| B |  5.533158 | 5.647389  | 5.114277  | 7.636753  | \n",
       "| I | 18.103315 | 7.124839  | 8.624964  | 5.372461  | \n",
       "| J |  5.325098 | 3.351119  | 8.376953  | 5.335541  | \n",
       "\n",
       "\n"
      ],
      "text/plain": [
       "  A         B        I        J       \n",
       "A  3.273683 9.374433 5.321889 8.760594\n",
       "B  5.533158 5.647389 5.114277 7.636753\n",
       "I 18.103315 7.124839 8.624964 5.372461\n",
       "J  5.325098 3.351119 8.376953 5.335541"
      ]
     },
     "metadata": {},
     "output_type": "display_data"
    }
   ],
   "source": [
    "tapply(foster$weight, list(foster$litgen, foster$motgen), sd)"
   ]
  },
  {
   "cell_type": "markdown",
   "metadata": {},
   "source": [
    "*Homoscedasticity: The k populations have the same\n",
    "variance*\n",
    "\n",
    "**Does the assumption of homoscedasticity appear to hold for these data?**\n",
    "No, look for example at (I,A)\n",
    "\n",
    "**Do there appear to be differences in mean weight gain for these\n",
    "two factors?**\n",
    "Yes, but it's not easy to tell if they're significantly different.\n"
   ]
  },
  {
   "cell_type": "code",
   "execution_count": 50,
   "metadata": {},
   "outputs": [
    {
     "data": {
      "image/png": "[encoded data removed]",
      "text/plain": [
       "plot without title"
      ]
     },
     "metadata": {},
     "output_type": "display_data"
    }
   ],
   "source": [
    "plot.design(foster)"
   ]
  },
  {
   "cell_type": "markdown",
   "metadata": {},
   "source": [
    "Seems like `motgen` is going to have a greater effect on the weight than `litgen`."
   ]
  },
  {
   "cell_type": "markdown",
   "metadata": {},
   "source": [
    "###  2.3 Fit ANOVA"
   ]
  },
  {
   "cell_type": "markdown",
   "metadata": {},
   "source": [
    "#### 2.3.1 Fit first ANOVA"
   ]
  },
  {
   "cell_type": "code",
   "execution_count": 51,
   "metadata": {},
   "outputs": [
    {
     "data": {
      "text/plain": [
       "              Df Sum Sq Mean Sq F value  Pr(>F)   \n",
       "litgen         3   60.2   20.05   0.370 0.77522   \n",
       "motgen         3  775.1  258.36   4.763 0.00574 **\n",
       "litgen:motgen  9  824.1   91.56   1.688 0.12005   \n",
       "Residuals     45 2440.8   54.24                   \n",
       "---\n",
       "Signif. codes:  0 ‘***’ 0.001 ‘**’ 0.01 ‘*’ 0.05 ‘.’ 0.1 ‘ ’ 1"
      ]
     },
     "metadata": {},
     "output_type": "display_data"
    }
   ],
   "source": [
    "model.1 <- aov(weight ~ litgen * motgen, data = foster)\n",
    "summary(model.1)"
   ]
  },
  {
   "cell_type": "code",
   "execution_count": 53,
   "metadata": {},
   "outputs": [
    {
     "data": {
      "text/html": [
       "<dl class=dl-horizontal>\n",
       "\t<dt>(Intercept)</dt>\n",
       "\t\t<dd>63.68</dd>\n",
       "\t<dt>litgenB</dt>\n",
       "\t\t<dd>-11.355</dd>\n",
       "\t<dt>litgenI</dt>\n",
       "\t\t<dd>-16.58</dd>\n",
       "\t<dt>litgenJ</dt>\n",
       "\t\t<dd>-9.32999999999999</dd>\n",
       "\t<dt>motgenB</dt>\n",
       "\t\t<dd>-11.28</dd>\n",
       "\t<dt>motgenI</dt>\n",
       "\t\t<dd>-9.555</dd>\n",
       "\t<dt>motgenJ</dt>\n",
       "\t\t<dd>-14.72</dd>\n",
       "\t<dt>litgenB:motgenB</dt>\n",
       "\t\t<dd>19.595</dd>\n",
       "\t<dt>litgenI:motgenB</dt>\n",
       "\t\t<dd>28.5466666666666</dd>\n",
       "\t<dt>litgenJ:motgenB</dt>\n",
       "\t\t<dd>13.03</dd>\n",
       "\t<dt>litgenB:motgenI</dt>\n",
       "\t\t<dd>11.155</dd>\n",
       "\t<dt>litgenI:motgenI</dt>\n",
       "\t\t<dd>14.055</dd>\n",
       "\t<dt>litgenJ:motgenI</dt>\n",
       "\t\t<dd>9.73833333333333</dd>\n",
       "\t<dt>litgenB:motgenJ</dt>\n",
       "\t\t<dd>8.295</dd>\n",
       "\t<dt>litgenI:motgenJ</dt>\n",
       "\t\t<dd>17.0533333333333</dd>\n",
       "\t<dt>litgenJ:motgenJ</dt>\n",
       "\t\t<dd>9.42999999999999</dd>\n",
       "</dl>\n"
      ],
      "text/latex": [
       "\\begin{description*}\n",
       "\\item[(Intercept)] 63.68\n",
       "\\item[litgenB] -11.355\n",
       "\\item[litgenI] -16.58\n",
       "\\item[litgenJ] -9.32999999999999\n",
       "\\item[motgenB] -11.28\n",
       "\\item[motgenI] -9.555\n",
       "\\item[motgenJ] -14.72\n",
       "\\item[litgenB:motgenB] 19.595\n",
       "\\item[litgenI:motgenB] 28.5466666666666\n",
       "\\item[litgenJ:motgenB] 13.03\n",
       "\\item[litgenB:motgenI] 11.155\n",
       "\\item[litgenI:motgenI] 14.055\n",
       "\\item[litgenJ:motgenI] 9.73833333333333\n",
       "\\item[litgenB:motgenJ] 8.295\n",
       "\\item[litgenI:motgenJ] 17.0533333333333\n",
       "\\item[litgenJ:motgenJ] 9.42999999999999\n",
       "\\end{description*}\n"
      ],
      "text/markdown": [
       "(Intercept)\n",
       ":   63.68litgenB\n",
       ":   -11.355litgenI\n",
       ":   -16.58litgenJ\n",
       ":   -9.32999999999999motgenB\n",
       ":   -11.28motgenI\n",
       ":   -9.555motgenJ\n",
       ":   -14.72litgenB:motgenB\n",
       ":   19.595litgenI:motgenB\n",
       ":   28.5466666666666litgenJ:motgenB\n",
       ":   13.03litgenB:motgenI\n",
       ":   11.155litgenI:motgenI\n",
       ":   14.055litgenJ:motgenI\n",
       ":   9.73833333333333litgenB:motgenJ\n",
       ":   8.295litgenI:motgenJ\n",
       ":   17.0533333333333litgenJ:motgenJ\n",
       ":   9.42999999999999\n",
       "\n"
      ],
      "text/plain": [
       "    (Intercept)         litgenB         litgenI         litgenJ         motgenB \n",
       "      63.680000      -11.355000      -16.580000       -9.330000      -11.280000 \n",
       "        motgenI         motgenJ litgenB:motgenB litgenI:motgenB litgenJ:motgenB \n",
       "      -9.555000      -14.720000       19.595000       28.546667       13.030000 \n",
       "litgenB:motgenI litgenI:motgenI litgenJ:motgenI litgenB:motgenJ litgenI:motgenJ \n",
       "      11.155000       14.055000        9.738333        8.295000       17.053333 \n",
       "litgenJ:motgenJ \n",
       "       9.430000 "
      ]
     },
     "metadata": {},
     "output_type": "display_data"
    }
   ],
   "source": [
    "# extract estimated model coefficients\n",
    "coef(model.1)"
   ]
  },
  {
   "cell_type": "markdown",
   "metadata": {},
   "source": [
    "#### 2.3.2 Fit second ANOVA"
   ]
  },
  {
   "cell_type": "code",
   "execution_count": 52,
   "metadata": {},
   "outputs": [
    {
     "data": {
      "text/plain": [
       "              Df Sum Sq Mean Sq F value  Pr(>F)   \n",
       "motgen         3  771.6  257.20   4.742 0.00587 **\n",
       "litgen         3   63.6   21.21   0.391 0.76000   \n",
       "motgen:litgen  9  824.1   91.56   1.688 0.12005   \n",
       "Residuals     45 2440.8   54.24                   \n",
       "---\n",
       "Signif. codes:  0 ‘***’ 0.001 ‘**’ 0.01 ‘*’ 0.05 ‘.’ 0.1 ‘ ’ 1"
      ]
     },
     "metadata": {},
     "output_type": "display_data"
    }
   ],
   "source": [
    "model.2 <- aov(weight ~ motgen * litgen, data = foster)\n",
    "summary(model.2)"
   ]
  },
  {
   "cell_type": "code",
   "execution_count": 54,
   "metadata": {},
   "outputs": [
    {
     "data": {
      "text/html": [
       "<dl class=dl-horizontal>\n",
       "\t<dt>(Intercept)</dt>\n",
       "\t\t<dd>63.68</dd>\n",
       "\t<dt>motgenB</dt>\n",
       "\t\t<dd>-11.28</dd>\n",
       "\t<dt>motgenI</dt>\n",
       "\t\t<dd>-9.55500000000001</dd>\n",
       "\t<dt>motgenJ</dt>\n",
       "\t\t<dd>-14.72</dd>\n",
       "\t<dt>litgenB</dt>\n",
       "\t\t<dd>-11.355</dd>\n",
       "\t<dt>litgenI</dt>\n",
       "\t\t<dd>-16.58</dd>\n",
       "\t<dt>litgenJ</dt>\n",
       "\t\t<dd>-9.33000000000001</dd>\n",
       "\t<dt>motgenB:litgenB</dt>\n",
       "\t\t<dd>19.595</dd>\n",
       "\t<dt>motgenI:litgenB</dt>\n",
       "\t\t<dd>11.155</dd>\n",
       "\t<dt>motgenJ:litgenB</dt>\n",
       "\t\t<dd>8.295</dd>\n",
       "\t<dt>motgenB:litgenI</dt>\n",
       "\t\t<dd>28.5466666666667</dd>\n",
       "\t<dt>motgenI:litgenI</dt>\n",
       "\t\t<dd>14.055</dd>\n",
       "\t<dt>motgenJ:litgenI</dt>\n",
       "\t\t<dd>17.0533333333333</dd>\n",
       "\t<dt>motgenB:litgenJ</dt>\n",
       "\t\t<dd>13.03</dd>\n",
       "\t<dt>motgenI:litgenJ</dt>\n",
       "\t\t<dd>9.73833333333334</dd>\n",
       "\t<dt>motgenJ:litgenJ</dt>\n",
       "\t\t<dd>9.42999999999999</dd>\n",
       "</dl>\n"
      ],
      "text/latex": [
       "\\begin{description*}\n",
       "\\item[(Intercept)] 63.68\n",
       "\\item[motgenB] -11.28\n",
       "\\item[motgenI] -9.55500000000001\n",
       "\\item[motgenJ] -14.72\n",
       "\\item[litgenB] -11.355\n",
       "\\item[litgenI] -16.58\n",
       "\\item[litgenJ] -9.33000000000001\n",
       "\\item[motgenB:litgenB] 19.595\n",
       "\\item[motgenI:litgenB] 11.155\n",
       "\\item[motgenJ:litgenB] 8.295\n",
       "\\item[motgenB:litgenI] 28.5466666666667\n",
       "\\item[motgenI:litgenI] 14.055\n",
       "\\item[motgenJ:litgenI] 17.0533333333333\n",
       "\\item[motgenB:litgenJ] 13.03\n",
       "\\item[motgenI:litgenJ] 9.73833333333334\n",
       "\\item[motgenJ:litgenJ] 9.42999999999999\n",
       "\\end{description*}\n"
      ],
      "text/markdown": [
       "(Intercept)\n",
       ":   63.68motgenB\n",
       ":   -11.28motgenI\n",
       ":   -9.55500000000001motgenJ\n",
       ":   -14.72litgenB\n",
       ":   -11.355litgenI\n",
       ":   -16.58litgenJ\n",
       ":   -9.33000000000001motgenB:litgenB\n",
       ":   19.595motgenI:litgenB\n",
       ":   11.155motgenJ:litgenB\n",
       ":   8.295motgenB:litgenI\n",
       ":   28.5466666666667motgenI:litgenI\n",
       ":   14.055motgenJ:litgenI\n",
       ":   17.0533333333333motgenB:litgenJ\n",
       ":   13.03motgenI:litgenJ\n",
       ":   9.73833333333334motgenJ:litgenJ\n",
       ":   9.42999999999999\n",
       "\n"
      ],
      "text/plain": [
       "    (Intercept)         motgenB         motgenI         motgenJ         litgenB \n",
       "      63.680000      -11.280000       -9.555000      -14.720000      -11.355000 \n",
       "        litgenI         litgenJ motgenB:litgenB motgenI:litgenB motgenJ:litgenB \n",
       "     -16.580000       -9.330000       19.595000       11.155000        8.295000 \n",
       "motgenB:litgenI motgenI:litgenI motgenJ:litgenI motgenB:litgenJ motgenI:litgenJ \n",
       "      28.546667       14.055000       17.053333       13.030000        9.738333 \n",
       "motgenJ:litgenJ \n",
       "       9.430000 "
      ]
     },
     "metadata": {},
     "output_type": "display_data"
    }
   ],
   "source": [
    "# extract estimated model coefficients\n",
    "coef(model.2)"
   ]
  },
  {
   "cell_type": "markdown",
   "metadata": {},
   "source": [
    "Are there large differences between the anova results for the 2 models? Not really (see below)\n",
    "\n",
    "Are there any significant effects? Yes, `motgen`\n",
    "\n",
    "`\n",
    "(Intercept) 63.68\n",
    "motgenB\n",
    "-11.28\n",
    "motgenI\n",
    "-9.555\n",
    "motgenJ\n",
    "-14.72\n",
    "litgenB\n",
    "-11.355\n",
    "litgenI\n",
    "-16.58\n",
    "litgenJ\n",
    "-9.32999999999999\n",
    "litgenB:motgenB\n",
    "19.595\n",
    "litgenB:motgenI\n",
    "11.155\n",
    "litgenB:motgenJ\n",
    "8.295\n",
    "litgenI:motgenB\n",
    "28.5466666666666\n",
    "litgenI:motgenI\n",
    "14.055\n",
    "litgenI:motgenJ\n",
    "17.0533333333333\n",
    "litgenJ:motgenB\n",
    "13.03\n",
    "litgenJ:motgenI\n",
    "9.73833333333333\n",
    "litgenJ:motgenJ\n",
    "9.42999999999999\n",
    "`\n",
    "\n",
    "`\n",
    "(Intercept)\n",
    "63.68\n",
    "motgenB\n",
    "-11.28\n",
    "motgenI\n",
    "-9.55500000000001\n",
    "motgenJ\n",
    "-14.72\n",
    "litgenB\n",
    "-11.355\n",
    "litgenI\n",
    "-16.58\n",
    "litgenJ\n",
    "-9.33000000000001\n",
    "motgenB:litgenB\n",
    "19.595\n",
    "motgenI:litgenB\n",
    "11.155\n",
    "motgenJ:litgenB\n",
    "8.295\n",
    "motgenB:litgenI\n",
    "28.5466666666667\n",
    "motgenI:litgenI\n",
    "14.055\n",
    "motgenJ:litgenI\n",
    "17.0533333333333\n",
    "motgenB:litgenJ\n",
    "13.03\n",
    "motgenI:litgenJ\n",
    "9.73833333333334\n",
    "motgenJ:litgenJ\n",
    "9.42999999999999`"
   ]
  },
  {
   "cell_type": "code",
   "execution_count": 58,
   "metadata": {},
   "outputs": [
    {
     "data": {
      "text/plain": [
       "  Tukey multiple comparisons of means\n",
       "    95% family-wise confidence level\n",
       "\n",
       "Fit: aov(formula = weight ~ litgen * motgen, data = foster)\n",
       "\n",
       "$motgen\n",
       "         diff        lwr        upr     p adj\n",
       "B-A  3.330369  -3.859729 10.5204672 0.6078581\n",
       "I-A -1.895574  -8.841869  5.0507207 0.8853702\n",
       "J-A -6.566168 -13.627285  0.4949498 0.0767540\n",
       "I-B -5.225943 -12.416041  1.9641552 0.2266493\n",
       "J-B -9.896537 -17.197624 -2.5954489 0.0040509\n",
       "J-I -4.670593 -11.731711  2.3905240 0.3035490\n"
      ]
     },
     "metadata": {},
     "output_type": "display_data"
    }
   ],
   "source": [
    "foster.hsd <- TukeyHSD(model.1, \"motgen\")\n",
    "foster.hsd"
   ]
  },
  {
   "cell_type": "code",
   "execution_count": 59,
   "metadata": {
    "collapsed": true
   },
   "outputs": [],
   "source": [
    "help(TukeyHSD)"
   ]
  },
  {
   "cell_type": "code",
   "execution_count": 56,
   "metadata": {},
   "outputs": [
    {
     "data": {
      "image/png": "[encoded data removed]",
      "text/plain": [
       "Plot with title “95% family-wise confidence level\n",
       "”"
      ]
     },
     "metadata": {},
     "output_type": "display_data"
    }
   ],
   "source": [
    "plot(foster.hsd)"
   ]
  },
  {
   "cell_type": "markdown",
   "metadata": {},
   "source": [
    "In this case the p-values give the significance level at which 0 is included, ie there is no difference in means. It is only different for J-B, although for J-A it's almost the case too."
   ]
  }
 ],
 "metadata": {
  "kernelspec": {
   "display_name": "R",
   "language": "R",
   "name": "ir"
  },
  "language_info": {
   "codemirror_mode": "r",
   "file_extension": ".r",
   "mimetype": "text/x-r-source",
   "name": "R",
   "pygments_lexer": "r",
   "version": "3.4.2"
  }
 },
 "nbformat": 4,
 "nbformat_minor": 2
}

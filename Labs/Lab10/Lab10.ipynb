{
 "cells": [
  {
   "cell_type": "markdown",
   "metadata": {},
   "source": [
    "### Smoking data"
   ]
  },
  {
   "cell_type": "code",
   "execution_count": 4,
   "metadata": {},
   "outputs": [
    {
     "name": "stderr",
     "output_type": "stream",
     "text": [
      "Loading required package: tools\n"
     ]
    }
   ],
   "source": [
    "library(HSAUR3)"
   ]
  },
  {
   "cell_type": "code",
   "execution_count": 10,
   "metadata": {
    "collapsed": true
   },
   "outputs": [],
   "source": [
    "help(smoking)"
   ]
  },
  {
   "cell_type": "code",
   "execution_count": 6,
   "metadata": {},
   "outputs": [],
   "source": [
    "data(\"smoking\")"
   ]
  },
  {
   "cell_type": "markdown",
   "metadata": {},
   "source": [
    "A data frame with 26 observations (studies) on the following 4 variables.\n",
    "\n",
    "`qt`: the number of treated subjetcs who stopped smoking.\n",
    "\n",
    "`tt`: the total number of treated subjects.\n",
    "\n",
    "`qc`: the number of subjetcs who stopped smoking without being treated.\n",
    "\n",
    "`tc`: the total number of subject not being treated.\n",
    "\n"
   ]
  },
  {
   "cell_type": "markdown",
   "metadata": {},
   "source": [
    "*The data are in the form of a\n",
    "2 x 2 table, so we will be analyzing using the odds ratio.*"
   ]
  },
  {
   "cell_type": "markdown",
   "metadata": {},
   "source": [
    "* Make exploratory boxplots separately for each group as in the smoking help."
   ]
  },
  {
   "cell_type": "code",
   "execution_count": 11,
   "metadata": {},
   "outputs": [
    {
     "data": {
      "image/png": "[encoded data removed]",
      "text/plain": [
       "plot without title"
      ]
     },
     "metadata": {},
     "output_type": "display_data"
    }
   ],
   "source": [
    "boxplot(smoking$qt/smoking$tt,\n",
    "      smoking$qc/smoking$tc,\n",
    "      names = c(\"Treated\", \"Control\"), ylab = \"Percent Quitters\")"
   ]
  },
  {
   "cell_type": "markdown",
   "metadata": {},
   "source": [
    "* The measure of difference (effect size) that we consider here is the odds ratio. We will first calculate this 'by hand' in R. We get the pooled odds ratio (across the studies) as:"
   ]
  },
  {
   "cell_type": "code",
   "execution_count": 17,
   "metadata": {},
   "outputs": [
    {
     "data": {
      "text/html": [
       "<pre class=language-r><code>function (x) \n",
       "(x[1] * (x[4] - x[3]))/((x[2] - x[1]) * x[3])</code></pre>"
      ],
      "text/latex": [
       "\\begin{minted}{r}\n",
       "function (x) \n",
       "(x{[}1{]} * (x{[}4{]} - x{[}3{]}))/((x{[}2{]} - x{[}1{]}) * x{[}3{]})\n",
       "\\end{minted}"
      ],
      "text/markdown": [
       "```r\n",
       "function (x) \n",
       "(x[1] * (x[4] - x[3]))/((x[2] - x[1]) * x[3])\n",
       "```"
      ],
      "text/plain": [
       "function(x) (x[1] * (x[4] - x[3])) / ((x[2] - x[1]) * x[3])"
      ]
     },
     "metadata": {},
     "output_type": "display_data"
    },
    {
     "data": {
      "text/html": [
       "<pre class=language-r><code>function (x) \n",
       "((x[2] - x[1]) * x[3])/sum(x)</code></pre>"
      ],
      "text/latex": [
       "\\begin{minted}{r}\n",
       "function (x) \n",
       "((x{[}2{]} - x{[}1{]}) * x{[}3{]})/sum(x)\n",
       "\\end{minted}"
      ],
      "text/markdown": [
       "```r\n",
       "function (x) \n",
       "((x[2] - x[1]) * x[3])/sum(x)\n",
       "```"
      ],
      "text/plain": [
       "function(x) ((x[2] - x[1]) * x[3]) /sum(x)"
      ]
     },
     "metadata": {},
     "output_type": "display_data"
    }
   ],
   "source": [
    "odds <- function(x) (x[1] * (x[4] - x[3])) / ((x[2] - x[1]) * x[3])\n",
    "odds\n",
    "weight <- function(x) ((x[2] - x[1]) * x[3]) /sum(x)\n",
    "weight"
   ]
  },
  {
   "cell_type": "code",
   "execution_count": 18,
   "metadata": {},
   "outputs": [
    {
     "data": {
      "text/html": [
       "1.66415926197638"
      ],
      "text/latex": [
       "1.66415926197638"
      ],
      "text/markdown": [
       "1.66415926197638"
      ],
      "text/plain": [
       "[1] 1.664159"
      ]
     },
     "metadata": {},
     "output_type": "display_data"
    }
   ],
   "source": [
    "W <- apply(smoking, 1, weight)\n",
    "Y <- apply(smoking, 1, odds)\n",
    "sum(W * Y) / sum(W)"
   ]
  },
  {
   "cell_type": "markdown",
   "metadata": {},
   "source": [
    "* Try to understand how the 2 functions that you created above (function(x) ... ), and what the W and Y variables are for."
   ]
  },
  {
   "cell_type": "markdown",
   "metadata": {},
   "source": [
    "Odds:\n",
    "\n",
    "(nb. treated who stopped / nb. untreated who stopped) * \n",
    "\n",
    "(nb. untreated who didn't stop)/nb. treated who didn't stop)"
   ]
  },
  {
   "cell_type": "markdown",
   "metadata": {},
   "source": [
    "Weight:\n",
    "\n",
    "nb. treated who didn't stop * nb. untreated who didn't stop / all"
   ]
  },
  {
   "cell_type": "markdown",
   "metadata": {},
   "source": [
    "* There is an R package called rmeta, and we can use functions in this package to simplify the analysis. You can look at the results using the summary command on smokingOR."
   ]
  },
  {
   "cell_type": "code",
   "execution_count": 23,
   "metadata": {},
   "outputs": [],
   "source": [
    "library(rmeta)"
   ]
  },
  {
   "cell_type": "code",
   "execution_count": 24,
   "metadata": {
    "collapsed": true
   },
   "outputs": [],
   "source": [
    "smokingOR <- meta.MH(smoking[[\"tt\"]], smoking[[\"tc\"]], smoking[[\"qt\"]], smoking[[\"qc\"]], names =\n",
    "rownames(smoking))"
   ]
  },
  {
   "cell_type": "code",
   "execution_count": 25,
   "metadata": {},
   "outputs": [
    {
     "data": {
      "text/plain": [
       "Fixed effects ( Mantel-Haenszel ) meta-analysis\n",
       "Call: meta.MH(ntrt = smoking[[\"tt\"]], nctrl = smoking[[\"tc\"]], ptrt = smoking[[\"qt\"]], \n",
       "    pctrl = smoking[[\"qc\"]], names = rownames(smoking))\n",
       "------------------------------------\n",
       "               OR (lower  95% upper)\n",
       "Blondal89    1.85    0.99       3.46\n",
       "Campbell91   0.98    0.50       1.92\n",
       "Fagerstrom82 1.76    0.80       3.89\n",
       "Fee82        1.53    0.77       3.05\n",
       "Garcia89     2.95    1.01       8.62\n",
       "Garvey00     2.49    1.43       4.34\n",
       "Gross95      2.62    1.03       6.71\n",
       "Hall85       2.03    0.78       5.29\n",
       "Hall87       2.82    1.33       5.99\n",
       "Hall96       0.87    0.46       1.64\n",
       "Hjalmarson84 2.17    1.10       4.28\n",
       "Huber88      6.00    2.57      14.01\n",
       "Jarvis82     3.33    1.37       8.08\n",
       "Jensen91     1.43    0.84       2.44\n",
       "Killen84     1.33    0.43       4.15\n",
       "Killen90     1.23    0.93       1.64\n",
       "Malcolm80    3.52    0.85      14.54\n",
       "McGovern92   1.17    0.70       1.94\n",
       "Nakamura90   3.82    1.15      12.71\n",
       "Niaura94     1.34    0.35       5.19\n",
       "Pirie92      1.84    1.20       2.82\n",
       "Puska79      1.46    0.78       2.75\n",
       "Schneider85  1.71    0.52       5.62\n",
       "Tonnesen88   2.12    0.93       4.86\n",
       "Villa99      1.76    0.55       5.64\n",
       "Zelman92     1.46    0.68       3.14\n",
       "------------------------------------\n",
       "Mantel-Haenszel OR =1.67 95% CI ( 1.47,1.9 )\n",
       "Test for heterogeneity: X^2( 25 ) = 34.9 ( p-value 0.09 )"
      ]
     },
     "metadata": {},
     "output_type": "display_data"
    }
   ],
   "source": [
    "summary(smokingOR)"
   ]
  },
  {
   "cell_type": "markdown",
   "metadata": {},
   "source": [
    "* What is the combined estimate of the odds ratio? It should be about the same (rounded) as what you computed above. Is the heterogeneity test significant?"
   ]
  },
  {
   "cell_type": "markdown",
   "metadata": {},
   "source": [
    "`Mantel-Haenszel OR =1.67 95% CI ( 1.47,1.9 )`: Yes, it's about the same\n",
    "\n",
    "`Test for heterogeneity: X^2( 25 ) = 34.9 ( p-value 0.09 )`: Not significant at a level of significance of 0.05 -- means that we dont have enough significance to confirm that our data is heterogeneous."
   ]
  },
  {
   "cell_type": "markdown",
   "metadata": {},
   "source": [
    "* Make a forest plot using the plot command on smokingOR. What can you conclude from this plot?"
   ]
  },
  {
   "cell_type": "code",
   "execution_count": 28,
   "metadata": {},
   "outputs": [
    {
     "data": {
      "image/png": "[encoded data removed]",
      "text/plain": [
       "plot without title"
      ]
     },
     "metadata": {},
     "output_type": "display_data"
    }
   ],
   "source": [
    "plot(smokingOR)"
   ]
  },
  {
   "cell_type": "markdown",
   "metadata": {},
   "source": [
    "* If interested, you can get more information on making and customizing forest plots by reading the help for metaplot. Another useful resource is the vignette for the forestplot package."
   ]
  },
  {
   "cell_type": "markdown",
   "metadata": {},
   "source": [
    "* We now quantify the evidence from the forest plot by getting an overall estimate of the odds ratio. We have already done a fixed effects meta-analysis; we will now carry out a random effects meta-analysis to compare the results:"
   ]
  },
  {
   "cell_type": "code",
   "execution_count": 34,
   "metadata": {
    "collapsed": true
   },
   "outputs": [],
   "source": [
    "smokingDSL <- meta.DSL(smoking[[\"tt\"]], smoking[[\"tc\"]], smoking[[\"qt\"]], smoking[[\"qc\"]], names =\n",
    "rownames(smoking))"
   ]
  },
  {
   "cell_type": "markdown",
   "metadata": {},
   "source": [
    "* To get a graphical assessment for the presence of publication bias, you can make a funnel plot:"
   ]
  },
  {
   "cell_type": "code",
   "execution_count": 38,
   "metadata": {},
   "outputs": [
    {
     "data": {
      "image/png": "[encoded data removed]",
      "text/plain": [
       "plot without title"
      ]
     },
     "metadata": {},
     "output_type": "display_data"
    }
   ],
   "source": [
    "funnelplot(smokingDSL$logs, smokingDSL$selogs, summ = smokingDSL$logDSL, xlim = c(-1.,1.7))\n",
    "abline(v = 0, lty = 2)"
   ]
  },
  {
   "cell_type": "markdown",
   "metadata": {},
   "source": [
    "Its biased, we can see that there's a positive effect. There are only two studies with a negative result (odds ratio lower than 1). The funnel should be drawn centered in 0, and we can see that the two lines drawn do not coincide."
   ]
  },
  {
   "cell_type": "code",
   "execution_count": 41,
   "metadata": {},
   "outputs": [
    {
     "data": {
      "text/html": [
       "1.84213567655312"
      ],
      "text/latex": [
       "1.84213567655312"
      ],
      "text/markdown": [
       "1.84213567655312"
      ],
      "text/plain": [
       "[1] 1.842136"
      ]
     },
     "metadata": {},
     "output_type": "display_data"
    }
   ],
   "source": [
    "# The effect is the odds ratio in log scale\n",
    "log(6.31)"
   ]
  },
  {
   "cell_type": "markdown",
   "metadata": {},
   "source": [
    "* Does there appear to be evidence of publication bias?"
   ]
  },
  {
   "cell_type": "markdown",
   "metadata": {},
   "source": [
    "Yes"
   ]
  },
  {
   "cell_type": "markdown",
   "metadata": {},
   "source": [
    "* With a little more work, we can apply Fisher's method of p-value combination. The package metap computes a number of different methods for combining p-values. You don't need to read this now, but this tutorial gives a lot of detailed information on the various methods."
   ]
  },
  {
   "cell_type": "code",
   "execution_count": 32,
   "metadata": {},
   "outputs": [],
   "source": [
    "library(metap)"
   ]
  },
  {
   "cell_type": "code",
   "execution_count": 33,
   "metadata": {},
   "outputs": [
    {
     "data": {
      "text/html": [
       "<ol class=list-inline>\n",
       "\t<li>37</li>\n",
       "\t<li>92</li>\n",
       "\t<li>24</li>\n",
       "\t<li>90</li>\n",
       "\t<li>21</li>\n",
       "\t<li>107</li>\n",
       "\t<li>21</li>\n",
       "\t<li>105</li>\n",
       "\t<li>30</li>\n",
       "\t<li>50</li>\n",
       "\t<li>23</li>\n",
       "\t<li>50</li>\n",
       "\t<li>23</li>\n",
       "\t<li>180</li>\n",
       "\t<li>15</li>\n",
       "\t<li>172</li>\n",
       "\t<li>21</li>\n",
       "\t<li>68</li>\n",
       "\t<li>5</li>\n",
       "\t<li>38</li>\n",
       "\t<li>75</li>\n",
       "\t<li>405</li>\n",
       "\t<li>17</li>\n",
       "\t<li>203</li>\n",
       "\t<li>37</li>\n",
       "\t<li>131</li>\n",
       "\t<li>6</li>\n",
       "\t<li>46</li>\n",
       "\t<li>18</li>\n",
       "\t<li>41</li>\n",
       "\t<li>10</li>\n",
       "\t<li>36</li>\n",
       "\t<li>30</li>\n",
       "\t<li>71</li>\n",
       "\t<li>14</li>\n",
       "\t<li>68</li>\n",
       "\t<li>24</li>\n",
       "\t<li>98</li>\n",
       "\t<li>28</li>\n",
       "\t<li>103</li>\n",
       "\t<li>31</li>\n",
       "\t<li>106</li>\n",
       "\t<li>16</li>\n",
       "\t<li>100</li>\n",
       "\t<li>31</li>\n",
       "\t<li>54</li>\n",
       "\t<li>11</li>\n",
       "\t<li>60</li>\n",
       "\t<li>22</li>\n",
       "\t<li>58</li>\n",
       "\t<li>9</li>\n",
       "\t<li>58</li>\n",
       "\t<li>90</li>\n",
       "\t<li>211</li>\n",
       "\t<li>28</li>\n",
       "\t<li>82</li>\n",
       "\t<li>16</li>\n",
       "\t<li>44</li>\n",
       "\t<li>6</li>\n",
       "\t<li>20</li>\n",
       "\t<li>129</li>\n",
       "\t<li>600</li>\n",
       "\t<li>112</li>\n",
       "\t<li>617</li>\n",
       "\t<li>6</li>\n",
       "\t<li>73</li>\n",
       "\t<li>3</li>\n",
       "\t<li>121</li>\n",
       "\t<li>51</li>\n",
       "\t<li>146</li>\n",
       "\t<li>40</li>\n",
       "\t<li>127</li>\n",
       "\t<li>13</li>\n",
       "\t<li>30</li>\n",
       "\t<li>5</li>\n",
       "\t<li>30</li>\n",
       "\t<li>5</li>\n",
       "\t<li>84</li>\n",
       "\t<li>4</li>\n",
       "\t<li>89</li>\n",
       "\t<li>75</li>\n",
       "\t<li>206</li>\n",
       "\t<li>50</li>\n",
       "\t<li>211</li>\n",
       "\t<li>29</li>\n",
       "\t<li>116</li>\n",
       "\t<li>21</li>\n",
       "\t<li>113</li>\n",
       "\t<li>9</li>\n",
       "\t<li>30</li>\n",
       "\t<li>6</li>\n",
       "\t<li>30</li>\n",
       "\t<li>23</li>\n",
       "\t<li>60</li>\n",
       "\t<li>12</li>\n",
       "\t<li>53</li>\n",
       "\t<li>11</li>\n",
       "\t<li>21</li>\n",
       "\t<li>10</li>\n",
       "\t<li>26</li>\n",
       "\t<li>23</li>\n",
       "\t<li>58</li>\n",
       "\t<li>18</li>\n",
       "\t<li>58</li>\n",
       "</ol>\n"
      ],
      "text/latex": [
       "\\begin{enumerate*}\n",
       "\\item 37\n",
       "\\item 92\n",
       "\\item 24\n",
       "\\item 90\n",
       "\\item 21\n",
       "\\item 107\n",
       "\\item 21\n",
       "\\item 105\n",
       "\\item 30\n",
       "\\item 50\n",
       "\\item 23\n",
       "\\item 50\n",
       "\\item 23\n",
       "\\item 180\n",
       "\\item 15\n",
       "\\item 172\n",
       "\\item 21\n",
       "\\item 68\n",
       "\\item 5\n",
       "\\item 38\n",
       "\\item 75\n",
       "\\item 405\n",
       "\\item 17\n",
       "\\item 203\n",
       "\\item 37\n",
       "\\item 131\n",
       "\\item 6\n",
       "\\item 46\n",
       "\\item 18\n",
       "\\item 41\n",
       "\\item 10\n",
       "\\item 36\n",
       "\\item 30\n",
       "\\item 71\n",
       "\\item 14\n",
       "\\item 68\n",
       "\\item 24\n",
       "\\item 98\n",
       "\\item 28\n",
       "\\item 103\n",
       "\\item 31\n",
       "\\item 106\n",
       "\\item 16\n",
       "\\item 100\n",
       "\\item 31\n",
       "\\item 54\n",
       "\\item 11\n",
       "\\item 60\n",
       "\\item 22\n",
       "\\item 58\n",
       "\\item 9\n",
       "\\item 58\n",
       "\\item 90\n",
       "\\item 211\n",
       "\\item 28\n",
       "\\item 82\n",
       "\\item 16\n",
       "\\item 44\n",
       "\\item 6\n",
       "\\item 20\n",
       "\\item 129\n",
       "\\item 600\n",
       "\\item 112\n",
       "\\item 617\n",
       "\\item 6\n",
       "\\item 73\n",
       "\\item 3\n",
       "\\item 121\n",
       "\\item 51\n",
       "\\item 146\n",
       "\\item 40\n",
       "\\item 127\n",
       "\\item 13\n",
       "\\item 30\n",
       "\\item 5\n",
       "\\item 30\n",
       "\\item 5\n",
       "\\item 84\n",
       "\\item 4\n",
       "\\item 89\n",
       "\\item 75\n",
       "\\item 206\n",
       "\\item 50\n",
       "\\item 211\n",
       "\\item 29\n",
       "\\item 116\n",
       "\\item 21\n",
       "\\item 113\n",
       "\\item 9\n",
       "\\item 30\n",
       "\\item 6\n",
       "\\item 30\n",
       "\\item 23\n",
       "\\item 60\n",
       "\\item 12\n",
       "\\item 53\n",
       "\\item 11\n",
       "\\item 21\n",
       "\\item 10\n",
       "\\item 26\n",
       "\\item 23\n",
       "\\item 58\n",
       "\\item 18\n",
       "\\item 58\n",
       "\\end{enumerate*}\n"
      ],
      "text/markdown": [
       "1. 37\n",
       "2. 92\n",
       "3. 24\n",
       "4. 90\n",
       "5. 21\n",
       "6. 107\n",
       "7. 21\n",
       "8. 105\n",
       "9. 30\n",
       "10. 50\n",
       "11. 23\n",
       "12. 50\n",
       "13. 23\n",
       "14. 180\n",
       "15. 15\n",
       "16. 172\n",
       "17. 21\n",
       "18. 68\n",
       "19. 5\n",
       "20. 38\n",
       "21. 75\n",
       "22. 405\n",
       "23. 17\n",
       "24. 203\n",
       "25. 37\n",
       "26. 131\n",
       "27. 6\n",
       "28. 46\n",
       "29. 18\n",
       "30. 41\n",
       "31. 10\n",
       "32. 36\n",
       "33. 30\n",
       "34. 71\n",
       "35. 14\n",
       "36. 68\n",
       "37. 24\n",
       "38. 98\n",
       "39. 28\n",
       "40. 103\n",
       "41. 31\n",
       "42. 106\n",
       "43. 16\n",
       "44. 100\n",
       "45. 31\n",
       "46. 54\n",
       "47. 11\n",
       "48. 60\n",
       "49. 22\n",
       "50. 58\n",
       "51. 9\n",
       "52. 58\n",
       "53. 90\n",
       "54. 211\n",
       "55. 28\n",
       "56. 82\n",
       "57. 16\n",
       "58. 44\n",
       "59. 6\n",
       "60. 20\n",
       "61. 129\n",
       "62. 600\n",
       "63. 112\n",
       "64. 617\n",
       "65. 6\n",
       "66. 73\n",
       "67. 3\n",
       "68. 121\n",
       "69. 51\n",
       "70. 146\n",
       "71. 40\n",
       "72. 127\n",
       "73. 13\n",
       "74. 30\n",
       "75. 5\n",
       "76. 30\n",
       "77. 5\n",
       "78. 84\n",
       "79. 4\n",
       "80. 89\n",
       "81. 75\n",
       "82. 206\n",
       "83. 50\n",
       "84. 211\n",
       "85. 29\n",
       "86. 116\n",
       "87. 21\n",
       "88. 113\n",
       "89. 9\n",
       "90. 30\n",
       "91. 6\n",
       "92. 30\n",
       "93. 23\n",
       "94. 60\n",
       "95. 12\n",
       "96. 53\n",
       "97. 11\n",
       "98. 21\n",
       "99. 10\n",
       "100. 26\n",
       "101. 23\n",
       "102. 58\n",
       "103. 18\n",
       "104. 58\n",
       "\n",
       "\n"
      ],
      "text/plain": [
       ", , 1\n",
       "\n",
       "     [,1] [,2]\n",
       "[1,]   37   24\n",
       "[2,]   92   90\n",
       "\n",
       ", , 2\n",
       "\n",
       "     [,1] [,2]\n",
       "[1,]   21   21\n",
       "[2,]  107  105\n",
       "\n",
       ", , 3\n",
       "\n",
       "     [,1] [,2]\n",
       "[1,]   30   23\n",
       "[2,]   50   50\n",
       "\n",
       ", , 4\n",
       "\n",
       "     [,1] [,2]\n",
       "[1,]   23   15\n",
       "[2,]  180  172\n",
       "\n",
       ", , 5\n",
       "\n",
       "     [,1] [,2]\n",
       "[1,]   21    5\n",
       "[2,]   68   38\n",
       "\n",
       ", , 6\n",
       "\n",
       "     [,1] [,2]\n",
       "[1,]   75   17\n",
       "[2,]  405  203\n",
       "\n",
       ", , 7\n",
       "\n",
       "     [,1] [,2]\n",
       "[1,]   37    6\n",
       "[2,]  131   46\n",
       "\n",
       ", , 8\n",
       "\n",
       "     [,1] [,2]\n",
       "[1,]   18   10\n",
       "[2,]   41   36\n",
       "\n",
       ", , 9\n",
       "\n",
       "     [,1] [,2]\n",
       "[1,]   30   14\n",
       "[2,]   71   68\n",
       "\n",
       ", , 10\n",
       "\n",
       "     [,1] [,2]\n",
       "[1,]   24   28\n",
       "[2,]   98  103\n",
       "\n",
       ", , 11\n",
       "\n",
       "     [,1] [,2]\n",
       "[1,]   31   16\n",
       "[2,]  106  100\n",
       "\n",
       ", , 12\n",
       "\n",
       "     [,1] [,2]\n",
       "[1,]   31   11\n",
       "[2,]   54   60\n",
       "\n",
       ", , 13\n",
       "\n",
       "     [,1] [,2]\n",
       "[1,]   22    9\n",
       "[2,]   58   58\n",
       "\n",
       ", , 14\n",
       "\n",
       "     [,1] [,2]\n",
       "[1,]   90   28\n",
       "[2,]  211   82\n",
       "\n",
       ", , 15\n",
       "\n",
       "     [,1] [,2]\n",
       "[1,]   16    6\n",
       "[2,]   44   20\n",
       "\n",
       ", , 16\n",
       "\n",
       "     [,1] [,2]\n",
       "[1,]  129  112\n",
       "[2,]  600  617\n",
       "\n",
       ", , 17\n",
       "\n",
       "     [,1] [,2]\n",
       "[1,]    6    3\n",
       "[2,]   73  121\n",
       "\n",
       ", , 18\n",
       "\n",
       "     [,1] [,2]\n",
       "[1,]   51   40\n",
       "[2,]  146  127\n",
       "\n",
       ", , 19\n",
       "\n",
       "     [,1] [,2]\n",
       "[1,]   13    5\n",
       "[2,]   30   30\n",
       "\n",
       ", , 20\n",
       "\n",
       "     [,1] [,2]\n",
       "[1,]    5    4\n",
       "[2,]   84   89\n",
       "\n",
       ", , 21\n",
       "\n",
       "     [,1] [,2]\n",
       "[1,]   75   50\n",
       "[2,]  206  211\n",
       "\n",
       ", , 22\n",
       "\n",
       "     [,1] [,2]\n",
       "[1,]   29   21\n",
       "[2,]  116  113\n",
       "\n",
       ", , 23\n",
       "\n",
       "     [,1] [,2]\n",
       "[1,]    9    6\n",
       "[2,]   30   30\n",
       "\n",
       ", , 24\n",
       "\n",
       "     [,1] [,2]\n",
       "[1,]   23   12\n",
       "[2,]   60   53\n",
       "\n",
       ", , 25\n",
       "\n",
       "     [,1] [,2]\n",
       "[1,]   11   10\n",
       "[2,]   21   26\n",
       "\n",
       ", , 26\n",
       "\n",
       "     [,1] [,2]\n",
       "[1,]   23   18\n",
       "[2,]   58   58\n"
      ]
     },
     "metadata": {},
     "output_type": "display_data"
    },
    {
     "data": {
      "text/plain": [
       "chisq =  172.1813  with df =  52  p =  8.724862e-15 "
      ]
     },
     "metadata": {},
     "output_type": "display_data"
    }
   ],
   "source": [
    "arr <- array(unlist(t(smoking)),c(2,2,nrow(smoking))) # put all the tables in a 3-d array\n",
    "arr # look at the array and compare to original data\n",
    "smoking.normOR <- smokingOR$logOR/smokingOR$selogOR # standardize log ORs\n",
    "smoking.logOR.p <- pnorm(smoking.normOR, lower.tail=FALSE) # get one-sided normal p-values\n",
    "sumlog(smoking.logOR.p) # Fisher combined p"
   ]
  },
  {
   "cell_type": "markdown",
   "metadata": {},
   "source": [
    "* What is your overall conclusion here? What evidence is there for the effect of nicotine gum on quitting smoking?"
   ]
  },
  {
   "cell_type": "markdown",
   "metadata": {},
   "source": [
    "*Very (very) small combined p-value, meaning that it seems to be clear that chewing gum is effective, although it could be a publication bias (it's a bit philosophical).*"
   ]
  },
  {
   "cell_type": "markdown",
   "metadata": {},
   "source": [
    "## BCG vaccine data"
   ]
  },
  {
   "cell_type": "code",
   "execution_count": 42,
   "metadata": {
    "collapsed": true
   },
   "outputs": [],
   "source": [
    "data(\"BCG\")"
   ]
  },
  {
   "cell_type": "code",
   "execution_count": 43,
   "metadata": {
    "collapsed": true
   },
   "outputs": [],
   "source": [
    "help(BCG)"
   ]
  },
  {
   "cell_type": "markdown",
   "metadata": {},
   "source": [
    "* BCGTB: the number of subjects suffering from TB after a BCG vaccination. (qt)\n",
    "\n",
    "* BCGVacc: the number of subjects with BCG vaccination. (tt)\n",
    "\n",
    "* NoVaccTB: the number of subjects suffering from TB without BCG vaccination. (qc)\n",
    "\n",
    "* NoVacc: the total number of subjects without BCG vaccination. (tc)"
   ]
  },
  {
   "cell_type": "markdown",
   "metadata": {},
   "source": [
    "These data are for a meta-analysis on the efficacy of BCG vaccination against tuberculosis (TB)."
   ]
  },
  {
   "cell_type": "markdown",
   "metadata": {},
   "source": [
    "Carry out both a fixed effects and\n",
    "random effects analysis as above. You will need to change the data set smoking to BCG, and the components (tt, etc.) to the\n",
    "component names for the BCG data - you will have to find these (for examples using names on BCG) The study names are in\n",
    "BCG$Study."
   ]
  },
  {
   "cell_type": "code",
   "execution_count": 44,
   "metadata": {},
   "outputs": [
    {
     "data": {
      "image/png": "[encoded data removed]",
      "text/plain": [
       "plot without title"
      ]
     },
     "metadata": {},
     "output_type": "display_data"
    }
   ],
   "source": [
    "boxplot(BCG$BCGTB/BCG$BCGVacc,\n",
    "      BCG$NoVaccTB/BCG$NoVacc,\n",
    "      names = c(\"Treated\", \"Control\"), ylab = \"Percent Sick\")"
   ]
  },
  {
   "cell_type": "code",
   "execution_count": 53,
   "metadata": {},
   "outputs": [
    {
     "data": {
      "text/html": [
       "<pre class=language-r><code>function (x) \n",
       "(x[1] * (x[4] - x[3]))/((x[2] - x[1]) * x[3])</code></pre>"
      ],
      "text/latex": [
       "\\begin{minted}{r}\n",
       "function (x) \n",
       "(x{[}1{]} * (x{[}4{]} - x{[}3{]}))/((x{[}2{]} - x{[}1{]}) * x{[}3{]})\n",
       "\\end{minted}"
      ],
      "text/markdown": [
       "```r\n",
       "function (x) \n",
       "(x[1] * (x[4] - x[3]))/((x[2] - x[1]) * x[3])\n",
       "```"
      ],
      "text/plain": [
       "function(x) (x[1] * (x[4] - x[3])) / ((x[2] - x[1]) * x[3])"
      ]
     },
     "metadata": {},
     "output_type": "display_data"
    },
    {
     "data": {
      "text/html": [
       "<pre class=language-r><code>function (x) \n",
       "((x[2] - x[1]) * x[3])/sum(x)</code></pre>"
      ],
      "text/latex": [
       "\\begin{minted}{r}\n",
       "function (x) \n",
       "((x{[}2{]} - x{[}1{]}) * x{[}3{]})/sum(x)\n",
       "\\end{minted}"
      ],
      "text/markdown": [
       "```r\n",
       "function (x) \n",
       "((x[2] - x[1]) * x[3])/sum(x)\n",
       "```"
      ],
      "text/plain": [
       "function(x) ((x[2] - x[1]) * x[3]) /sum(x)"
      ]
     },
     "metadata": {},
     "output_type": "display_data"
    }
   ],
   "source": [
    "odds <- function(x) (x[1] * (x[4] - x[3])) / ((x[2] - x[1]) * x[3])\n",
    "odds\n",
    "weight <- function(x) ((x[2] - x[1]) * x[3]) /sum(x)\n",
    "weight"
   ]
  },
  {
   "cell_type": "code",
   "execution_count": 56,
   "metadata": {},
   "outputs": [],
   "source": [
    "reducedBCG = BCG[,c(2,3,4,5)]"
   ]
  },
  {
   "cell_type": "code",
   "execution_count": 57,
   "metadata": {},
   "outputs": [
    {
     "data": {
      "text/html": [
       "0.632520415279145"
      ],
      "text/latex": [
       "0.632520415279145"
      ],
      "text/markdown": [
       "0.632520415279145"
      ],
      "text/plain": [
       "[1] 0.6325204"
      ]
     },
     "metadata": {},
     "output_type": "display_data"
    }
   ],
   "source": [
    "W <- apply(reducedBCG, 1, weight)\n",
    "Y <- apply(reducedBCG, 1, odds)\n",
    "sum(W * Y) / sum(W)"
   ]
  },
  {
   "cell_type": "code",
   "execution_count": 58,
   "metadata": {
    "collapsed": true
   },
   "outputs": [],
   "source": [
    "BCGOR <- meta.MH(BCG[[\"BCGVacc\"]], BCG[[\"NoVacc\"]], BCG[[\"BCGTB\"]], BCG[[\"NoVaccTB\"]], names =\n",
    "rownames(BCG))"
   ]
  },
  {
   "cell_type": "markdown",
   "metadata": {},
   "source": [
    "Find the p-value for the heterogeneity test - you will see that it is very highly\n",
    "significant. This indicates that we should use the random effects meta-analysis."
   ]
  },
  {
   "cell_type": "code",
   "execution_count": 60,
   "metadata": {},
   "outputs": [
    {
     "data": {
      "text/plain": [
       "Fixed effects ( Mantel-Haenszel ) meta-analysis\n",
       "Call: meta.MH(ntrt = BCG[[\"BCGVacc\"]], nctrl = BCG[[\"NoVacc\"]], ptrt = BCG[[\"BCGTB\"]], \n",
       "    pctrl = BCG[[\"NoVaccTB\"]], names = rownames(BCG))\n",
       "------------------------------------\n",
       "     OR (lower  95% upper)\n",
       "1  0.39    0.12       1.26\n",
       "2  0.19    0.08       0.46\n",
       "3  0.25    0.07       0.91\n",
       "4  0.23    0.18       0.31\n",
       "5  0.80    0.51       1.26\n",
       "6  0.38    0.32       0.47\n",
       "7  0.20    0.08       0.50\n",
       "8  1.01    0.89       1.15\n",
       "9  0.62    0.39       1.00\n",
       "10 0.25    0.14       0.42\n",
       "11 0.71    0.57       0.89\n",
       "12 1.56    0.37       6.55\n",
       "13 0.98    0.58       1.66\n",
       "------------------------------------\n",
       "Mantel-Haenszel OR =0.62 95% CI ( 0.57,0.68 )\n",
       "Test for heterogeneity: X^2( 12 ) = 163.94 ( p-value 0 )"
      ]
     },
     "metadata": {},
     "output_type": "display_data"
    }
   ],
   "source": [
    "summary(BCGOR)"
   ]
  },
  {
   "cell_type": "markdown",
   "metadata": {},
   "source": [
    "You can look at the summary and forest plot as above."
   ]
  },
  {
   "cell_type": "code",
   "execution_count": 61,
   "metadata": {},
   "outputs": [
    {
     "data": {
      "image/png": "[encoded data removed]",
      "text/plain": [
       "plot without title"
      ]
     },
     "metadata": {},
     "output_type": "display_data"
    }
   ],
   "source": [
    "plot(BCGOR)"
   ]
  },
  {
   "cell_type": "code",
   "execution_count": 63,
   "metadata": {
    "collapsed": true
   },
   "outputs": [],
   "source": [
    "BCGDSL <- meta.DSL(BCG[[\"BCGVacc\"]], BCG[[\"NoVacc\"]], BCG[[\"BCGTB\"]], BCG[[\"NoVaccTB\"]], names =\n",
    "rownames(BCG))"
   ]
  },
  {
   "cell_type": "code",
   "execution_count": 64,
   "metadata": {},
   "outputs": [
    {
     "data": {
      "image/png": "[encoded data removed]",
      "text/plain": [
       "plot without title"
      ]
     },
     "metadata": {},
     "output_type": "display_data"
    }
   ],
   "source": [
    "funnelplot(BCGDSL$logs, BCGDSL$selogs, summ = BCGDSL$logDSL, xlim = c(-1.,1.7))\n",
    "abline(v = 0, lty = 2)"
   ]
  },
  {
   "cell_type": "code",
   "execution_count": 70,
   "metadata": {},
   "outputs": [
    {
     "data": {
      "text/html": [
       "<ol class=list-inline>\n",
       "\t<li>1</li>\n",
       "\t<li>4</li>\n",
       "\t<li>123</li>\n",
       "\t<li>11</li>\n",
       "\t<li>139</li>\n",
       "\t<li>44</li>\n",
       "\t<li>1948</li>\n",
       "\t<li>2</li>\n",
       "\t<li>6</li>\n",
       "\t<li>306</li>\n",
       "\t<li>29</li>\n",
       "\t<li>303</li>\n",
       "\t<li>55</li>\n",
       "\t<li>1949</li>\n",
       "\t<li>3</li>\n",
       "\t<li>3</li>\n",
       "\t<li>231</li>\n",
       "\t<li>11</li>\n",
       "\t<li>220</li>\n",
       "\t<li>42</li>\n",
       "\t<li>1960</li>\n",
       "\t<li>4</li>\n",
       "\t<li>62</li>\n",
       "\t<li>13598</li>\n",
       "\t<li>248</li>\n",
       "\t<li>12867</li>\n",
       "\t<li>52</li>\n",
       "\t<li>1977</li>\n",
       "\t<li>5</li>\n",
       "\t<li>33</li>\n",
       "\t<li>5069</li>\n",
       "\t<li>47</li>\n",
       "\t<li>5808</li>\n",
       "\t<li>13</li>\n",
       "\t<li>1973</li>\n",
       "\t<li>6</li>\n",
       "\t<li>180</li>\n",
       "\t<li>1541</li>\n",
       "\t<li>372</li>\n",
       "\t<li>1451</li>\n",
       "\t<li>44</li>\n",
       "\t<li>1953</li>\n",
       "\t<li>7</li>\n",
       "\t<li>8</li>\n",
       "\t<li>2545</li>\n",
       "\t<li>10</li>\n",
       "\t<li>629</li>\n",
       "\t<li>19</li>\n",
       "\t<li>1973</li>\n",
       "\t<li>8</li>\n",
       "\t<li>505</li>\n",
       "\t<li>88391</li>\n",
       "</ol>\n"
      ],
      "text/latex": [
       "\\begin{enumerate*}\n",
       "\\item 1\n",
       "\\item 4\n",
       "\\item 123\n",
       "\\item 11\n",
       "\\item 139\n",
       "\\item 44\n",
       "\\item 1948\n",
       "\\item 2\n",
       "\\item 6\n",
       "\\item 306\n",
       "\\item 29\n",
       "\\item 303\n",
       "\\item 55\n",
       "\\item 1949\n",
       "\\item 3\n",
       "\\item 3\n",
       "\\item 231\n",
       "\\item 11\n",
       "\\item 220\n",
       "\\item 42\n",
       "\\item 1960\n",
       "\\item 4\n",
       "\\item 62\n",
       "\\item 13598\n",
       "\\item 248\n",
       "\\item 12867\n",
       "\\item 52\n",
       "\\item 1977\n",
       "\\item 5\n",
       "\\item 33\n",
       "\\item 5069\n",
       "\\item 47\n",
       "\\item 5808\n",
       "\\item 13\n",
       "\\item 1973\n",
       "\\item 6\n",
       "\\item 180\n",
       "\\item 1541\n",
       "\\item 372\n",
       "\\item 1451\n",
       "\\item 44\n",
       "\\item 1953\n",
       "\\item 7\n",
       "\\item 8\n",
       "\\item 2545\n",
       "\\item 10\n",
       "\\item 629\n",
       "\\item 19\n",
       "\\item 1973\n",
       "\\item 8\n",
       "\\item 505\n",
       "\\item 88391\n",
       "\\end{enumerate*}\n"
      ],
      "text/markdown": [
       "1. 1\n",
       "2. 4\n",
       "3. 123\n",
       "4. 11\n",
       "5. 139\n",
       "6. 44\n",
       "7. 1948\n",
       "8. 2\n",
       "9. 6\n",
       "10. 306\n",
       "11. 29\n",
       "12. 303\n",
       "13. 55\n",
       "14. 1949\n",
       "15. 3\n",
       "16. 3\n",
       "17. 231\n",
       "18. 11\n",
       "19. 220\n",
       "20. 42\n",
       "21. 1960\n",
       "22. 4\n",
       "23. 62\n",
       "24. 13598\n",
       "25. 248\n",
       "26. 12867\n",
       "27. 52\n",
       "28. 1977\n",
       "29. 5\n",
       "30. 33\n",
       "31. 5069\n",
       "32. 47\n",
       "33. 5808\n",
       "34. 13\n",
       "35. 1973\n",
       "36. 6\n",
       "37. 180\n",
       "38. 1541\n",
       "39. 372\n",
       "40. 1451\n",
       "41. 44\n",
       "42. 1953\n",
       "43. 7\n",
       "44. 8\n",
       "45. 2545\n",
       "46. 10\n",
       "47. 629\n",
       "48. 19\n",
       "49. 1973\n",
       "50. 8\n",
       "51. 505\n",
       "52. 88391\n",
       "\n",
       "\n"
      ],
      "text/plain": [
       ", , 1\n",
       "\n",
       "     [,1] [,2]\n",
       "[1,]    1  123\n",
       "[2,]    4   11\n",
       "\n",
       ", , 2\n",
       "\n",
       "     [,1] [,2]\n",
       "[1,]  139 1948\n",
       "[2,]   44    2\n",
       "\n",
       ", , 3\n",
       "\n",
       "     [,1] [,2]\n",
       "[1,]    6   29\n",
       "[2,]  306  303\n",
       "\n",
       ", , 4\n",
       "\n",
       "     [,1] [,2]\n",
       "[1,]   55    3\n",
       "[2,] 1949    3\n",
       "\n",
       ", , 5\n",
       "\n",
       "     [,1] [,2]\n",
       "[1,]  231  220\n",
       "[2,]   11   42\n",
       "\n",
       ", , 6\n",
       "\n",
       "     [,1]  [,2]\n",
       "[1,] 1960    62\n",
       "[2,]    4 13598\n",
       "\n",
       ", , 7\n",
       "\n",
       "      [,1] [,2]\n",
       "[1,]   248   52\n",
       "[2,] 12867 1977\n",
       "\n",
       ", , 8\n",
       "\n",
       "     [,1] [,2]\n",
       "[1,]    5 5069\n",
       "[2,]   33   47\n",
       "\n",
       ", , 9\n",
       "\n",
       "     [,1] [,2]\n",
       "[1,] 5808 1973\n",
       "[2,]   13    6\n",
       "\n",
       ", , 10\n",
       "\n",
       "     [,1] [,2]\n",
       "[1,]  180  372\n",
       "[2,] 1541 1451\n",
       "\n",
       ", , 11\n",
       "\n",
       "     [,1] [,2]\n",
       "[1,]   44    7\n",
       "[2,] 1953    8\n",
       "\n",
       ", , 12\n",
       "\n",
       "     [,1] [,2]\n",
       "[1,] 2545  629\n",
       "[2,]   10   19\n",
       "\n",
       ", , 13\n",
       "\n",
       "     [,1]  [,2]\n",
       "[1,] 1973   505\n",
       "[2,]    8 88391\n"
      ]
     },
     "metadata": {},
     "output_type": "display_data"
    },
    {
     "data": {
      "text/plain": [
       "chisq =  6.188234  with df =  26  p =  0.9999779 "
      ]
     },
     "metadata": {},
     "output_type": "display_data"
    }
   ],
   "source": [
    "arr <- array(unlist(t(BCG)),c(2,2,nrow(BCG))) # put all the tables in a 3-d array\n",
    "arr # look at the array and compare to original data\n",
    "BCG.normOR <- BCGOR$logOR/BCGOR$selogOR # standardize log ORs\n",
    "BCG.logOR.p <- pnorm(BCG.normOR, lower.tail=FALSE) # get one-sided normal p-values\n",
    "sumlog(BCG.logOR.p) # Fisher combined p"
   ]
  },
  {
   "cell_type": "markdown",
   "metadata": {},
   "source": [
    "If you have looked at the BCG data, you will see that there are additional covariates: Latitude and Year. We will now carry out a\n",
    "weighted meta-regression of log-odds ratio on these variables."
   ]
  },
  {
   "cell_type": "markdown",
   "metadata": {},
   "source": [
    "The weights are the inverse sum of between-study variance and within\n",
    "study variance. Assuming that you have named your random effects meta-analysis (the result of meta.DSL) BCG.DSL, this is given by:"
   ]
  },
  {
   "cell_type": "code",
   "execution_count": 67,
   "metadata": {},
   "outputs": [],
   "source": [
    "studyweights <- 1 / (BCGDSL$tau2 + BCGDSL$selogs^2)\n",
    "y <- BCGDSL$logs\n",
    "BCG.lm <- lm(y ~ Latitude + Year, data = BCG, weights = studyweights)"
   ]
  },
  {
   "cell_type": "markdown",
   "metadata": {},
   "source": [
    "Look at the summary of this object."
   ]
  },
  {
   "cell_type": "code",
   "execution_count": 68,
   "metadata": {},
   "outputs": [
    {
     "data": {
      "text/plain": [
       "\n",
       "Call:\n",
       "lm(formula = y ~ Latitude + Year, data = BCG, weights = studyweights)\n",
       "\n",
       "Weighted Residuals:\n",
       "     Min       1Q   Median       3Q      Max \n",
       "-1.66012 -0.36910 -0.02937  0.31565  1.26040 \n",
       "\n",
       "Coefficients:\n",
       "              Estimate Std. Error t value Pr(>|t|)  \n",
       "(Intercept) -16.199115  37.605403  -0.431   0.6758  \n",
       "Latitude     -0.025808   0.013680  -1.887   0.0886 .\n",
       "Year          0.008279   0.018972   0.436   0.6718  \n",
       "---\n",
       "Signif. codes:  0 ‘***’ 0.001 ‘**’ 0.01 ‘*’ 0.05 ‘.’ 0.1 ‘ ’ 1\n",
       "\n",
       "Residual standard error: 0.7992 on 10 degrees of freedom\n",
       "Multiple R-squared:  0.4387,\tAdjusted R-squared:  0.3265 \n",
       "F-statistic: 3.909 on 2 and 10 DF,  p-value: 0.05569\n"
      ]
     },
     "metadata": {},
     "output_type": "display_data"
    }
   ],
   "source": [
    "summary(BCG.lm)"
   ]
  },
  {
   "cell_type": "markdown",
   "metadata": {},
   "source": [
    "You can also make a plot of the estimated log-OR for each variable like you made in the linear\n",
    "regression lab, e.g.:"
   ]
  },
  {
   "cell_type": "code",
   "execution_count": 69,
   "metadata": {},
   "outputs": [
    {
     "data": {
      "image/png": "[encoded data removed]",
      "text/plain": [
       "plot without title"
      ]
     },
     "metadata": {},
     "output_type": "display_data"
    }
   ],
   "source": [
    "plot(y ~ Latitude, data = BCG, ylab=\"Estimated log-OR\")\n",
    "abline <- lm(y ~ Latitude, data = BCG, weights = studyweights)"
   ]
  },
  {
   "cell_type": "markdown",
   "metadata": {},
   "source": [
    "Is there evidence of an effect of either variable on the log-odds ratio?\n",
    "Since the number of studies is small, we will not make a funnelplot here."
   ]
  },
  {
   "cell_type": "code",
   "execution_count": null,
   "metadata": {
    "collapsed": true
   },
   "outputs": [],
   "source": []
  },
  {
   "cell_type": "markdown",
   "metadata": {},
   "source": [
    "Briefly summarize your results and conclusions. Is the vaccine effect in preventing TB?"
   ]
  },
  {
   "cell_type": "code",
   "execution_count": null,
   "metadata": {
    "collapsed": true
   },
   "outputs": [],
   "source": []
  }
 ],
 "metadata": {
  "kernelspec": {
   "display_name": "R",
   "language": "R",
   "name": "ir"
  },
  "language_info": {
   "codemirror_mode": "r",
   "file_extension": ".r",
   "mimetype": "text/x-r-source",
   "name": "R",
   "pygments_lexer": "r",
   "version": "3.4.2"
  }
 },
 "nbformat": 4,
 "nbformat_minor": 2
}

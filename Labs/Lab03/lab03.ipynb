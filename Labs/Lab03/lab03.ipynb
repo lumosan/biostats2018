{
 "cells": [
  {
   "cell_type": "markdown",
   "metadata": {},
   "source": [
    "# Tutorial:\n",
    "\n",
    "## An example of statistical data analysis using the R environment for statistical computing\n",
    "\n",
    "1. Placing statistical analysis in the framework of research questions;\n",
    "2. Moving from simple to complex methods: first exploration, then selection of promising modelling approaches;\n",
    "3. Visualising as well as computing;\n",
    "4. Making correct inferences;\n",
    "5. Statistical computation and visualization"
   ]
  },
  {
   "cell_type": "markdown",
   "metadata": {},
   "source": [
    "### Dataset\n",
    "\n",
    "Soil properties:\n",
    "1. `Clay` -- Clay content, weight % of the mineral fine earth ( < 2 mm);\n",
    "2. `CEC` -- Cation exchange capacity, cmol + (kg soil) -1\n",
    "3. `OC` -- Organic carbon, volume % of the fine earth.\n",
    "\n",
    "`CEC` is a result of `Clay` and `OC`.\n",
    "`CEC` is important for soil management, since it controls how\n",
    "much added artificial or natural fertiliser or liming materials will be\n",
    "retained by the soil for a long-lasting effect on crop growth. Heavy\n",
    "doses of fertiliser on soils with low CEC will be wasted, since the extra\n",
    "nutrients will leach.\n",
    "\n",
    "Other info:\n",
    "1. `e`, `n`--  East and North Coordinates, UTM Zone 32N, WGS84 datum, in meters\n",
    "1. `elev` -- Elevation in meters above sea level\n",
    "1. `zone` -- Agro-ecological zone, arbitrary code\n",
    "1. `wrb1` -- Reference soil group, arbitrary code\n",
    "    1. Acrisols (from the Haplic, Ferralic, and Plinthic subgroups)\n",
    "    2. Cambisols (from the Ferralic subgroup)\n",
    "    3. Ferralsols (from the Acri-ferric and Xanthic subgroups )\n",
    "    \n",
    "1. `LC` -- Land cover type\n",
    "\n",
    "\n",
    "The suffixes 1, 2, and 5 on `Clay`, `CEC`, and `OC` refer to the lower boundary of the three depths"
   ]
  },
  {
   "cell_type": "code",
   "execution_count": 1,
   "metadata": {},
   "outputs": [
    {
     "name": "stdout",
     "output_type": "stream",
     "text": [
      "'data.frame':\t147 obs. of  16 variables:\n",
      " $ id   : int  1 2 3 4 5 6 7 8 9 10 ...\n",
      " $ e    : int  702638 701659 703488 703421 703358 702334 681328 681508 681230 683989 ...\n",
      " $ n    : int  326959 326772 322133 322508 322846 324551 311602 311295 311053 311685 ...\n",
      " $ elev : int  657 628 840 707 670 780 720 657 600 720 ...\n",
      " $ zone : int  2 2 1 1 2 1 1 2 2 1 ...\n",
      " $ wrb1 : int  3 3 3 3 3 3 3 3 3 3 ...\n",
      " $ LC   : Factor w/ 8 levels \"BF\",\"CF\",\"FF\",..: 3 3 4 4 4 4 3 3 4 4 ...\n",
      " $ Clay1: int  72 71 61 55 47 49 63 59 46 62 ...\n",
      " $ Clay2: int  74 75 59 62 56 53 66 66 56 63 ...\n",
      " $ Clay5: int  78 80 66 61 53 57 70 72 70 62 ...\n",
      " $ CEC1 : num  13.6 12.6 21.7 11.6 14.9 18.2 14.9 14.6 7.9 14.9 ...\n",
      " $ CEC2 : num  10.1 8.2 10.2 8.4 9.2 11.6 7.4 7.1 5.7 6.8 ...\n",
      " $ CEC5 : num  7.1 7.4 6.6 8 8.5 6.2 5.4 7 4.5 6 ...\n",
      " $ OC1  : num  5.5 3.2 6.98 3.19 4.4 5.31 4.55 4.5 2.3 7.34 ...\n",
      " $ OC2  : num  3.1 1.7 2.4 1.5 1.2 3.2 2.15 1.42 1.36 2.54 ...\n",
      " $ OC5  : num  1.5 1 1.3 1.26 0.8 ...\n"
     ]
    },
    {
     "data": {
      "text/html": [
       "<ol class=list-inline>\n",
       "\t<li>'1'</li>\n",
       "\t<li>'2'</li>\n",
       "\t<li>'3'</li>\n",
       "\t<li>'4'</li>\n",
       "\t<li>'5'</li>\n",
       "\t<li>'6'</li>\n",
       "\t<li>'7'</li>\n",
       "\t<li>'8'</li>\n",
       "\t<li>'9'</li>\n",
       "\t<li>'10'</li>\n",
       "\t<li>'11'</li>\n",
       "\t<li>'12'</li>\n",
       "\t<li>'13'</li>\n",
       "\t<li>'14'</li>\n",
       "\t<li>'15'</li>\n",
       "\t<li>'16'</li>\n",
       "\t<li>'17'</li>\n",
       "\t<li>'18'</li>\n",
       "\t<li>'19'</li>\n",
       "\t<li>'20'</li>\n",
       "\t<li>'21'</li>\n",
       "\t<li>'22'</li>\n",
       "\t<li>'23'</li>\n",
       "\t<li>'24'</li>\n",
       "\t<li>'25'</li>\n",
       "\t<li>'26'</li>\n",
       "\t<li>'27'</li>\n",
       "\t<li>'28'</li>\n",
       "\t<li>'29'</li>\n",
       "\t<li>'30'</li>\n",
       "\t<li>'31'</li>\n",
       "\t<li>'32'</li>\n",
       "\t<li>'33'</li>\n",
       "\t<li>'34'</li>\n",
       "\t<li>'35'</li>\n",
       "\t<li>'36'</li>\n",
       "\t<li>'37'</li>\n",
       "\t<li>'38'</li>\n",
       "\t<li>'39'</li>\n",
       "\t<li>'40'</li>\n",
       "\t<li>'41'</li>\n",
       "\t<li>'42'</li>\n",
       "\t<li>'43'</li>\n",
       "\t<li>'44'</li>\n",
       "\t<li>'45'</li>\n",
       "\t<li>'46'</li>\n",
       "\t<li>'47'</li>\n",
       "\t<li>'48'</li>\n",
       "\t<li>'49'</li>\n",
       "\t<li>'50'</li>\n",
       "\t<li>'51'</li>\n",
       "\t<li>'52'</li>\n",
       "\t<li>'53'</li>\n",
       "\t<li>'54'</li>\n",
       "\t<li>'55'</li>\n",
       "\t<li>'56'</li>\n",
       "\t<li>'57'</li>\n",
       "\t<li>'58'</li>\n",
       "\t<li>'59'</li>\n",
       "\t<li>'60'</li>\n",
       "\t<li>'61'</li>\n",
       "\t<li>'62'</li>\n",
       "\t<li>'63'</li>\n",
       "\t<li>'64'</li>\n",
       "\t<li>'65'</li>\n",
       "\t<li>'66'</li>\n",
       "\t<li>'67'</li>\n",
       "\t<li>'68'</li>\n",
       "\t<li>'69'</li>\n",
       "\t<li>'70'</li>\n",
       "\t<li>'71'</li>\n",
       "\t<li>'72'</li>\n",
       "\t<li>'73'</li>\n",
       "\t<li>'74'</li>\n",
       "\t<li>'75'</li>\n",
       "\t<li>'76'</li>\n",
       "\t<li>'77'</li>\n",
       "\t<li>'78'</li>\n",
       "\t<li>'79'</li>\n",
       "\t<li>'80'</li>\n",
       "\t<li>'81'</li>\n",
       "\t<li>'82'</li>\n",
       "\t<li>'83'</li>\n",
       "\t<li>'84'</li>\n",
       "\t<li>'85'</li>\n",
       "\t<li>'86'</li>\n",
       "\t<li>'87'</li>\n",
       "\t<li>'88'</li>\n",
       "\t<li>'89'</li>\n",
       "\t<li>'90'</li>\n",
       "\t<li>'91'</li>\n",
       "\t<li>'92'</li>\n",
       "\t<li>'93'</li>\n",
       "\t<li>'94'</li>\n",
       "\t<li>'95'</li>\n",
       "\t<li>'96'</li>\n",
       "\t<li>'97'</li>\n",
       "\t<li>'98'</li>\n",
       "\t<li>'99'</li>\n",
       "\t<li>'100'</li>\n",
       "\t<li>'101'</li>\n",
       "\t<li>'102'</li>\n",
       "\t<li>'103'</li>\n",
       "\t<li>'104'</li>\n",
       "\t<li>'105'</li>\n",
       "\t<li>'106'</li>\n",
       "\t<li>'107'</li>\n",
       "\t<li>'108'</li>\n",
       "\t<li>'109'</li>\n",
       "\t<li>'110'</li>\n",
       "\t<li>'111'</li>\n",
       "\t<li>'112'</li>\n",
       "\t<li>'113'</li>\n",
       "\t<li>'114'</li>\n",
       "\t<li>'115'</li>\n",
       "\t<li>'116'</li>\n",
       "\t<li>'117'</li>\n",
       "\t<li>'118'</li>\n",
       "\t<li>'119'</li>\n",
       "\t<li>'120'</li>\n",
       "\t<li>'121'</li>\n",
       "\t<li>'122'</li>\n",
       "\t<li>'123'</li>\n",
       "\t<li>'124'</li>\n",
       "\t<li>'125'</li>\n",
       "\t<li>'126'</li>\n",
       "\t<li>'127'</li>\n",
       "\t<li>'128'</li>\n",
       "\t<li>'129'</li>\n",
       "\t<li>'130'</li>\n",
       "\t<li>'131'</li>\n",
       "\t<li>'132'</li>\n",
       "\t<li>'133'</li>\n",
       "\t<li>'134'</li>\n",
       "\t<li>'135'</li>\n",
       "\t<li>'136'</li>\n",
       "\t<li>'137'</li>\n",
       "\t<li>'138'</li>\n",
       "\t<li>'139'</li>\n",
       "\t<li>'140'</li>\n",
       "\t<li>'141'</li>\n",
       "\t<li>'142'</li>\n",
       "\t<li>'143'</li>\n",
       "\t<li>'144'</li>\n",
       "\t<li>'145'</li>\n",
       "\t<li>'146'</li>\n",
       "\t<li>'147'</li>\n",
       "</ol>\n"
      ],
      "text/latex": [
       "\\begin{enumerate*}\n",
       "\\item '1'\n",
       "\\item '2'\n",
       "\\item '3'\n",
       "\\item '4'\n",
       "\\item '5'\n",
       "\\item '6'\n",
       "\\item '7'\n",
       "\\item '8'\n",
       "\\item '9'\n",
       "\\item '10'\n",
       "\\item '11'\n",
       "\\item '12'\n",
       "\\item '13'\n",
       "\\item '14'\n",
       "\\item '15'\n",
       "\\item '16'\n",
       "\\item '17'\n",
       "\\item '18'\n",
       "\\item '19'\n",
       "\\item '20'\n",
       "\\item '21'\n",
       "\\item '22'\n",
       "\\item '23'\n",
       "\\item '24'\n",
       "\\item '25'\n",
       "\\item '26'\n",
       "\\item '27'\n",
       "\\item '28'\n",
       "\\item '29'\n",
       "\\item '30'\n",
       "\\item '31'\n",
       "\\item '32'\n",
       "\\item '33'\n",
       "\\item '34'\n",
       "\\item '35'\n",
       "\\item '36'\n",
       "\\item '37'\n",
       "\\item '38'\n",
       "\\item '39'\n",
       "\\item '40'\n",
       "\\item '41'\n",
       "\\item '42'\n",
       "\\item '43'\n",
       "\\item '44'\n",
       "\\item '45'\n",
       "\\item '46'\n",
       "\\item '47'\n",
       "\\item '48'\n",
       "\\item '49'\n",
       "\\item '50'\n",
       "\\item '51'\n",
       "\\item '52'\n",
       "\\item '53'\n",
       "\\item '54'\n",
       "\\item '55'\n",
       "\\item '56'\n",
       "\\item '57'\n",
       "\\item '58'\n",
       "\\item '59'\n",
       "\\item '60'\n",
       "\\item '61'\n",
       "\\item '62'\n",
       "\\item '63'\n",
       "\\item '64'\n",
       "\\item '65'\n",
       "\\item '66'\n",
       "\\item '67'\n",
       "\\item '68'\n",
       "\\item '69'\n",
       "\\item '70'\n",
       "\\item '71'\n",
       "\\item '72'\n",
       "\\item '73'\n",
       "\\item '74'\n",
       "\\item '75'\n",
       "\\item '76'\n",
       "\\item '77'\n",
       "\\item '78'\n",
       "\\item '79'\n",
       "\\item '80'\n",
       "\\item '81'\n",
       "\\item '82'\n",
       "\\item '83'\n",
       "\\item '84'\n",
       "\\item '85'\n",
       "\\item '86'\n",
       "\\item '87'\n",
       "\\item '88'\n",
       "\\item '89'\n",
       "\\item '90'\n",
       "\\item '91'\n",
       "\\item '92'\n",
       "\\item '93'\n",
       "\\item '94'\n",
       "\\item '95'\n",
       "\\item '96'\n",
       "\\item '97'\n",
       "\\item '98'\n",
       "\\item '99'\n",
       "\\item '100'\n",
       "\\item '101'\n",
       "\\item '102'\n",
       "\\item '103'\n",
       "\\item '104'\n",
       "\\item '105'\n",
       "\\item '106'\n",
       "\\item '107'\n",
       "\\item '108'\n",
       "\\item '109'\n",
       "\\item '110'\n",
       "\\item '111'\n",
       "\\item '112'\n",
       "\\item '113'\n",
       "\\item '114'\n",
       "\\item '115'\n",
       "\\item '116'\n",
       "\\item '117'\n",
       "\\item '118'\n",
       "\\item '119'\n",
       "\\item '120'\n",
       "\\item '121'\n",
       "\\item '122'\n",
       "\\item '123'\n",
       "\\item '124'\n",
       "\\item '125'\n",
       "\\item '126'\n",
       "\\item '127'\n",
       "\\item '128'\n",
       "\\item '129'\n",
       "\\item '130'\n",
       "\\item '131'\n",
       "\\item '132'\n",
       "\\item '133'\n",
       "\\item '134'\n",
       "\\item '135'\n",
       "\\item '136'\n",
       "\\item '137'\n",
       "\\item '138'\n",
       "\\item '139'\n",
       "\\item '140'\n",
       "\\item '141'\n",
       "\\item '142'\n",
       "\\item '143'\n",
       "\\item '144'\n",
       "\\item '145'\n",
       "\\item '146'\n",
       "\\item '147'\n",
       "\\end{enumerate*}\n"
      ],
      "text/markdown": [
       "1. '1'\n",
       "2. '2'\n",
       "3. '3'\n",
       "4. '4'\n",
       "5. '5'\n",
       "6. '6'\n",
       "7. '7'\n",
       "8. '8'\n",
       "9. '9'\n",
       "10. '10'\n",
       "11. '11'\n",
       "12. '12'\n",
       "13. '13'\n",
       "14. '14'\n",
       "15. '15'\n",
       "16. '16'\n",
       "17. '17'\n",
       "18. '18'\n",
       "19. '19'\n",
       "20. '20'\n",
       "21. '21'\n",
       "22. '22'\n",
       "23. '23'\n",
       "24. '24'\n",
       "25. '25'\n",
       "26. '26'\n",
       "27. '27'\n",
       "28. '28'\n",
       "29. '29'\n",
       "30. '30'\n",
       "31. '31'\n",
       "32. '32'\n",
       "33. '33'\n",
       "34. '34'\n",
       "35. '35'\n",
       "36. '36'\n",
       "37. '37'\n",
       "38. '38'\n",
       "39. '39'\n",
       "40. '40'\n",
       "41. '41'\n",
       "42. '42'\n",
       "43. '43'\n",
       "44. '44'\n",
       "45. '45'\n",
       "46. '46'\n",
       "47. '47'\n",
       "48. '48'\n",
       "49. '49'\n",
       "50. '50'\n",
       "51. '51'\n",
       "52. '52'\n",
       "53. '53'\n",
       "54. '54'\n",
       "55. '55'\n",
       "56. '56'\n",
       "57. '57'\n",
       "58. '58'\n",
       "59. '59'\n",
       "60. '60'\n",
       "61. '61'\n",
       "62. '62'\n",
       "63. '63'\n",
       "64. '64'\n",
       "65. '65'\n",
       "66. '66'\n",
       "67. '67'\n",
       "68. '68'\n",
       "69. '69'\n",
       "70. '70'\n",
       "71. '71'\n",
       "72. '72'\n",
       "73. '73'\n",
       "74. '74'\n",
       "75. '75'\n",
       "76. '76'\n",
       "77. '77'\n",
       "78. '78'\n",
       "79. '79'\n",
       "80. '80'\n",
       "81. '81'\n",
       "82. '82'\n",
       "83. '83'\n",
       "84. '84'\n",
       "85. '85'\n",
       "86. '86'\n",
       "87. '87'\n",
       "88. '88'\n",
       "89. '89'\n",
       "90. '90'\n",
       "91. '91'\n",
       "92. '92'\n",
       "93. '93'\n",
       "94. '94'\n",
       "95. '95'\n",
       "96. '96'\n",
       "97. '97'\n",
       "98. '98'\n",
       "99. '99'\n",
       "100. '100'\n",
       "101. '101'\n",
       "102. '102'\n",
       "103. '103'\n",
       "104. '104'\n",
       "105. '105'\n",
       "106. '106'\n",
       "107. '107'\n",
       "108. '108'\n",
       "109. '109'\n",
       "110. '110'\n",
       "111. '111'\n",
       "112. '112'\n",
       "113. '113'\n",
       "114. '114'\n",
       "115. '115'\n",
       "116. '116'\n",
       "117. '117'\n",
       "118. '118'\n",
       "119. '119'\n",
       "120. '120'\n",
       "121. '121'\n",
       "122. '122'\n",
       "123. '123'\n",
       "124. '124'\n",
       "125. '125'\n",
       "126. '126'\n",
       "127. '127'\n",
       "128. '128'\n",
       "129. '129'\n",
       "130. '130'\n",
       "131. '131'\n",
       "132. '132'\n",
       "133. '133'\n",
       "134. '134'\n",
       "135. '135'\n",
       "136. '136'\n",
       "137. '137'\n",
       "138. '138'\n",
       "139. '139'\n",
       "140. '140'\n",
       "141. '141'\n",
       "142. '142'\n",
       "143. '143'\n",
       "144. '144'\n",
       "145. '145'\n",
       "146. '146'\n",
       "147. '147'\n",
       "\n",
       "\n"
      ],
      "text/plain": [
       "  [1] \"1\"   \"2\"   \"3\"   \"4\"   \"5\"   \"6\"   \"7\"   \"8\"   \"9\"   \"10\"  \"11\"  \"12\" \n",
       " [13] \"13\"  \"14\"  \"15\"  \"16\"  \"17\"  \"18\"  \"19\"  \"20\"  \"21\"  \"22\"  \"23\"  \"24\" \n",
       " [25] \"25\"  \"26\"  \"27\"  \"28\"  \"29\"  \"30\"  \"31\"  \"32\"  \"33\"  \"34\"  \"35\"  \"36\" \n",
       " [37] \"37\"  \"38\"  \"39\"  \"40\"  \"41\"  \"42\"  \"43\"  \"44\"  \"45\"  \"46\"  \"47\"  \"48\" \n",
       " [49] \"49\"  \"50\"  \"51\"  \"52\"  \"53\"  \"54\"  \"55\"  \"56\"  \"57\"  \"58\"  \"59\"  \"60\" \n",
       " [61] \"61\"  \"62\"  \"63\"  \"64\"  \"65\"  \"66\"  \"67\"  \"68\"  \"69\"  \"70\"  \"71\"  \"72\" \n",
       " [73] \"73\"  \"74\"  \"75\"  \"76\"  \"77\"  \"78\"  \"79\"  \"80\"  \"81\"  \"82\"  \"83\"  \"84\" \n",
       " [85] \"85\"  \"86\"  \"87\"  \"88\"  \"89\"  \"90\"  \"91\"  \"92\"  \"93\"  \"94\"  \"95\"  \"96\" \n",
       " [97] \"97\"  \"98\"  \"99\"  \"100\" \"101\" \"102\" \"103\" \"104\" \"105\" \"106\" \"107\" \"108\"\n",
       "[109] \"109\" \"110\" \"111\" \"112\" \"113\" \"114\" \"115\" \"116\" \"117\" \"118\" \"119\" \"120\"\n",
       "[121] \"121\" \"122\" \"123\" \"124\" \"125\" \"126\" \"127\" \"128\" \"129\" \"130\" \"131\" \"132\"\n",
       "[133] \"133\" \"134\" \"135\" \"136\" \"137\" \"138\" \"139\" \"140\" \"141\" \"142\" \"143\" \"144\"\n",
       "[145] \"145\" \"146\" \"147\""
      ]
     },
     "metadata": {},
     "output_type": "display_data"
    }
   ],
   "source": [
    "obs <- read.csv(\"obs.csv\")\n",
    "str(obs)\n",
    "\n",
    "row.names(obs)\n",
    "\n",
    "obs$zone <- as.factor(obs$zone)\n",
    "obs$wrb1 <- factor(obs$wrb1, labels=c(\"a\", \"c\", \"f\"))\n",
    "\n",
    "save(obs, file=\"obs.RData\")"
   ]
  },
  {
   "cell_type": "code",
   "execution_count": 2,
   "metadata": {},
   "outputs": [
    {
     "name": "stdout",
     "output_type": "stream",
     "text": [
      "'data.frame':\t147 obs. of  16 variables:\n",
      " $ id   : int  1 2 3 4 5 6 7 8 9 10 ...\n",
      " $ e    : int  702638 701659 703488 703421 703358 702334 681328 681508 681230 683989 ...\n",
      " $ n    : int  326959 326772 322133 322508 322846 324551 311602 311295 311053 311685 ...\n",
      " $ elev : int  657 628 840 707 670 780 720 657 600 720 ...\n",
      " $ zone : Factor w/ 4 levels \"1\",\"2\",\"3\",\"4\": 2 2 1 1 2 1 1 2 2 1 ...\n",
      " $ wrb1 : Factor w/ 3 levels \"a\",\"c\",\"f\": 3 3 3 3 3 3 3 3 3 3 ...\n",
      " $ LC   : Factor w/ 8 levels \"BF\",\"CF\",\"FF\",..: 3 3 4 4 4 4 3 3 4 4 ...\n",
      " $ Clay1: int  72 71 61 55 47 49 63 59 46 62 ...\n",
      " $ Clay2: int  74 75 59 62 56 53 66 66 56 63 ...\n",
      " $ Clay5: int  78 80 66 61 53 57 70 72 70 62 ...\n",
      " $ CEC1 : num  13.6 12.6 21.7 11.6 14.9 18.2 14.9 14.6 7.9 14.9 ...\n",
      " $ CEC2 : num  10.1 8.2 10.2 8.4 9.2 11.6 7.4 7.1 5.7 6.8 ...\n",
      " $ CEC5 : num  7.1 7.4 6.6 8 8.5 6.2 5.4 7 4.5 6 ...\n",
      " $ OC1  : num  5.5 3.2 6.98 3.19 4.4 5.31 4.55 4.5 2.3 7.34 ...\n",
      " $ OC2  : num  3.1 1.7 2.4 1.5 1.2 3.2 2.15 1.42 1.36 2.54 ...\n",
      " $ OC5  : num  1.5 1 1.3 1.26 0.8 ...\n"
     ]
    }
   ],
   "source": [
    "load(file=\"obs.RData\")\n",
    "\n",
    "str(obs)"
   ]
  },
  {
   "cell_type": "code",
   "execution_count": 3,
   "metadata": {
    "collapsed": true
   },
   "outputs": [],
   "source": [
    "# attach(obs)"
   ]
  },
  {
   "cell_type": "markdown",
   "metadata": {},
   "source": [
    "1. What are the values of soil properties important for agricultural productionand soil ecology in the study area? In particular, the organic matter content (OM), proportion of clay vs. sand and silt (Clay), and the cation exchange capacity (CEC) in the upper 50 cm of the soil.\n",
    "    1. OM promotes good soil structure, easy tillage, rapid infiltration and reduced runoff (hence less soil loss by surface water erosion); it also adsorbs nutrient cations and is a direct source of Nitrogen;\n",
    "    2. The proportion of clay has a major influence on soil structure, hard- ness, infiltration vs. runoff; almost all the nutrient cations not adsorbed on the OM are exchanged via the clay;\n",
    "    3. CEC is a direct measure of how well the soil can adsorb added cations from burned ash, natural animal and green manures, and artificial fertilizers.\n",
    "2. What is the inter-relation (association, correlation) between these three variables? How much total information do they provide?\n",
    "3. How well can CEC be predicted by OM, Clay, or both?\n",
    "4. What is the depth profile of these variables? Are they constant over the first 50 cm depth; if not, how do they vary with depth?\n",
    "5. Four agro-ecological zones and three major soil groups have been identified by previous mapping. Do the soil properties differ among these? If so, how much? Can the zones or soils groups be grouped or are they all different?\n",
    "6. Each observation is located geographically. Is there a trend in any of the properties across the region? If so, how much variation does it explain, in which direction is it, and how rapidly does the property vary with distance?\n",
    "7. Before or after taking any trend into account, is there any local spatial dependence in any of the variables?\n",
    "8. Is it necessary to do the (expensive) lab. procedure for CEC, or can it be predicted satisfactorily from the cheaper determinations for Clay and OM (or just one of these)?\n",
    "9. Is it necessary to sample at depth, or can the values at depth be calculated from the values in the surface layer? If so, the cost of soil sampling could be greatly reduced.\n",
    "10. Are the agro-ecological zones and/or soil maps a useful basis for predicting soil behaviour, and therefore a useful stratification for recommendations?\n",
    "11. What soil-forming factor explains any regional trend?\n",
    "12. What soil-forming factor explains any local spatial dependence? Finally, the statistical questions can be used to predict:\n",
    "13. How well can CEC be predicted by OM, Clay, or both?\n",
    "14. What are the expected values of the soil properties, and the uncertainties of these predictions, at unvisited locations in the study area? The last question can be answered by a predictive map."
   ]
  },
  {
   "cell_type": "markdown",
   "metadata": {},
   "source": [
    "# 1. Multivariate correlation and regression"
   ]
  },
  {
   "cell_type": "markdown",
   "metadata": {},
   "source": [
    "## 1.1 Multiple Correlation Analysis"
   ]
  },
  {
   "cell_type": "code",
   "execution_count": 4,
   "metadata": {},
   "outputs": [
    {
     "data": {
      "image/png": "[encoded data removed]",
      "text/plain": [
       "plot without title"
      ]
     },
     "metadata": {},
     "output_type": "display_data"
    }
   ],
   "source": [
    "# Pairwise simple correlations\n",
    "pairs( ~ Clay1 + OC1 + CEC1, data=obs)"
   ]
  },
  {
   "cell_type": "code",
   "execution_count": 5,
   "metadata": {
    "collapsed": true
   },
   "outputs": [],
   "source": [
    "# Remove column id\n",
    "drops <- c(\"id\")\n",
    "obs <- obs[ , !(names(obs) %in% drops)]"
   ]
  },
  {
   "cell_type": "code",
   "execution_count": 6,
   "metadata": {},
   "outputs": [
    {
     "data": {
      "text/html": [
       "<ol class=list-inline>\n",
       "\t<li>'e'</li>\n",
       "\t<li>'n'</li>\n",
       "\t<li>'elev'</li>\n",
       "\t<li>'zone'</li>\n",
       "\t<li>'wrb1'</li>\n",
       "\t<li>'LC'</li>\n",
       "\t<li>'Clay1'</li>\n",
       "\t<li>'Clay2'</li>\n",
       "\t<li>'Clay5'</li>\n",
       "\t<li>'CEC1'</li>\n",
       "\t<li>'CEC2'</li>\n",
       "\t<li>'CEC5'</li>\n",
       "\t<li>'OC1'</li>\n",
       "\t<li>'OC2'</li>\n",
       "\t<li>'OC5'</li>\n",
       "</ol>\n"
      ],
      "text/latex": [
       "\\begin{enumerate*}\n",
       "\\item 'e'\n",
       "\\item 'n'\n",
       "\\item 'elev'\n",
       "\\item 'zone'\n",
       "\\item 'wrb1'\n",
       "\\item 'LC'\n",
       "\\item 'Clay1'\n",
       "\\item 'Clay2'\n",
       "\\item 'Clay5'\n",
       "\\item 'CEC1'\n",
       "\\item 'CEC2'\n",
       "\\item 'CEC5'\n",
       "\\item 'OC1'\n",
       "\\item 'OC2'\n",
       "\\item 'OC5'\n",
       "\\end{enumerate*}\n"
      ],
      "text/markdown": [
       "1. 'e'\n",
       "2. 'n'\n",
       "3. 'elev'\n",
       "4. 'zone'\n",
       "5. 'wrb1'\n",
       "6. 'LC'\n",
       "7. 'Clay1'\n",
       "8. 'Clay2'\n",
       "9. 'Clay5'\n",
       "10. 'CEC1'\n",
       "11. 'CEC2'\n",
       "12. 'CEC5'\n",
       "13. 'OC1'\n",
       "14. 'OC2'\n",
       "15. 'OC5'\n",
       "\n",
       "\n"
      ],
      "text/plain": [
       " [1] \"e\"     \"n\"     \"elev\"  \"zone\"  \"wrb1\"  \"LC\"    \"Clay1\" \"Clay2\" \"Clay5\"\n",
       "[10] \"CEC1\"  \"CEC2\"  \"CEC5\"  \"OC1\"   \"OC2\"   \"OC5\"  "
      ]
     },
     "metadata": {},
     "output_type": "display_data"
    }
   ],
   "source": [
    "names(obs)"
   ]
  },
  {
   "cell_type": "markdown",
   "metadata": {},
   "source": [
    "#### Q60 Pairwise simple correlations\n",
    "The covariances depend on the measurement scales, whereas the correlations\n",
    "are standardised to the range [-1, 1] . CEC is highly correlated (r = 0.74) with organic\n",
    "carbon and somewhat less so (r = 0. 56) with clay content. The two predictors are also\n",
    "moderately correlated (r = 0.60)."
   ]
  },
  {
   "cell_type": "code",
   "execution_count": 7,
   "metadata": {},
   "outputs": [
    {
     "data": {
      "text/html": [
       "<table>\n",
       "<thead><tr><th></th><th scope=col>CEC1</th><th scope=col>Clay1</th><th scope=col>OC1</th></tr></thead>\n",
       "<tbody>\n",
       "\t<tr><th scope=row>CEC1</th><td>25.94793 </td><td> 39.60916</td><td> 5.679280</td></tr>\n",
       "\t<tr><th scope=row>Clay1</th><td>39.60916 </td><td>194.21312</td><td>12.502137</td></tr>\n",
       "\t<tr><th scope=row>OC1</th><td> 5.67928 </td><td> 12.50214</td><td> 2.252044</td></tr>\n",
       "</tbody>\n",
       "</table>\n"
      ],
      "text/latex": [
       "\\begin{tabular}{r|lll}\n",
       "  & CEC1 & Clay1 & OC1\\\\\n",
       "\\hline\n",
       "\tCEC1 & 25.94793  &  39.60916 &  5.679280\\\\\n",
       "\tClay1 & 39.60916  & 194.21312 & 12.502137\\\\\n",
       "\tOC1 &  5.67928  &  12.50214 &  2.252044\\\\\n",
       "\\end{tabular}\n"
      ],
      "text/markdown": [
       "\n",
       "| <!--/--> | CEC1 | Clay1 | OC1 | \n",
       "|---|---|---|\n",
       "| CEC1 | 25.94793  |  39.60916 |  5.679280 | \n",
       "| Clay1 | 39.60916  | 194.21312 | 12.502137 | \n",
       "| OC1 |  5.67928  |  12.50214 |  2.252044 | \n",
       "\n",
       "\n"
      ],
      "text/plain": [
       "      CEC1     Clay1     OC1      \n",
       "CEC1  25.94793  39.60916  5.679280\n",
       "Clay1 39.60916 194.21312 12.502137\n",
       "OC1    5.67928  12.50214  2.252044"
      ]
     },
     "metadata": {},
     "output_type": "display_data"
    }
   ],
   "source": [
    "cov(obs[c(10,7,13)])"
   ]
  },
  {
   "cell_type": "code",
   "execution_count": 8,
   "metadata": {},
   "outputs": [
    {
     "data": {
      "text/html": [
       "<table>\n",
       "<thead><tr><th></th><th scope=col>CEC1</th><th scope=col>Clay1</th><th scope=col>OC1</th></tr></thead>\n",
       "<tbody>\n",
       "\t<tr><th scope=row>CEC1</th><td>1.0000000</td><td>0.5579624</td><td>0.7429396</td></tr>\n",
       "\t<tr><th scope=row>Clay1</th><td>0.5579624</td><td>1.0000000</td><td>0.5978009</td></tr>\n",
       "\t<tr><th scope=row>OC1</th><td>0.7429396</td><td>0.5978009</td><td>1.0000000</td></tr>\n",
       "</tbody>\n",
       "</table>\n"
      ],
      "text/latex": [
       "\\begin{tabular}{r|lll}\n",
       "  & CEC1 & Clay1 & OC1\\\\\n",
       "\\hline\n",
       "\tCEC1 & 1.0000000 & 0.5579624 & 0.7429396\\\\\n",
       "\tClay1 & 0.5579624 & 1.0000000 & 0.5978009\\\\\n",
       "\tOC1 & 0.7429396 & 0.5978009 & 1.0000000\\\\\n",
       "\\end{tabular}\n"
      ],
      "text/markdown": [
       "\n",
       "| <!--/--> | CEC1 | Clay1 | OC1 | \n",
       "|---|---|---|\n",
       "| CEC1 | 1.0000000 | 0.5579624 | 0.7429396 | \n",
       "| Clay1 | 0.5579624 | 1.0000000 | 0.5978009 | \n",
       "| OC1 | 0.7429396 | 0.5978009 | 1.0000000 | \n",
       "\n",
       "\n"
      ],
      "text/plain": [
       "      CEC1      Clay1     OC1      \n",
       "CEC1  1.0000000 0.5579624 0.7429396\n",
       "Clay1 0.5579624 1.0000000 0.5978009\n",
       "OC1   0.7429396 0.5978009 1.0000000"
      ]
     },
     "metadata": {},
     "output_type": "display_data"
    }
   ],
   "source": [
    "cor(obs[c(10,7,13)])"
   ]
  },
  {
   "cell_type": "markdown",
   "metadata": {},
   "source": [
    "The simple correlations show how two variables are related, but do not answer whether there are any underlying relations between the entire\n",
    "set. For example, could an observed strong simple correlation between variables\n",
    "X and Y be because both are in fact correlated to some underlying variable Z?\n",
    "One way to examine this is by partial correlations, which show the correlation\n",
    "between two variables after *correcting for all others*.\n",
    "\n",
    "*Correcting for all others* means the correlation\n",
    "between the residuals of linear regressions between the two variables to be correlated and all the other variables. If the residuals left over after the regression are correlated, this can't be explained by the variables considered so far, so must be\n",
    "a true correlation between the two variables of interest."
   ]
  },
  {
   "cell_type": "markdown",
   "metadata": {},
   "source": [
    "\n",
    "#### Pairwise partial correlations"
   ]
  },
  {
   "cell_type": "markdown",
   "metadata": {},
   "source": [
    "CEC and Clay"
   ]
  },
  {
   "cell_type": "code",
   "execution_count": 9,
   "metadata": {},
   "outputs": [
    {
     "data": {
      "text/html": [
       "0.212141439730535"
      ],
      "text/latex": [
       "0.212141439730535"
      ],
      "text/markdown": [
       "0.212141439730535"
      ],
      "text/plain": [
       "[1] 0.2121414"
      ]
     },
     "metadata": {},
     "output_type": "display_data"
    }
   ],
   "source": [
    "# CEC is only weakly positively correlated ( r = 0.21 ) to Clay after\n",
    "# controlling for OC\n",
    "cor(residuals(lm(CEC1 ~ OC1, obs)), residuals(lm(Clay1 ~ OC1, obs)))"
   ]
  },
  {
   "cell_type": "code",
   "execution_count": 10,
   "metadata": {},
   "outputs": [
    {
     "data": {
      "text/html": [
       "0.557962428831996"
      ],
      "text/latex": [
       "0.557962428831996"
      ],
      "text/markdown": [
       "0.557962428831996"
      ],
      "text/plain": [
       "[1] 0.5579624"
      ]
     },
     "metadata": {},
     "output_type": "display_data"
    }
   ],
   "source": [
    "# CEC appears to be highly correlated to Clay  when not controlling for OC\n",
    "cor(obs$CEC1, obs$Clay1)"
   ]
  },
  {
   "cell_type": "markdown",
   "metadata": {},
   "source": [
    "CEC and OC"
   ]
  },
  {
   "cell_type": "code",
   "execution_count": 29,
   "metadata": {},
   "outputs": [
    {
     "data": {
      "text/html": [
       "0.61538422598745"
      ],
      "text/latex": [
       "0.61538422598745"
      ],
      "text/markdown": [
       "0.61538422598745"
      ],
      "text/plain": [
       "[1] 0.6153842"
      ]
     },
     "metadata": {},
     "output_type": "display_data"
    }
   ],
   "source": [
    "cor(residuals(lm(CEC1 ~ Clay1, obs)), residuals(lm(OC1 ~ Clay1, obs)), )"
   ]
  },
  {
   "cell_type": "code",
   "execution_count": 30,
   "metadata": {},
   "outputs": [
    {
     "data": {
      "text/html": [
       "0.742939585799977"
      ],
      "text/latex": [
       "0.742939585799977"
      ],
      "text/markdown": [
       "0.742939585799977"
      ],
      "text/plain": [
       "[1] 0.7429396"
      ]
     },
     "metadata": {},
     "output_type": "display_data"
    }
   ],
   "source": [
    "cor(obs$CEC1, obs$OC1)"
   ]
  },
  {
   "cell_type": "code",
   "execution_count": 35,
   "metadata": {},
   "outputs": [
    {
     "data": {
      "image/png": "[encoded data removed]",
      "text/plain": [
       "Plot with title “Partial Correlation, Clay vs. CEC, correcting for OC 0-10 cm”"
      ]
     },
     "metadata": {},
     "output_type": "display_data"
    }
   ],
   "source": [
    "par(mfrow=c(1,2))\n",
    "par(adj=0.5)\n",
    "plot(obs$CEC1 ~ obs$Clay1, pch=20, cex=1.5, xlim=c(0,100),\n",
    "xlab=\"Clay %\",\n",
    "ylab=\"CEC, cmol+ (kg soil)-1\")\n",
    "abline(h=mean(obs$CEC1), lty=2); abline(v=mean(obs$Clay1), lty=2)\n",
    "title(\"Simple Correlation, Clay vs. CEC 0-10 cm\")\n",
    "text(80, 4, cex=1.5, paste(\"r =\",round(cor(obs$Clay1, obs$CEC1), 3)))\n",
    "mr.1 <- residuals(lm(obs$CEC1 ~ obs$OC1)); mr.2 <-residuals(lm(Clay1 ~ OC1, obs))\n",
    "plot(mr.1 ~ mr.2, pch=20, cex=1.5, xlim=c(-50, 50),\n",
    "xlab=\"Residuals, Clay vs. OC, %\",\n",
    "ylab=\"Residuals, CEC vs. OC, cmol+ (kg soil)-1\")\n",
    "abline(h=mean(mr.1), lty=2); abline(v=mean(mr.2), lty=2)\n",
    "title(\"Partial Correlation, Clay vs. CEC, correcting for OC 0-10 cm\")\n",
    "text(25, -6, cex=1.5, paste(\"r =\",round(cor(mr.1, mr.2), 3)))\n",
    "par(adj=0)\n",
    "rm(mr.1, mr.2)\n",
    "par(mfrow=c(1,1))"
   ]
  },
  {
   "cell_type": "markdown",
   "metadata": {},
   "source": [
    "The two scatterplots show that much of the apparent pattern in the simple cor-\n",
    "relation plot (left) has been removed in the partial correlation plot (right); the\n",
    "points form a more di↵use cloud around the centroid."
   ]
  },
  {
   "cell_type": "markdown",
   "metadata": {},
   "source": [
    "#### Simultaneous computation of partial correlations"
   ]
  },
  {
   "cell_type": "markdown",
   "metadata": {},
   "source": [
    "Partial correlation can also be obtained from either the **variance-covariance** or simple **correlation** matrix of all the variables by *inverting* it and\n",
    "then *standardising* this inverse so that the diagonals are all 1 ; the off-diagonals\n",
    "are then the negative of the partial correlation coefficients."
   ]
  },
  {
   "cell_type": "code",
   "execution_count": 38,
   "metadata": {},
   "outputs": [
    {
     "data": {
      "text/html": [
       "<table>\n",
       "<thead><tr><th></th><th scope=col>CEC1</th><th scope=col>Clay1</th><th scope=col>OC1</th></tr></thead>\n",
       "<tbody>\n",
       "\t<tr><th scope=row>CEC1</th><td>1.0000000</td><td>0.2121414</td><td>0.6153842</td></tr>\n",
       "\t<tr><th scope=row>Clay1</th><td>0.2121414</td><td>1.0000000</td><td>0.3299294</td></tr>\n",
       "\t<tr><th scope=row>OC1</th><td>0.6153842</td><td>0.3299294</td><td>1.0000000</td></tr>\n",
       "</tbody>\n",
       "</table>\n"
      ],
      "text/latex": [
       "\\begin{tabular}{r|lll}\n",
       "  & CEC1 & Clay1 & OC1\\\\\n",
       "\\hline\n",
       "\tCEC1 & 1.0000000 & 0.2121414 & 0.6153842\\\\\n",
       "\tClay1 & 0.2121414 & 1.0000000 & 0.3299294\\\\\n",
       "\tOC1 & 0.6153842 & 0.3299294 & 1.0000000\\\\\n",
       "\\end{tabular}\n"
      ],
      "text/markdown": [
       "\n",
       "| <!--/--> | CEC1 | Clay1 | OC1 | \n",
       "|---|---|---|\n",
       "| CEC1 | 1.0000000 | 0.2121414 | 0.6153842 | \n",
       "| Clay1 | 0.2121414 | 1.0000000 | 0.3299294 | \n",
       "| OC1 | 0.6153842 | 0.3299294 | 1.0000000 | \n",
       "\n",
       "\n"
      ],
      "text/plain": [
       "      CEC1      Clay1     OC1      \n",
       "CEC1  1.0000000 0.2121414 0.6153842\n",
       "Clay1 0.2121414 1.0000000 0.3299294\n",
       "OC1   0.6153842 0.3299294 1.0000000"
      ]
     },
     "metadata": {},
     "output_type": "display_data"
    }
   ],
   "source": [
    "# R function to compute partial correlations\n",
    "p.cor <- function(x){\n",
    "     inv <- solve(var(x))\n",
    "     sdi <- diag(1/sqrt(diag(inv)))\n",
    "     p.cor.mat <- -(sdi %*% inv %*% sdi)\n",
    "     diag(p.cor.mat) <- 1\n",
    "     rownames(p.cor.mat) <- colnames(p.cor.mat) <- colnames(x)\n",
    "     return(p.cor.mat) }\n",
    "p.cor(obs[c(10,7,13)])"
   ]
  },
  {
   "cell_type": "markdown",
   "metadata": {},
   "source": [
    "## 1.2 Multiple Regression Analysis"
   ]
  },
  {
   "cell_type": "markdown",
   "metadata": {
    "collapsed": true
   },
   "source": [
    "Objective: Get best predictive equation for CEC\n",
    "\n",
    "Possible predictors:\n",
    "* Clay\n",
    "* OC\n",
    "* Clay and OC"
   ]
  },
  {
   "cell_type": "markdown",
   "metadata": {},
   "source": [
    "Steps:\n",
    "1. Check if there may be some relation [(see previous section)](#1.1-Multiple-Correlation-Analysis)\n",
    "2. Compute all the regressions; compare to each other and to *null* regression."
   ]
  },
  {
   "cell_type": "code",
   "execution_count": 3,
   "metadata": {},
   "outputs": [
    {
     "data": {
      "text/plain": [
       "\n",
       "Call:\n",
       "lm(formula = CEC1 ~ 1, data = obs)\n",
       "\n",
       "Residuals:\n",
       "   Min     1Q Median     3Q    Max \n",
       "-8.204 -3.704 -1.104  1.896 17.796 \n",
       "\n",
       "Coefficients:\n",
       "            Estimate Std. Error t value Pr(>|t|)    \n",
       "(Intercept)  11.2041     0.4201   26.67   <2e-16 ***\n",
       "---\n",
       "Signif. codes:  0 ‘***’ 0.001 ‘**’ 0.01 ‘*’ 0.05 ‘.’ 0.1 ‘ ’ 1\n",
       "\n",
       "Residual standard error: 5.094 on 146 degrees of freedom\n"
      ]
     },
     "metadata": {},
     "output_type": "display_data"
    }
   ],
   "source": [
    "lmcec.null <- lm(CEC1 ~ 1, obs); summary(lmcec.null)"
   ]
  },
  {
   "cell_type": "code",
   "execution_count": 4,
   "metadata": {},
   "outputs": [
    {
     "data": {
      "text/plain": [
       "\n",
       "Call:\n",
       "lm(formula = CEC1 ~ OC1, data = obs)\n",
       "\n",
       "Residuals:\n",
       "    Min      1Q  Median      3Q     Max \n",
       "-7.2809 -2.2469 -0.2099  1.5770 15.1936 \n",
       "\n",
       "Coefficients:\n",
       "            Estimate Std. Error t value Pr(>|t|)    \n",
       "(Intercept)   3.6706     0.6304   5.823 3.57e-08 ***\n",
       "OC1           2.5218     0.1887  13.365  < 2e-16 ***\n",
       "---\n",
       "Signif. codes:  0 ‘***’ 0.001 ‘**’ 0.01 ‘*’ 0.05 ‘.’ 0.1 ‘ ’ 1\n",
       "\n",
       "Residual standard error: 3.421 on 145 degrees of freedom\n",
       "Multiple R-squared:  0.552,\tAdjusted R-squared:  0.5489 \n",
       "F-statistic: 178.6 on 1 and 145 DF,  p-value: < 2.2e-16\n"
      ]
     },
     "metadata": {},
     "output_type": "display_data"
    }
   ],
   "source": [
    "lmcec.oc <- lm(CEC1 ~ OC1, obs); summary(lmcec.oc)"
   ]
  },
  {
   "cell_type": "code",
   "execution_count": 5,
   "metadata": {},
   "outputs": [
    {
     "data": {
      "text/plain": [
       "\n",
       "Call:\n",
       "lm(formula = CEC1 ~ Clay1, data = obs)\n",
       "\n",
       "Residuals:\n",
       "    Min      1Q  Median      3Q     Max \n",
       "-6.7065 -3.3512 -0.6446  2.2007 14.1962 \n",
       "\n",
       "Coefficients:\n",
       "            Estimate Std. Error t value Pr(>|t|)    \n",
       "(Intercept)  4.82623    0.86195   5.599 1.05e-07 ***\n",
       "Clay1        0.20395    0.02519   8.096 2.11e-13 ***\n",
       "---\n",
       "Signif. codes:  0 ‘***’ 0.001 ‘**’ 0.01 ‘*’ 0.05 ‘.’ 0.1 ‘ ’ 1\n",
       "\n",
       "Residual standard error: 4.242 on 145 degrees of freedom\n",
       "Multiple R-squared:  0.3113,\tAdjusted R-squared:  0.3066 \n",
       "F-statistic: 65.55 on 1 and 145 DF,  p-value: 2.107e-13\n"
      ]
     },
     "metadata": {},
     "output_type": "display_data"
    }
   ],
   "source": [
    "lmcec.clay <- lm(CEC1 ~ Clay1, obs); summary(lmcec.clay)"
   ]
  },
  {
   "cell_type": "code",
   "execution_count": 6,
   "metadata": {},
   "outputs": [
    {
     "data": {
      "text/plain": [
       "\n",
       "Call:\n",
       "lm(formula = CEC1 ~ OC1 + Clay1, data = obs)\n",
       "\n",
       "Residuals:\n",
       "    Min      1Q  Median      3Q     Max \n",
       "-7.7059 -2.0159 -0.3772  1.2887 15.1154 \n",
       "\n",
       "Coefficients:\n",
       "            Estimate Std. Error t value Pr(>|t|)    \n",
       "(Intercept)  2.71960    0.71790   3.788 0.000222 ***\n",
       "OC1          2.16240    0.23081   9.369  < 2e-16 ***\n",
       "Clay1        0.06475    0.02485   2.605 0.010152 *  \n",
       "---\n",
       "Signif. codes:  0 ‘***’ 0.001 ‘**’ 0.01 ‘*’ 0.05 ‘.’ 0.1 ‘ ’ 1\n",
       "\n",
       "Residual standard error: 3.355 on 144 degrees of freedom\n",
       "Multiple R-squared:  0.5721,\tAdjusted R-squared:  0.5662 \n",
       "F-statistic: 96.27 on 2 and 144 DF,  p-value: < 2.2e-16\n"
      ]
     },
     "metadata": {},
     "output_type": "display_data"
    }
   ],
   "source": [
    "lmcec.oc.cl <- lm(CEC1 ~ OC1 + Clay1, obs); summary(lmcec.oc.cl)"
   ]
  },
  {
   "cell_type": "code",
   "execution_count": 7,
   "metadata": {},
   "outputs": [
    {
     "data": {
      "text/plain": [
       "\n",
       "Call:\n",
       "lm(formula = CEC1 ~ Clay1 + OC1, data = obs)\n",
       "\n",
       "Residuals:\n",
       "    Min      1Q  Median      3Q     Max \n",
       "-7.7059 -2.0159 -0.3772  1.2887 15.1154 \n",
       "\n",
       "Coefficients:\n",
       "            Estimate Std. Error t value Pr(>|t|)    \n",
       "(Intercept)  2.71960    0.71790   3.788 0.000222 ***\n",
       "Clay1        0.06475    0.02485   2.605 0.010152 *  \n",
       "OC1          2.16240    0.23081   9.369  < 2e-16 ***\n",
       "---\n",
       "Signif. codes:  0 ‘***’ 0.001 ‘**’ 0.01 ‘*’ 0.05 ‘.’ 0.1 ‘ ’ 1\n",
       "\n",
       "Residual standard error: 3.355 on 144 degrees of freedom\n",
       "Multiple R-squared:  0.5721,\tAdjusted R-squared:  0.5662 \n",
       "F-statistic: 96.27 on 2 and 144 DF,  p-value: < 2.2e-16\n"
      ]
     },
     "metadata": {},
     "output_type": "display_data"
    }
   ],
   "source": [
    "lmcec.cl.oc <- lm(CEC1 ~ Clay1 + OC1, obs); summary(lmcec.cl.oc)"
   ]
  },
  {
   "cell_type": "markdown",
   "metadata": {},
   "source": [
    "We can see that when adding `Clay` to the model using only `OC`, $R^2$ increases only  by 0.5662-0.5489=.0173 (1.7%)\n",
    "\n",
    "This is significant at the $\\alpha=0.05$ but not at the $\\alpha=0.01$ level"
   ]
  },
  {
   "cell_type": "markdown",
   "metadata": {},
   "source": [
    "## 1.3 Comparing regression models"
   ]
  },
  {
   "cell_type": "markdown",
   "metadata": {},
   "source": [
    "#### 1.3.1 adj $R^2$"
   ]
  },
  {
   "cell_type": "code",
   "execution_count": 8,
   "metadata": {},
   "outputs": [
    {
     "data": {
      "text/html": [
       "0"
      ],
      "text/latex": [
       "0"
      ],
      "text/markdown": [
       "0"
      ],
      "text/plain": [
       "[1] 0"
      ]
     },
     "metadata": {},
     "output_type": "display_data"
    }
   ],
   "source": [
    "summary(lmcec.null)$adj.r.squared"
   ]
  },
  {
   "cell_type": "code",
   "execution_count": 9,
   "metadata": {},
   "outputs": [
    {
     "data": {
      "text/html": [
       "0.548869291791045"
      ],
      "text/latex": [
       "0.548869291791045"
      ],
      "text/markdown": [
       "0.548869291791045"
      ],
      "text/plain": [
       "[1] 0.5488693"
      ]
     },
     "metadata": {},
     "output_type": "display_data"
    }
   ],
   "source": [
    "summary(lmcec.oc)$adj.r.squared"
   ]
  },
  {
   "cell_type": "code",
   "execution_count": 10,
   "metadata": {},
   "outputs": [
    {
     "data": {
      "text/html": [
       "0.306572569036294"
      ],
      "text/latex": [
       "0.306572569036294"
      ],
      "text/markdown": [
       "0.306572569036294"
      ],
      "text/plain": [
       "[1] 0.3065726"
      ]
     },
     "metadata": {},
     "output_type": "display_data"
    }
   ],
   "source": [
    "summary(lmcec.clay)$adj.r.squared"
   ]
  },
  {
   "cell_type": "code",
   "execution_count": 11,
   "metadata": {},
   "outputs": [
    {
     "data": {
      "text/html": [
       "0.566180112582877"
      ],
      "text/latex": [
       "0.566180112582877"
      ],
      "text/markdown": [
       "0.566180112582877"
      ],
      "text/plain": [
       "[1] 0.5661801"
      ]
     },
     "metadata": {},
     "output_type": "display_data"
    }
   ],
   "source": [
    "summary(lmcec.oc.cl)$adj.r.squared"
   ]
  },
  {
   "cell_type": "markdown",
   "metadata": {},
   "source": [
    "#### 1.3.2 AIC"
   ]
  },
  {
   "cell_type": "code",
   "execution_count": 12,
   "metadata": {},
   "outputs": [
    {
     "data": {
      "text/html": [
       "898.810003145481"
      ],
      "text/latex": [
       "898.810003145481"
      ],
      "text/markdown": [
       "898.810003145481"
      ],
      "text/plain": [
       "[1] 898.81"
      ]
     },
     "metadata": {},
     "output_type": "display_data"
    },
    {
     "data": {
      "text/html": [
       "782.787959955105"
      ],
      "text/latex": [
       "782.787959955105"
      ],
      "text/markdown": [
       "782.787959955105"
      ],
      "text/plain": [
       "[1] 782.788"
      ]
     },
     "metadata": {},
     "output_type": "display_data"
    },
    {
     "data": {
      "text/html": [
       "845.981712985324"
      ],
      "text/latex": [
       "845.981712985324"
      ],
      "text/markdown": [
       "845.981712985324"
      ],
      "text/plain": [
       "[1] 845.9817"
      ]
     },
     "metadata": {},
     "output_type": "display_data"
    },
    {
     "data": {
      "text/html": [
       "778.018886757163"
      ],
      "text/latex": [
       "778.018886757163"
      ],
      "text/markdown": [
       "778.018886757163"
      ],
      "text/plain": [
       "[1] 778.0189"
      ]
     },
     "metadata": {},
     "output_type": "display_data"
    }
   ],
   "source": [
    "AIC(lmcec.null); AIC(lmcec.oc); AIC(lmcec.clay); AIC(lmcec.oc.cl)"
   ]
  },
  {
   "cell_type": "markdown",
   "metadata": {},
   "source": [
    "#### 1.3.3 ANOVA"
   ]
  },
  {
   "cell_type": "code",
   "execution_count": 16,
   "metadata": {},
   "outputs": [
    {
     "data": {
      "text/html": [
       "<table>\n",
       "<thead><tr><th scope=col>Res.Df</th><th scope=col>RSS</th><th scope=col>Df</th><th scope=col>Sum of Sq</th><th scope=col>F</th><th scope=col>Pr(&gt;F)</th></tr></thead>\n",
       "<tbody>\n",
       "\t<tr><td>144         </td><td>1620.969    </td><td>NA          </td><td>      NA    </td><td>      NA    </td><td>          NA</td></tr>\n",
       "\t<tr><td>145         </td><td>2608.986    </td><td>-1          </td><td>-988.017    </td><td>87.77125    </td><td>1.399321e-16</td></tr>\n",
       "</tbody>\n",
       "</table>\n"
      ],
      "text/latex": [
       "\\begin{tabular}{r|llllll}\n",
       " Res.Df & RSS & Df & Sum of Sq & F & Pr(>F)\\\\\n",
       "\\hline\n",
       "\t 144          & 1620.969     & NA           &       NA     &       NA     &           NA\\\\\n",
       "\t 145          & 2608.986     & -1           & -988.017     & 87.77125     & 1.399321e-16\\\\\n",
       "\\end{tabular}\n"
      ],
      "text/markdown": [
       "\n",
       "Res.Df | RSS | Df | Sum of Sq | F | Pr(>F) | \n",
       "|---|---|\n",
       "| 144          | 1620.969     | NA           |       NA     |       NA     |           NA | \n",
       "| 145          | 2608.986     | -1           | -988.017     | 87.77125     | 1.399321e-16 | \n",
       "\n",
       "\n"
      ],
      "text/plain": [
       "  Res.Df RSS      Df Sum of Sq F        Pr(>F)      \n",
       "1 144    1620.969 NA       NA        NA           NA\n",
       "2 145    2608.986 -1 -988.017  87.77125 1.399321e-16"
      ]
     },
     "metadata": {},
     "output_type": "display_data"
    },
    {
     "data": {
      "text/html": [
       "0.378697745594173"
      ],
      "text/latex": [
       "0.378697745594173"
      ],
      "text/markdown": [
       "0.378697745594173"
      ],
      "text/plain": [
       "[1] 0.3786977"
      ]
     },
     "metadata": {},
     "output_type": "display_data"
    }
   ],
   "source": [
    "(a <- anova(lmcec.oc.cl, lmcec.clay))\n",
    "\n",
    "# Compute the reduction of RSS\n",
    "# In this case, it's about 38% compared to the simpler model\n",
    "diff(a$RSS)/a$RSS[2]"
   ]
  },
  {
   "cell_type": "code",
   "execution_count": 18,
   "metadata": {},
   "outputs": [
    {
     "data": {
      "text/html": [
       "<table>\n",
       "<thead><tr><th scope=col>Res.Df</th><th scope=col>RSS</th><th scope=col>Df</th><th scope=col>Sum of Sq</th><th scope=col>F</th><th scope=col>Pr(&gt;F)</th></tr></thead>\n",
       "<tbody>\n",
       "\t<tr><td>144       </td><td>1620.969  </td><td>NA        </td><td>       NA </td><td>     NA   </td><td>        NA</td></tr>\n",
       "\t<tr><td>145       </td><td>1697.357  </td><td>-1        </td><td>-76.38782 </td><td>6.78597   </td><td>0.01015197</td></tr>\n",
       "</tbody>\n",
       "</table>\n"
      ],
      "text/latex": [
       "\\begin{tabular}{r|llllll}\n",
       " Res.Df & RSS & Df & Sum of Sq & F & Pr(>F)\\\\\n",
       "\\hline\n",
       "\t 144        & 1620.969   & NA         &        NA  &      NA    &         NA\\\\\n",
       "\t 145        & 1697.357   & -1         & -76.38782  & 6.78597    & 0.01015197\\\\\n",
       "\\end{tabular}\n"
      ],
      "text/markdown": [
       "\n",
       "Res.Df | RSS | Df | Sum of Sq | F | Pr(>F) | \n",
       "|---|---|\n",
       "| 144        | 1620.969   | NA         |        NA  |      NA    |         NA | \n",
       "| 145        | 1697.357   | -1         | -76.38782  | 6.78597    | 0.01015197 | \n",
       "\n",
       "\n"
      ],
      "text/plain": [
       "  Res.Df RSS      Df Sum of Sq F       Pr(>F)    \n",
       "1 144    1620.969 NA        NA      NA         NA\n",
       "2 145    1697.357 -1 -76.38782 6.78597 0.01015197"
      ]
     },
     "metadata": {},
     "output_type": "display_data"
    },
    {
     "data": {
      "text/html": [
       "0.0450039904509442"
      ],
      "text/latex": [
       "0.0450039904509442"
      ],
      "text/markdown": [
       "0.0450039904509442"
      ],
      "text/plain": [
       "[1] 0.04500399"
      ]
     },
     "metadata": {},
     "output_type": "display_data"
    }
   ],
   "source": [
    "(a <- anova(lmcec.oc.cl, lmcec.oc))\n",
    "\n",
    "# Compute the reduction of RSS\n",
    "diff(a$RSS)/a$RSS[2]"
   ]
  },
  {
   "cell_type": "code",
   "execution_count": 20,
   "metadata": {
    "collapsed": true
   },
   "outputs": [],
   "source": [
    "# TODO: Task 44 -- diaplay two diagnostic plots for the best model"
   ]
  },
  {
   "cell_type": "markdown",
   "metadata": {},
   "source": [
    "## 1.4 Stepwise multiple regression\n",
    "Now we let R try out many equations and select the best, using `step`\n",
    "\n",
    "It  eliminates variables until no more can be eliminated without increasing the AIC."
   ]
  },
  {
   "cell_type": "code",
   "execution_count": 21,
   "metadata": {},
   "outputs": [
    {
     "name": "stdout",
     "output_type": "stream",
     "text": [
      "Start:  AIC=461.91\n",
      "Clay2 ~ Clay1 + CEC1 + OC1\n",
      "\n",
      "        Df Sum of Sq     RSS    AIC\n",
      "<none>                3223.5 461.91\n",
      "- OC1    1      81.3  3304.8 463.56\n",
      "- CEC1   1     179.1  3402.6 467.86\n",
      "- Clay1  1   21077.8 24301.3 756.85\n"
     ]
    }
   ],
   "source": [
    "lms <- step(lm(Clay2 ~ Clay1 + CEC1 + OC1, obs))"
   ]
  },
  {
   "cell_type": "markdown",
   "metadata": {},
   "source": [
    "Best model is the full one (has lowest AIC). However, by removing OC1 or CEC1 there's not a large difference (i.e. they are statistically valid, although not so useful)."
   ]
  },
  {
   "cell_type": "code",
   "execution_count": 22,
   "metadata": {},
   "outputs": [
    {
     "name": "stdout",
     "output_type": "stream",
     "text": [
      "Start:  AIC=420.7\n",
      "Clay5 ~ Clay1 + CEC1 + OC1 + Clay2 + CEC2 + OC2\n",
      "\n",
      "        Df Sum of Sq    RSS    AIC\n",
      "- CEC1   1      0.73 2338.8 418.75\n",
      "- OC1    1      8.66 2346.8 419.24\n",
      "- OC2    1     12.16 2350.3 419.46\n",
      "- Clay1  1     27.25 2365.4 420.40\n",
      "<none>               2338.1 420.70\n",
      "- CEC2   1     48.46 2386.6 421.72\n",
      "- Clay2  1   1763.89 4102.0 501.33\n",
      "\n",
      "Step:  AIC=418.75\n",
      "Clay5 ~ Clay1 + OC1 + Clay2 + CEC2 + OC2\n",
      "\n",
      "        Df Sum of Sq    RSS    AIC\n",
      "- OC1    1     10.88 2349.7 417.43\n",
      "- OC2    1     11.51 2350.4 417.47\n",
      "- Clay1  1     31.15 2370.0 418.69\n",
      "<none>               2338.8 418.75\n",
      "- CEC2   1     75.89 2414.7 421.44\n",
      "- Clay2  1   1966.50 4305.3 506.45\n",
      "\n",
      "Step:  AIC=417.43\n",
      "Clay5 ~ Clay1 + Clay2 + CEC2 + OC2\n",
      "\n",
      "        Df Sum of Sq    RSS    AIC\n",
      "- OC2    1      5.49 2355.2 415.77\n",
      "- Clay1  1     21.30 2371.0 416.75\n",
      "<none>               2349.7 417.43\n",
      "- CEC2   1     66.90 2416.6 419.55\n",
      "- Clay2  1   2294.24 4644.0 515.58\n",
      "\n",
      "Step:  AIC=415.77\n",
      "Clay5 ~ Clay1 + Clay2 + CEC2\n",
      "\n",
      "        Df Sum of Sq    RSS    AIC\n",
      "<none>               2355.2 415.77\n",
      "- Clay1  1     36.45 2391.7 416.03\n",
      "- CEC2   1     62.28 2417.5 417.61\n",
      "- Clay2  1   2310.92 4666.1 514.27\n"
     ]
    }
   ],
   "source": [
    "lms <- step(lm(Clay5 ~ Clay1 + CEC1 + OC1 + Clay2 + CEC2 + OC2, obs))"
   ]
  },
  {
   "cell_type": "markdown",
   "metadata": {},
   "source": [
    "The resulting best model is Clay5 ~ Clay1 + Clay2 + CEC2"
   ]
  },
  {
   "cell_type": "markdown",
   "metadata": {},
   "source": [
    "## 1.5 Combining discrete and continuous predictors\n",
    "\n",
    "One-way ANOVA on a factor and univariate regression on a continuous predictor are particular cases of linear modelling - They can be combined in a multiple regression"
   ]
  },
  {
   "cell_type": "code",
   "execution_count": 24,
   "metadata": {},
   "outputs": [
    {
     "data": {
      "text/plain": [
       "\n",
       "Call:\n",
       "lm(formula = Clay5 ~ zone, data = obs)\n",
       "\n",
       "Residuals:\n",
       "    Min      1Q  Median      3Q     Max \n",
       "-32.950  -5.396   0.159   3.159  24.050 \n",
       "\n",
       "Coefficients:\n",
       "            Estimate Std. Error t value Pr(>|t|)    \n",
       "(Intercept)   55.000      3.209  17.138  < 2e-16 ***\n",
       "zone2          0.950      3.515   0.270  0.78737    \n",
       "zone3        -11.159      3.407  -3.275  0.00132 ** \n",
       "zone4        -23.667      3.548  -6.671 5.18e-10 ***\n",
       "---\n",
       "Signif. codes:  0 ‘***’ 0.001 ‘**’ 0.01 ‘*’ 0.05 ‘.’ 0.1 ‘ ’ 1\n",
       "\n",
       "Residual standard error: 9.077 on 143 degrees of freedom\n",
       "Multiple R-squared:  0.5126,\tAdjusted R-squared:  0.5023 \n",
       "F-statistic: 50.12 on 3 and 143 DF,  p-value: < 2.2e-16\n"
      ]
     },
     "metadata": {},
     "output_type": "display_data"
    }
   ],
   "source": [
    "lm5z <- lm(Clay5 ~ zone, obs); summary(lm5z)"
   ]
  },
  {
   "cell_type": "code",
   "execution_count": 25,
   "metadata": {},
   "outputs": [
    {
     "data": {
      "text/plain": [
       "\n",
       "Call:\n",
       "lm(formula = Clay5 ~ Clay1, data = obs)\n",
       "\n",
       "Residuals:\n",
       "     Min       1Q   Median       3Q      Max \n",
       "-20.6258  -3.1907   0.0055   3.3875  14.1500 \n",
       "\n",
       "Coefficients:\n",
       "            Estimate Std. Error t value Pr(>|t|)    \n",
       "(Intercept) 18.75856    1.15561   16.23   <2e-16 ***\n",
       "Clay1        0.82891    0.03377   24.54   <2e-16 ***\n",
       "---\n",
       "Signif. codes:  0 ‘***’ 0.001 ‘**’ 0.01 ‘*’ 0.05 ‘.’ 0.1 ‘ ’ 1\n",
       "\n",
       "Residual standard error: 5.687 on 145 degrees of freedom\n",
       "Multiple R-squared:  0.806,\tAdjusted R-squared:  0.8047 \n",
       "F-statistic: 602.4 on 1 and 145 DF,  p-value: < 2.2e-16\n"
      ]
     },
     "metadata": {},
     "output_type": "display_data"
    }
   ],
   "source": [
    "lm51 <- lm(Clay5 ~ Clay1, obs); summary(lm51)"
   ]
  },
  {
   "cell_type": "code",
   "execution_count": 26,
   "metadata": {},
   "outputs": [
    {
     "data": {
      "text/plain": [
       "\n",
       "Call:\n",
       "lm(formula = Clay5 ~ zone + Clay1, data = obs)\n",
       "\n",
       "Residuals:\n",
       "     Min       1Q   Median       3Q      Max \n",
       "-24.0863  -2.9937   0.1505   3.1385  13.8878 \n",
       "\n",
       "Coefficients:\n",
       "            Estimate Std. Error t value Pr(>|t|)    \n",
       "(Intercept) 19.32443    2.90540   6.651 5.83e-10 ***\n",
       "zone2        5.69448    2.10604   2.704  0.00769 ** \n",
       "zone3        2.25099    2.18312   1.031  0.30425    \n",
       "zone4       -0.65940    2.53650  -0.260  0.79527    \n",
       "Clay1        0.73558    0.04525  16.256  < 2e-16 ***\n",
       "---\n",
       "Signif. codes:  0 ‘***’ 0.001 ‘**’ 0.01 ‘*’ 0.05 ‘.’ 0.1 ‘ ’ 1\n",
       "\n",
       "Residual standard error: 5.385 on 142 degrees of freedom\n",
       "Multiple R-squared:  0.8296,\tAdjusted R-squared:  0.8248 \n",
       "F-statistic: 172.9 on 4 and 142 DF,  p-value: < 2.2e-16\n"
      ]
     },
     "metadata": {},
     "output_type": "display_data"
    }
   ],
   "source": [
    "lm5z1 <- lm(Clay5 ~ zone + Clay1, obs); summary(lm5z1)"
   ]
  },
  {
   "cell_type": "markdown",
   "metadata": {},
   "source": [
    "This is called parallel regression. Specifies an additive model. One regression line (for the continuous predictor) which is displaced vertically according to the mean value of the discrete predictor.\n",
    "\n",
    "O sea: que segun el valor de la zona, voy a tener una media u otra. La pendiente depende solamente de Clay1.\n",
    "\n",
    "The only effect of the discrete predictor is to adjust the mean."
   ]
  },
  {
   "cell_type": "code",
   "execution_count": 27,
   "metadata": {},
   "outputs": [
    {
     "name": "stdout",
     "output_type": "stream",
     "text": [
      "\n",
      "  The decimal point is at the |\n",
      "\n",
      "  -24 | 1\n",
      "  -22 | \n",
      "  -20 | \n",
      "  -18 | \n",
      "  -16 | \n",
      "  -14 | \n",
      "  -12 | \n",
      "  -10 | 540\n",
      "   -8 | 77104\n",
      "   -6 | 10099662\n",
      "   -4 | 888539854322\n",
      "   -2 | 8655321009876110\n",
      "   -0 | 9866654322110987666555321\n",
      "    0 | 00122334445679023444466688889\n",
      "    2 | 0334488900122333345568\n",
      "    4 | 0336800058\n",
      "    6 | 35792244\n",
      "    8 | 5\n",
      "   10 | 11188\n",
      "   12 | 49\n",
      "\n"
     ]
    }
   ],
   "source": [
    "# Look at the residuals\n",
    "stem(residuals(lm5z1))"
   ]
  },
  {
   "cell_type": "markdown",
   "metadata": {},
   "source": [
    "(see pdf for more work on this)"
   ]
  },
  {
   "cell_type": "markdown",
   "metadata": {},
   "source": [
    "## 1.6 Diagnosing multi-collinearity"
   ]
  },
  {
   "cell_type": "markdown",
   "metadata": {},
   "source": [
    "We can reduce a regression equation by examining the relation between predictors and predictand for multi-collinearity: if two variables are perfectly related, one can be eliminated because it won't add information as a predictor.\n",
    "\n",
    "**Variance Inflation Factor** (VIF) measures the effect of a set of predictors on the variance of the coefficient of another predictor. Square root of VIF gives the increase in std error of the coefficient in the full model, compared with the *uncorrelated* case."
   ]
  },
  {
   "cell_type": "code",
   "execution_count": null,
   "metadata": {
    "collapsed": true
   },
   "outputs": [],
   "source": []
  }
 ],
 "metadata": {
  "kernelspec": {
   "display_name": "R",
   "language": "R",
   "name": "ir"
  },
  "language_info": {
   "codemirror_mode": "r",
   "file_extension": ".r",
   "mimetype": "text/x-r-source",
   "name": "R",
   "pygments_lexer": "r",
   "version": "3.4.2"
  }
 },
 "nbformat": 4,
 "nbformat_minor": 2
}

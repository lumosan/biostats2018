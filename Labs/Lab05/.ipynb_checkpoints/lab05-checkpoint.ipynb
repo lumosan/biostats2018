{
 "cells": [
  {
   "cell_type": "markdown",
   "metadata": {},
   "source": [
    "# Survival Analysis\n",
    "The purpose of this TP is to practice using R for carrying out survival analysis for two data sets.\n",
    "As usual, make sure that you read the help for any new functions and data that you use."
   ]
  },
  {
   "cell_type": "markdown",
   "metadata": {},
   "source": [
    "## 1. Glioma data\n",
    "Load the glioma data and read the help for this data set so that you understand a little about the scientific background and question of\n",
    "interest as well as the variables included in the data. In this study, the main interest is to investigate whether patients receiving a novel\n",
    "radioimmunotherapy (RIT) have, on average, longer survival times than patients in the control group.\n",
    "\n",
    "To look for differences in survival, we examine the Kaplan-Meiere estimates of the survival functions for the treatment and control\n",
    "groups. The Kaplan-Meier estimates for survival functions are computed by the survfit function from the survival package. To get\n",
    "this, you use a model formula of the form:\n",
    "\n",
    "`Surv(time, event) ~ group`\n",
    "\n",
    "where `time` is the survival times, `event` is a logical variable taking the value `TRUE` when the event of interest (e.g. death) is observed\n",
    "and `FALSE` in the case of censoring. The variable `group` is a grouping factor.\n"
   ]
  },
  {
   "cell_type": "code",
   "execution_count": 1,
   "metadata": {
    "collapsed": true
   },
   "outputs": [],
   "source": [
    "data(\"glioma\", package = \"coin\")\n",
    "library(\"survival\")\n",
    "layout(matrix(1:2, ncol = 2))\n",
    "par(pty = \"s\") # to make square plots"
   ]
  },
  {
   "cell_type": "markdown",
   "metadata": {},
   "source": [
    "We are interested in testing differences between treated and control patients separately for Grade III and Grade IV (GBM) glioma\n",
    "patients (glioma is a type of brain tumor). Plot the Kaplan-Meier curves for treated and control patients within each grade (making\n",
    "square plots).`"
   ]
  },
  {
   "cell_type": "code",
   "execution_count": 2,
   "metadata": {
    "collapsed": true
   },
   "outputs": [],
   "source": [
    "g3 <- subset(glioma, histology == \"Grade3\")"
   ]
  },
  {
   "cell_type": "code",
   "execution_count": 3,
   "metadata": {},
   "outputs": [
    {
     "data": {
      "image/png": "[encoded data removed]",
      "text/plain": [
       "Plot with title “Grade\n",
       "III Glioma”"
      ]
     },
     "metadata": {},
     "output_type": "display_data"
    }
   ],
   "source": [
    "plot(survfit(Surv(time, event) ~ group, data = g3), main=\"Grade\n",
    "III Glioma\", lty = c(2,1), ylab =\n",
    "\"Probability\", xlab = \"Survival Time (months)\", xlim= c(0, max(glioma$time) * 1.05))\n",
    "legend(\"bottomleft\", c(\"Control\", \"Treated\"), lty = c(2,1), bty = \"n\")"
   ]
  },
  {
   "cell_type": "code",
   "execution_count": 4,
   "metadata": {
    "collapsed": true
   },
   "outputs": [],
   "source": [
    "g4 <- subset(glioma, histology == \"GBM\")"
   ]
  },
  {
   "cell_type": "code",
   "execution_count": 5,
   "metadata": {},
   "outputs": [
    {
     "data": {
      "image/png": "[encoded data removed]",
      "text/plain": [
       "Plot with title “Grade IV Glioma”"
      ]
     },
     "metadata": {},
     "output_type": "display_data"
    }
   ],
   "source": [
    "plot(survfit(Surv(time, event) ~ group, data = g4), main=\"Grade IV Glioma\", lty = c(2,1), ylab =\n",
    "\"Probability\", xlab = \"Survival Time (months)\", xlim= c(0, max(glioma$time) * 1.05))\n",
    "legend(\"topright\", c(\"Control\", \"Treated\"), lty = c(2,1), bty = \"n\")"
   ]
  },
  {
   "cell_type": "markdown",
   "metadata": {},
   "source": [
    "Interpret these plots: does there appear to be a difference in survival between treated and control patients for Grade III tumors? Grade\n",
    "IV?\n",
    "\n",
    "_Yes, there does_"
   ]
  },
  {
   "cell_type": "markdown",
   "metadata": {},
   "source": [
    "To test for differences, try using the **`log-rank`** test separately for each group:"
   ]
  },
  {
   "cell_type": "code",
   "execution_count": 6,
   "metadata": {},
   "outputs": [
    {
     "data": {
      "text/plain": [
       "Call:\n",
       "survdiff(formula = Surv(time, event) ~ group, data = g3)\n",
       "\n",
       "               N Observed Expected (O-E)^2/E (O-E)^2/V\n",
       "group=Control  6        4     1.49      4.23      6.06\n",
       "group=RIT     11        2     4.51      1.40      6.06\n",
       "\n",
       " Chisq= 6.1  on 1 degrees of freedom, p= 0.0138 "
      ]
     },
     "metadata": {},
     "output_type": "display_data"
    },
    {
     "data": {
      "text/plain": [
       "Call:\n",
       "survdiff(formula = Surv(time, event) ~ group, data = g4)\n",
       "\n",
       "               N Observed Expected (O-E)^2/E (O-E)^2/V\n",
       "group=Control 12       12     5.93      6.23      12.6\n",
       "group=RIT      8        5    11.07      3.33      12.6\n",
       "\n",
       " Chisq= 12.6  on 1 degrees of freedom, p= 0.000383 "
      ]
     },
     "metadata": {},
     "output_type": "display_data"
    }
   ],
   "source": [
    "survdiff(Surv(time, event) ~ group, data = g3)\n",
    "survdiff(Surv(time, event) ~ group, data = g4)"
   ]
  },
  {
   "cell_type": "markdown",
   "metadata": {},
   "source": [
    "Do these results indicate significant differences between treatment groups?\n",
    "\n",
    "_For Grade III, there is no difference at a level of significance of 0.01, but there is at 0.05; For Grade IV, there is difference at a level of significance of both 0.01 and 0.05_"
   ]
  },
  {
   "cell_type": "markdown",
   "metadata": {},
   "source": [
    "One problem with using the log-rank test here is that the test is an asymptotic one but the number of patients is rather small. In\n",
    "addition, there are tied results - equal survival times for some patients.\n",
    "\n",
    "In this case, we can use an alternative approach: **condition on\n",
    "the observed data** and compute the distribution of the test statistics using a **permutation test** to get an **exact log-rank test p-value**,\n",
    "using the `surv_test` in `coin`:"
   ]
  },
  {
   "cell_type": "code",
   "execution_count": 7,
   "metadata": {},
   "outputs": [
    {
     "data": {
      "text/plain": [
       "\n",
       "\tExact Two-Sample Logrank Test\n",
       "\n",
       "data:  Surv(time, event) by group (Control, RIT)\n",
       "Z = -2.1711, p-value = 0.02877\n",
       "alternative hypothesis: true theta is not equal to 1\n"
      ]
     },
     "metadata": {},
     "output_type": "display_data"
    },
    {
     "data": {
      "text/plain": [
       "\n",
       "\tExact Two-Sample Logrank Test\n",
       "\n",
       "data:  Surv(time, event) by group (Control, RIT)\n",
       "Z = -3.2215, p-value = 0.0001588\n",
       "alternative hypothesis: true theta is not equal to 1\n"
      ]
     },
     "metadata": {},
     "output_type": "display_data"
    }
   ],
   "source": [
    "library(\"coin\")\n",
    "logrank_test(Surv(time, event) ~ group, data = g3, distribution = \"exact\")\n",
    "logrank_test(Surv(time, event) ~ group, data = g4, distribution = \"exact\")"
   ]
  },
  {
   "cell_type": "markdown",
   "metadata": {},
   "source": [
    "(_Same as before)_"
   ]
  },
  {
   "cell_type": "markdown",
   "metadata": {},
   "source": [
    "Do these results agree with the asymptotic results?\n",
    "Another question that we can address is whether the new treatment is superior for both groups (Grade III and Grade IV tumors)\n",
    "simultaneously.\n",
    "\n",
    "To do this, we stratify or block by tumor grade. Here, we only approximate the exact conditional distribution, since the\n",
    "exact distribution is hard to compute."
   ]
  },
  {
   "cell_type": "code",
   "execution_count": 8,
   "metadata": {},
   "outputs": [
    {
     "data": {
      "text/plain": [
       "\n",
       "\tApproximative Two-Sample Logrank Test\n",
       "\n",
       "data:  Surv(time, event) by\n",
       "\t group (Control, RIT) \n",
       "\t stratified by histology\n",
       "Z = -3.6704, p-value < 2.2e-16\n",
       "alternative hypothesis: true theta is not equal to 1\n"
      ]
     },
     "metadata": {},
     "output_type": "display_data"
    }
   ],
   "source": [
    "logrank_test(Surv(time, event) ~ group | histology, data = glioma, distribution =\n",
    "approximate(B=10000))"
   ]
  },
  {
   "cell_type": "markdown",
   "metadata": {},
   "source": [
    "Do these results agree with the asymptotic results? Briefly summarize your overall findings.\n",
    "\n",
    "_Yes: again, the new treatment is superior_"
   ]
  },
  {
   "cell_type": "markdown",
   "metadata": {},
   "source": [
    "## Breast cancer data\n",
    "This study investigated the effects of treatment with Tamoxifen in women with node-positive breast cancer. There are seven prognostic\n",
    "variables measures for each of the 686 women. \n",
    "\n",
    "We are interested in assessing the **impact of the covariates on patient survival\n",
    "time**. To carry this out, we will do Cox proportional hazards modeling (**Cox regression**).\n",
    "\n",
    "First though, look at the **Kaplan-Meier** estimates,\n",
    "stratified by whether or not the patient received hormonal therapy (Tamoxifen) or not. Load the GBSG2 data and read the help, then make the Kaplan-Meier curves:"
   ]
  },
  {
   "cell_type": "code",
   "execution_count": 17,
   "metadata": {
    "collapsed": true
   },
   "outputs": [],
   "source": [
    "help(data(\"GBSG2\", package = \"TH.data\"))"
   ]
  },
  {
   "cell_type": "code",
   "execution_count": 10,
   "metadata": {},
   "outputs": [
    {
     "data": {
      "image/png": "[encoded data removed]",
      "text/plain": [
       "plot without title"
      ]
     },
     "metadata": {},
     "output_type": "display_data"
    }
   ],
   "source": [
    "data(\"GBSG2\", package = \"TH.data\")\n",
    "\n",
    "plot(survfit(Surv(time, cens) ~ horTh, data = GBSG2), lty = 1:2, mark.time = FALSE, ylab =\n",
    "     \"Probability\", xlab = \"Survival Time (days)\")\n",
    "\n",
    "legend(\"bottomleft\", legend = c(\"yes\", \"no\"), lty = c(2,1), title = \"Hormonal Therapy\", bty = \"n\")"
   ]
  },
  {
   "cell_type": "markdown",
   "metadata": {},
   "source": [
    "For fitting a **Cox model**, we use roughly the same rules as for linear models, except we use the **`coxph`** function and the response\n",
    "variable is a **`Surv`** object. The **`.`** operator in the formula refers to all other variables that haven't yet been included in the model,\n",
    "thus saving you from typing in all the variables.\n",
    "\n",
    "Fit a **Cox model** with **all variables** and examine the results:\n"
   ]
  },
  {
   "cell_type": "code",
   "execution_count": 18,
   "metadata": {},
   "outputs": [
    {
     "data": {
      "text/plain": [
       "Call:\n",
       "coxph(formula = Surv(time, cens) ~ ., data = GBSG2)\n",
       "\n",
       "  n= 686, number of events= 299 \n",
       "\n",
       "                   coef  exp(coef)   se(coef)      z Pr(>|z|)    \n",
       "horThyes     -0.3462784  0.7073155  0.1290747 -2.683 0.007301 ** \n",
       "age          -0.0094592  0.9905854  0.0093006 -1.017 0.309126    \n",
       "menostatPost  0.2584448  1.2949147  0.1834765  1.409 0.158954    \n",
       "tsize         0.0077961  1.0078266  0.0039390  1.979 0.047794 *  \n",
       "tgrade.L      0.5512988  1.7355056  0.1898441  2.904 0.003685 ** \n",
       "tgrade.Q     -0.2010905  0.8178384  0.1219654 -1.649 0.099199 .  \n",
       "pnodes        0.0487886  1.0499984  0.0074471  6.551  5.7e-11 ***\n",
       "progrec      -0.0022172  0.9977852  0.0005735 -3.866 0.000111 ***\n",
       "estrec        0.0001973  1.0001973  0.0004504  0.438 0.661307    \n",
       "---\n",
       "Signif. codes:  0 ‘***’ 0.001 ‘**’ 0.01 ‘*’ 0.05 ‘.’ 0.1 ‘ ’ 1\n",
       "\n",
       "             exp(coef) exp(-coef) lower .95 upper .95\n",
       "horThyes        0.7073     1.4138    0.5492    0.9109\n",
       "age             0.9906     1.0095    0.9727    1.0088\n",
       "menostatPost    1.2949     0.7723    0.9038    1.8553\n",
       "tsize           1.0078     0.9922    1.0001    1.0156\n",
       "tgrade.L        1.7355     0.5762    1.1963    2.5178\n",
       "tgrade.Q        0.8178     1.2227    0.6439    1.0387\n",
       "pnodes          1.0500     0.9524    1.0348    1.0654\n",
       "progrec         0.9978     1.0022    0.9967    0.9989\n",
       "estrec          1.0002     0.9998    0.9993    1.0011\n",
       "\n",
       "Concordance= 0.692  (se = 0.018 )\n",
       "Rsquare= 0.142   (max possible= 0.995 )\n",
       "Likelihood ratio test= 104.8  on 9 df,   p=0\n",
       "Wald test            = 114.8  on 9 df,   p=0\n",
       "Score (logrank) test = 120.7  on 9 df,   p=0\n"
      ]
     },
     "metadata": {},
     "output_type": "display_data"
    }
   ],
   "source": [
    "GBSG2.coxph <- coxph(Surv(time, cens) ~ ., data = GBSG2)\n",
    "summary(GBSG2.coxph)"
   ]
  },
  {
   "cell_type": "markdown",
   "metadata": {},
   "source": [
    "Which variables are the most important predictors of survival?\n",
    "\n",
    "_`pnodes`, `progrec`, `tgrade.Q`, `horThyes` and `tgrade.L`_"
   ]
  },
  {
   "cell_type": "markdown",
   "metadata": {},
   "source": [
    "Since the relative risk (exponentiated coefficient) for patients undergoing hormone therapy is of greatest interest, estimate this risk and\n",
    "obtain a confidence interval:"
   ]
  },
  {
   "cell_type": "code",
   "execution_count": 19,
   "metadata": {},
   "outputs": [
    {
     "data": {
      "text/html": [
       "<dl class=dl-horizontal>\n",
       "\t<dt>1</dt>\n",
       "\t\t<dd>0.707315523507567</dd>\n",
       "\t<dt>2.5 %</dt>\n",
       "\t\t<dd>0.549217764223734</dd>\n",
       "\t<dt>97.5 %</dt>\n",
       "\t\t<dd>0.910923284686362</dd>\n",
       "</dl>\n"
      ],
      "text/latex": [
       "\\begin{description*}\n",
       "\\item[1] 0.707315523507567\n",
       "\\item[2.5 \\textbackslash{}\\%] 0.549217764223734\n",
       "\\item[97.5 \\textbackslash{}\\%] 0.910923284686362\n",
       "\\end{description*}\n"
      ],
      "text/markdown": [
       "1\n",
       ":   0.7073155235075672.5 %\n",
       ":   0.54921776422373497.5 %\n",
       ":   0.910923284686362\n",
       "\n"
      ],
      "text/plain": [
       "              2.5 %    97.5 % \n",
       "0.7073155 0.5492178 0.9109233 "
      ]
     },
     "metadata": {},
     "output_type": "display_data"
    }
   ],
   "source": [
    "ci <- confint(GBSG2.coxph)\n",
    "exp(cbind(coef(GBSG2.coxph), ci))[\"horThyes\",]"
   ]
  },
  {
   "cell_type": "markdown",
   "metadata": {},
   "source": [
    "Interpret this result in terms of relative risk of hormone therapy compared to the control group.\n",
    "\n",
    "__\n"
   ]
  },
  {
   "cell_type": "markdown",
   "metadata": {},
   "source": [
    "In general, model checking and selection for proportional hazards models is complicated. One way to check the **proportional\n",
    "hazards assumption** is by looking at the parameter estimates over time: if they don't vary much over time, then the proportional\n",
    "hazards assumption seems reasonable. To test for constant regression coefficients over time (2-sided test), both globally and for each\n",
    "variable separately, use the **`cox.zph`** function:"
   ]
  },
  {
   "cell_type": "code",
   "execution_count": 21,
   "metadata": {
    "collapsed": true
   },
   "outputs": [],
   "source": [
    "help(cox.zph)"
   ]
  },
  {
   "cell_type": "code",
   "execution_count": 14,
   "metadata": {},
   "outputs": [
    {
     "data": {
      "text/plain": [
       "                   rho    chisq       p\n",
       "horThyes     -2.54e-02 1.96e-01 0.65778\n",
       "age           9.40e-02 2.96e+00 0.08552\n",
       "menostatPost -1.19e-05 3.75e-08 0.99985\n",
       "tsize        -2.50e-02 1.88e-01 0.66436\n",
       "tgrade.L     -1.30e-01 4.85e+00 0.02772\n",
       "tgrade.Q      3.22e-03 3.14e-03 0.95530\n",
       "pnodes        5.84e-02 5.98e-01 0.43941\n",
       "progrec       5.65e-02 1.20e+00 0.27351\n",
       "estrec        5.46e-02 1.03e+00 0.30967\n",
       "GLOBAL              NA 2.27e+01 0.00695"
      ]
     },
     "metadata": {},
     "output_type": "display_data"
    }
   ],
   "source": [
    "GBSG2.zph <- cox.zph(GBSG2.coxph)\n",
    "GBSG2.zph"
   ]
  },
  {
   "cell_type": "markdown",
   "metadata": {},
   "source": [
    "Is there evidence for some variables that the proportional hazards assumption is violated? Which variable(s)?\n",
    "    \n",
    "_tgrade.L, at a level of 0.05_"
   ]
  },
  {
   "cell_type": "markdown",
   "metadata": {},
   "source": [
    "Let's say that there is a continuous variable in this data set xx. Plot the coefficients over time (but use the actual data set variable\n",
    "instead of xx):\n"
   ]
  },
  {
   "cell_type": "code",
   "execution_count": 15,
   "metadata": {},
   "outputs": [
    {
     "ename": "ERROR",
     "evalue": "Error in plot.cox.zph(GBSG2.zph, var = \"xx\"): Invalid variable requested\n",
     "output_type": "error",
     "traceback": [
      "Error in plot.cox.zph(GBSG2.zph, var = \"xx\"): Invalid variable requested\nTraceback:\n",
      "1. plot(GBSG2.zph, var = \"xx\")",
      "2. plot.cox.zph(GBSG2.zph, var = \"xx\")",
      "3. stop(\"Invalid variable requested\")"
     ]
    }
   ],
   "source": [
    "plot(GBSG2.zph, var = \"xx\")"
   ]
  },
  {
   "cell_type": "markdown",
   "metadata": {},
   "source": [
    "The solid line in the center represents an average value for the given time point, while the dashed lines are 95% confidence bands. What\n",
    "conclusions do you draw from the numerical and graphical results regarding the possibility of time-varying effects?\n",
    "    \n",
    "__"
   ]
  },
  {
   "cell_type": "markdown",
   "metadata": {},
   "source": [
    "The residuals computed in an ordinary linear regression do not apply in the survival context. Instead, martingale residuals can be used\n",
    "to check the model fit. When evaluated at the true coefficient value, the expected martingale residual is zero. We can therefore check for\n",
    "systematic deviations from the assumed model by inspecting scatterplots of the martingale residuals against covariate values. Make\n",
    "some martingale residual plots for different variables, using the following code as a template:\n"
   ]
  },
  {
   "cell_type": "code",
   "execution_count": 16,
   "metadata": {
    "scrolled": false
   },
   "outputs": [
    {
     "data": {
      "image/png": "[encoded data removed]",
      "text/plain": [
       "plot without title"
      ]
     },
     "metadata": {},
     "output_type": "display_data"
    }
   ],
   "source": [
    "res <- residuals(GBSG2.coxph)\n",
    "plot(res ~ age, data = GBSG2, ylim = c(-2.5, 2.5), pch=\".\", ylab = \"Martingale residuals\")\n",
    "abline(h=0, lty=2)"
   ]
  },
  {
   "cell_type": "markdown",
   "metadata": {},
   "source": [
    "For this variable, we can see in the plot that the martingale residuals are scattered fairly evenly above and below 0, and in addition they\n",
    "do not seem to show any particular pattern. This indicates no systematic deviation from expectation."
   ]
  },
  {
   "cell_type": "markdown",
   "metadata": {},
   "source": [
    "Briefly summarize your results and conclusions. Do the women receiving Tamoxifen have longer survival times than women who do not?\n",
    "What evidence is there to justify your answer? Which variable is the most important predictor of survival? Explain."
   ]
  },
  {
   "cell_type": "code",
   "execution_count": null,
   "metadata": {
    "collapsed": true
   },
   "outputs": [],
   "source": []
  }
 ],
 "metadata": {
  "kernelspec": {
   "display_name": "R",
   "language": "R",
   "name": "ir"
  },
  "language_info": {
   "codemirror_mode": "r",
   "file_extension": ".r",
   "mimetype": "text/x-r-source",
   "name": "R",
   "pygments_lexer": "r",
   "version": "3.4.2"
  }
 },
 "nbformat": 4,
 "nbformat_minor": 2
}

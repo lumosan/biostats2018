{
 "cells": [
  {
   "cell_type": "markdown",
   "metadata": {},
   "source": [
    "# Blood Plasma Data"
   ]
  },
  {
   "cell_type": "code",
   "execution_count": 1,
   "metadata": {},
   "outputs": [
    {
     "data": {
      "text/html": [
       "<table>\n",
       "<thead><tr><th></th><th scope=col>fibrinogen</th><th scope=col>globulin</th><th scope=col>ESR</th></tr></thead>\n",
       "<tbody>\n",
       "\t<tr><th scope=row>1</th><td>2.52       </td><td>38         </td><td>ESR &lt; 20</td></tr>\n",
       "\t<tr><th scope=row>2</th><td>2.56       </td><td>31         </td><td>ESR &lt; 20</td></tr>\n",
       "\t<tr><th scope=row>3</th><td>2.19       </td><td>33         </td><td>ESR &lt; 20</td></tr>\n",
       "\t<tr><th scope=row>4</th><td>2.18       </td><td>31         </td><td>ESR &lt; 20</td></tr>\n",
       "\t<tr><th scope=row>5</th><td>3.41       </td><td>37         </td><td>ESR &lt; 20</td></tr>\n",
       "\t<tr><th scope=row>6</th><td>2.46       </td><td>36         </td><td>ESR &lt; 20</td></tr>\n",
       "\t<tr><th scope=row>7</th><td>3.22       </td><td>38         </td><td>ESR &lt; 20</td></tr>\n",
       "\t<tr><th scope=row>8</th><td>2.21       </td><td>37         </td><td>ESR &lt; 20</td></tr>\n",
       "\t<tr><th scope=row>9</th><td>3.15       </td><td>39         </td><td>ESR &lt; 20</td></tr>\n",
       "\t<tr><th scope=row>10</th><td>2.60       </td><td>41         </td><td>ESR &lt; 20</td></tr>\n",
       "\t<tr><th scope=row>11</th><td>2.29       </td><td>36         </td><td>ESR &lt; 20</td></tr>\n",
       "\t<tr><th scope=row>12</th><td>2.35       </td><td>29         </td><td>ESR &lt; 20</td></tr>\n",
       "\t<tr><th scope=row>16</th><td>3.15       </td><td>36         </td><td>ESR &lt; 20</td></tr>\n",
       "\t<tr><th scope=row>18</th><td>2.68       </td><td>34         </td><td>ESR &lt; 20</td></tr>\n",
       "\t<tr><th scope=row>19</th><td>2.60       </td><td>38         </td><td>ESR &lt; 20</td></tr>\n",
       "\t<tr><th scope=row>20</th><td>2.23       </td><td>37         </td><td>ESR &lt; 20</td></tr>\n",
       "\t<tr><th scope=row>21</th><td>2.88       </td><td>30         </td><td>ESR &lt; 20</td></tr>\n",
       "\t<tr><th scope=row>22</th><td>2.65       </td><td>46         </td><td>ESR &lt; 20</td></tr>\n",
       "\t<tr><th scope=row>24</th><td>2.28       </td><td>36         </td><td>ESR &lt; 20</td></tr>\n",
       "\t<tr><th scope=row>25</th><td>2.67       </td><td>39         </td><td>ESR &lt; 20</td></tr>\n",
       "\t<tr><th scope=row>26</th><td>2.29       </td><td>31         </td><td>ESR &lt; 20</td></tr>\n",
       "\t<tr><th scope=row>27</th><td>2.15       </td><td>31         </td><td>ESR &lt; 20</td></tr>\n",
       "\t<tr><th scope=row>28</th><td>2.54       </td><td>28         </td><td>ESR &lt; 20</td></tr>\n",
       "\t<tr><th scope=row>30</th><td>3.34       </td><td>30         </td><td>ESR &lt; 20</td></tr>\n",
       "\t<tr><th scope=row>31</th><td>2.99       </td><td>36         </td><td>ESR &lt; 20</td></tr>\n",
       "\t<tr><th scope=row>32</th><td>3.32       </td><td>35         </td><td>ESR &lt; 20</td></tr>\n",
       "\t<tr><th scope=row>13</th><td>5.06       </td><td>37         </td><td>ESR &gt; 20</td></tr>\n",
       "\t<tr><th scope=row>14</th><td>3.34       </td><td>32         </td><td>ESR &gt; 20</td></tr>\n",
       "\t<tr><th scope=row>15</th><td>2.38       </td><td>37         </td><td>ESR &gt; 20</td></tr>\n",
       "\t<tr><th scope=row>17</th><td>3.53       </td><td>46         </td><td>ESR &gt; 20</td></tr>\n",
       "\t<tr><th scope=row>23</th><td>2.09       </td><td>44         </td><td>ESR &gt; 20</td></tr>\n",
       "\t<tr><th scope=row>29</th><td>3.93       </td><td>32         </td><td>ESR &gt; 20</td></tr>\n",
       "</tbody>\n",
       "</table>\n"
      ],
      "text/latex": [
       "\\begin{tabular}{r|lll}\n",
       "  & fibrinogen & globulin & ESR\\\\\n",
       "\\hline\n",
       "\t1 & 2.52     & 38       & ESR < 20\\\\\n",
       "\t2 & 2.56     & 31       & ESR < 20\\\\\n",
       "\t3 & 2.19     & 33       & ESR < 20\\\\\n",
       "\t4 & 2.18     & 31       & ESR < 20\\\\\n",
       "\t5 & 3.41     & 37       & ESR < 20\\\\\n",
       "\t6 & 2.46     & 36       & ESR < 20\\\\\n",
       "\t7 & 3.22     & 38       & ESR < 20\\\\\n",
       "\t8 & 2.21     & 37       & ESR < 20\\\\\n",
       "\t9 & 3.15     & 39       & ESR < 20\\\\\n",
       "\t10 & 2.60     & 41       & ESR < 20\\\\\n",
       "\t11 & 2.29     & 36       & ESR < 20\\\\\n",
       "\t12 & 2.35     & 29       & ESR < 20\\\\\n",
       "\t16 & 3.15     & 36       & ESR < 20\\\\\n",
       "\t18 & 2.68     & 34       & ESR < 20\\\\\n",
       "\t19 & 2.60     & 38       & ESR < 20\\\\\n",
       "\t20 & 2.23     & 37       & ESR < 20\\\\\n",
       "\t21 & 2.88     & 30       & ESR < 20\\\\\n",
       "\t22 & 2.65     & 46       & ESR < 20\\\\\n",
       "\t24 & 2.28     & 36       & ESR < 20\\\\\n",
       "\t25 & 2.67     & 39       & ESR < 20\\\\\n",
       "\t26 & 2.29     & 31       & ESR < 20\\\\\n",
       "\t27 & 2.15     & 31       & ESR < 20\\\\\n",
       "\t28 & 2.54     & 28       & ESR < 20\\\\\n",
       "\t30 & 3.34     & 30       & ESR < 20\\\\\n",
       "\t31 & 2.99     & 36       & ESR < 20\\\\\n",
       "\t32 & 3.32     & 35       & ESR < 20\\\\\n",
       "\t13 & 5.06     & 37       & ESR > 20\\\\\n",
       "\t14 & 3.34     & 32       & ESR > 20\\\\\n",
       "\t15 & 2.38     & 37       & ESR > 20\\\\\n",
       "\t17 & 3.53     & 46       & ESR > 20\\\\\n",
       "\t23 & 2.09     & 44       & ESR > 20\\\\\n",
       "\t29 & 3.93     & 32       & ESR > 20\\\\\n",
       "\\end{tabular}\n"
      ],
      "text/markdown": [
       "\n",
       "| <!--/--> | fibrinogen | globulin | ESR | \n",
       "|---|---|---|---|---|---|---|---|---|---|---|---|---|---|---|---|---|---|---|---|---|---|---|---|---|---|---|---|---|---|---|---|\n",
       "| 1 | 2.52     | 38       | ESR < 20 | \n",
       "| 2 | 2.56     | 31       | ESR < 20 | \n",
       "| 3 | 2.19     | 33       | ESR < 20 | \n",
       "| 4 | 2.18     | 31       | ESR < 20 | \n",
       "| 5 | 3.41     | 37       | ESR < 20 | \n",
       "| 6 | 2.46     | 36       | ESR < 20 | \n",
       "| 7 | 3.22     | 38       | ESR < 20 | \n",
       "| 8 | 2.21     | 37       | ESR < 20 | \n",
       "| 9 | 3.15     | 39       | ESR < 20 | \n",
       "| 10 | 2.60     | 41       | ESR < 20 | \n",
       "| 11 | 2.29     | 36       | ESR < 20 | \n",
       "| 12 | 2.35     | 29       | ESR < 20 | \n",
       "| 16 | 3.15     | 36       | ESR < 20 | \n",
       "| 18 | 2.68     | 34       | ESR < 20 | \n",
       "| 19 | 2.60     | 38       | ESR < 20 | \n",
       "| 20 | 2.23     | 37       | ESR < 20 | \n",
       "| 21 | 2.88     | 30       | ESR < 20 | \n",
       "| 22 | 2.65     | 46       | ESR < 20 | \n",
       "| 24 | 2.28     | 36       | ESR < 20 | \n",
       "| 25 | 2.67     | 39       | ESR < 20 | \n",
       "| 26 | 2.29     | 31       | ESR < 20 | \n",
       "| 27 | 2.15     | 31       | ESR < 20 | \n",
       "| 28 | 2.54     | 28       | ESR < 20 | \n",
       "| 30 | 3.34     | 30       | ESR < 20 | \n",
       "| 31 | 2.99     | 36       | ESR < 20 | \n",
       "| 32 | 3.32     | 35       | ESR < 20 | \n",
       "| 13 | 5.06     | 37       | ESR > 20 | \n",
       "| 14 | 3.34     | 32       | ESR > 20 | \n",
       "| 15 | 2.38     | 37       | ESR > 20 | \n",
       "| 17 | 3.53     | 46       | ESR > 20 | \n",
       "| 23 | 2.09     | 44       | ESR > 20 | \n",
       "| 29 | 3.93     | 32       | ESR > 20 | \n",
       "\n",
       "\n"
      ],
      "text/plain": [
       "   fibrinogen globulin ESR     \n",
       "1  2.52       38       ESR < 20\n",
       "2  2.56       31       ESR < 20\n",
       "3  2.19       33       ESR < 20\n",
       "4  2.18       31       ESR < 20\n",
       "5  3.41       37       ESR < 20\n",
       "6  2.46       36       ESR < 20\n",
       "7  3.22       38       ESR < 20\n",
       "8  2.21       37       ESR < 20\n",
       "9  3.15       39       ESR < 20\n",
       "10 2.60       41       ESR < 20\n",
       "11 2.29       36       ESR < 20\n",
       "12 2.35       29       ESR < 20\n",
       "16 3.15       36       ESR < 20\n",
       "18 2.68       34       ESR < 20\n",
       "19 2.60       38       ESR < 20\n",
       "20 2.23       37       ESR < 20\n",
       "21 2.88       30       ESR < 20\n",
       "22 2.65       46       ESR < 20\n",
       "24 2.28       36       ESR < 20\n",
       "25 2.67       39       ESR < 20\n",
       "26 2.29       31       ESR < 20\n",
       "27 2.15       31       ESR < 20\n",
       "28 2.54       28       ESR < 20\n",
       "30 3.34       30       ESR < 20\n",
       "31 2.99       36       ESR < 20\n",
       "32 3.32       35       ESR < 20\n",
       "13 5.06       37       ESR > 20\n",
       "14 3.34       32       ESR > 20\n",
       "15 2.38       37       ESR > 20\n",
       "17 3.53       46       ESR > 20\n",
       "23 2.09       44       ESR > 20\n",
       "29 3.93       32       ESR > 20"
      ]
     },
     "metadata": {},
     "output_type": "display_data"
    }
   ],
   "source": [
    "data(\"plasma\", package = \"HSAUR3\")\n",
    "layout(matrix(1:2, nrow = 2))\n",
    "plasma"
   ]
  },
  {
   "cell_type": "markdown",
   "metadata": {},
   "source": [
    "#### Conditional density plots of ESR."
   ]
  },
  {
   "cell_type": "code",
   "execution_count": 6,
   "metadata": {},
   "outputs": [
    {
     "data": {
      "image/png": "[encoded data removed]",
      "text/plain": [
       "Plot with title “”"
      ]
     },
     "metadata": {},
     "output_type": "display_data"
    },
    {
     "data": {
      "image/png": "[encoded data removed]",
      "text/plain": [
       "Plot with title “”"
      ]
     },
     "metadata": {},
     "output_type": "display_data"
    }
   ],
   "source": [
    "cdplot(ESR ~ fibrinogen, data = plasma)\n",
    "cdplot(ESR ~ globulin, data = plasma)"
   ]
  },
  {
   "cell_type": "markdown",
   "metadata": {},
   "source": [
    "#### Fit a logistic regression model"
   ]
  },
  {
   "cell_type": "code",
   "execution_count": 15,
   "metadata": {},
   "outputs": [
    {
     "data": {
      "text/plain": [
       "\n",
       "Call:\n",
       "glm(formula = ESR ~ fibrinogen, family = binomial(), data = plasma)\n",
       "\n",
       "Deviance Residuals: \n",
       "    Min       1Q   Median       3Q      Max  \n",
       "-0.9298  -0.5399  -0.4382  -0.3356   2.4794  \n",
       "\n",
       "Coefficients:\n",
       "            Estimate Std. Error z value Pr(>|z|)  \n",
       "(Intercept)  -6.8451     2.7703  -2.471   0.0135 *\n",
       "fibrinogen    1.8271     0.9009   2.028   0.0425 *\n",
       "---\n",
       "Signif. codes:  0 ‘***’ 0.001 ‘**’ 0.01 ‘*’ 0.05 ‘.’ 0.1 ‘ ’ 1\n",
       "\n",
       "(Dispersion parameter for binomial family taken to be 1)\n",
       "\n",
       "    Null deviance: 30.885  on 31  degrees of freedom\n",
       "Residual deviance: 24.840  on 30  degrees of freedom\n",
       "AIC: 28.84\n",
       "\n",
       "Number of Fisher Scoring iterations: 5\n"
      ]
     },
     "metadata": {},
     "output_type": "display_data"
    }
   ],
   "source": [
    "# An intercept is automatically included\n",
    "plasma.glm.1 <- glm(ESR ~ fibrinogen, data = plasma, family = binomial())\n",
    "summary(plasma.glm.1)"
   ]
  },
  {
   "cell_type": "markdown",
   "metadata": {},
   "source": [
    "The coefficient for fibrinogen would be significant at\n",
    "the 5% level. This coefficient represents the log-odds, meaning that exp($\\beta$) is the odds that the response takes value 1 when `fibrinogen` increases by one, when the remaining variables are constant (in this case it's only the intercept, which indeed remains constant). -- See slide 10/36 from w05."
   ]
  },
  {
   "cell_type": "markdown",
   "metadata": {},
   "source": [
    "$\\frac{p}{1-p} = e^{\\beta_0} \\cdot e^{\\beta_1 \\cdot x_1}$\n",
    "\n",
    "$\\log{\\frac{p}{1-p}} = {\\beta_0} + {\\beta_1 \\cdot x_1}$"
   ]
  },
  {
   "cell_type": "code",
   "execution_count": 38,
   "metadata": {},
   "outputs": [
    {
     "name": "stderr",
     "output_type": "stream",
     "text": [
      "Waiting for profiling to be done...\n"
     ]
    },
    {
     "data": {
      "text/html": [
       "<dl class=dl-horizontal>\n",
       "\t<dt>2.5 %</dt>\n",
       "\t\t<dd>0.338761852359582</dd>\n",
       "\t<dt>97.5 %</dt>\n",
       "\t\t<dd>3.99849210580324</dd>\n",
       "</dl>\n"
      ],
      "text/latex": [
       "\\begin{description*}\n",
       "\\item[2.5 \\textbackslash{}\\%] 0.338761852359582\n",
       "\\item[97.5 \\textbackslash{}\\%] 3.99849210580324\n",
       "\\end{description*}\n"
      ],
      "text/markdown": [
       "2.5 %\n",
       ":   0.33876185235958297.5 %\n",
       ":   3.99849210580324\n",
       "\n"
      ],
      "text/plain": [
       "    2.5 %    97.5 % \n",
       "0.3387619 3.9984921 "
      ]
     },
     "metadata": {},
     "output_type": "display_data"
    }
   ],
   "source": [
    "# Computes confidence intervals for one or more parameters\n",
    "# in a fitted model.\n",
    "# There is a default and a method for objects inheriting from\n",
    "# class \"lm\".\n",
    "confint(plasma.glm.1, parm = \"fibrinogen\")\n",
    "\n",
    "# This is big because we don't have a lot of data"
   ]
  },
  {
   "cell_type": "code",
   "execution_count": 39,
   "metadata": {},
   "outputs": [
    {
     "data": {
      "text/html": [
       "<strong>fibrinogen:</strong> 6.21571544855966"
      ],
      "text/latex": [
       "\\textbf{fibrinogen:} 6.21571544855966"
      ],
      "text/markdown": [
       "**fibrinogen:** 6.21571544855966"
      ],
      "text/plain": [
       "fibrinogen \n",
       "  6.215715 "
      ]
     },
     "metadata": {},
     "output_type": "display_data"
    },
    {
     "name": "stderr",
     "output_type": "stream",
     "text": [
      "Waiting for profiling to be done...\n"
     ]
    },
    {
     "data": {
      "text/html": [
       "<dl class=dl-horizontal>\n",
       "\t<dt>2.5 %</dt>\n",
       "\t\t<dd>1.40320913447417</dd>\n",
       "\t<dt>97.5 %</dt>\n",
       "\t\t<dd>54.5158838395011</dd>\n",
       "</dl>\n"
      ],
      "text/latex": [
       "\\begin{description*}\n",
       "\\item[2.5 \\textbackslash{}\\%] 1.40320913447417\n",
       "\\item[97.5 \\textbackslash{}\\%] 54.5158838395011\n",
       "\\end{description*}\n"
      ],
      "text/markdown": [
       "2.5 %\n",
       ":   1.4032091344741797.5 %\n",
       ":   54.5158838395011\n",
       "\n"
      ],
      "text/plain": [
       "    2.5 %    97.5 % \n",
       " 1.403209 54.515884 "
      ]
     },
     "metadata": {},
     "output_type": "display_data"
    }
   ],
   "source": [
    "exp(coef(plasma.glm.1)[\"fibrinogen\"])\n",
    "exp(confint(plasma.glm.1, parm = \"fibrinogen\"))\n",
    "\n",
    "# This is bigger because of the exponential"
   ]
  },
  {
   "cell_type": "markdown",
   "metadata": {},
   "source": [
    "We can see that the confidence interval is very wide. Can you think of any reason why this might be?\n",
    "\n",
    "because odds ratios are non-linear?"
   ]
  },
  {
   "cell_type": "markdown",
   "metadata": {},
   "source": [
    "Now, fit a logistic regression model using both explanatory variables:\n"
   ]
  },
  {
   "cell_type": "code",
   "execution_count": 22,
   "metadata": {},
   "outputs": [
    {
     "data": {
      "text/plain": [
       "\n",
       "Call:\n",
       "glm(formula = ESR ~ fibrinogen + globulin, family = binomial(), \n",
       "    data = plasma)\n",
       "\n",
       "Deviance Residuals: \n",
       "    Min       1Q   Median       3Q      Max  \n",
       "-0.9683  -0.6122  -0.3458  -0.2116   2.2636  \n",
       "\n",
       "Coefficients:\n",
       "            Estimate Std. Error z value Pr(>|z|)  \n",
       "(Intercept) -12.7921     5.7963  -2.207   0.0273 *\n",
       "fibrinogen    1.9104     0.9710   1.967   0.0491 *\n",
       "globulin      0.1558     0.1195   1.303   0.1925  \n",
       "---\n",
       "Signif. codes:  0 ‘***’ 0.001 ‘**’ 0.01 ‘*’ 0.05 ‘.’ 0.1 ‘ ’ 1\n",
       "\n",
       "(Dispersion parameter for binomial family taken to be 1)\n",
       "\n",
       "    Null deviance: 30.885  on 31  degrees of freedom\n",
       "Residual deviance: 22.971  on 29  degrees of freedom\n",
       "AIC: 28.971\n",
       "\n",
       "Number of Fisher Scoring iterations: 5\n"
      ]
     },
     "metadata": {},
     "output_type": "display_data"
    }
   ],
   "source": [
    "plasma.glm.2 <- glm(ESR ~ fibrinogen + globulin, data = plasma, family = binomial())\n",
    "summary(plasma.glm.2)"
   ]
  },
  {
   "cell_type": "markdown",
   "metadata": {},
   "source": [
    "The coefficient for gamma globulin is not significantly different from 0 at the 5% level."
   ]
  },
  {
   "cell_type": "markdown",
   "metadata": {},
   "source": [
    "Perform a likelihood ratio (chi-square) test by:\n",
    "1. Subtracting the residual deviance of the second model from that of the first model\n",
    "2. Comparing the result to a chi-square distribution with degrees of freedom equal to the difference in degrees of freedom between the two models:"
   ]
  },
  {
   "cell_type": "code",
   "execution_count": 24,
   "metadata": {},
   "outputs": [
    {
     "data": {
      "text/html": [
       "<table>\n",
       "<thead><tr><th scope=col>Resid. Df</th><th scope=col>Resid. Dev</th><th scope=col>Df</th><th scope=col>Deviance</th><th scope=col>Pr(&gt;Chi)</th></tr></thead>\n",
       "<tbody>\n",
       "\t<tr><td>30       </td><td>24.84036 </td><td>NA       </td><td>      NA </td><td>       NA</td></tr>\n",
       "\t<tr><td>29       </td><td>22.97111 </td><td> 1       </td><td>1.869242 </td><td>0.1715619</td></tr>\n",
       "</tbody>\n",
       "</table>\n"
      ],
      "text/latex": [
       "\\begin{tabular}{r|lllll}\n",
       " Resid. Df & Resid. Dev & Df & Deviance & Pr(>Chi)\\\\\n",
       "\\hline\n",
       "\t 30        & 24.84036  & NA        &       NA  &        NA\\\\\n",
       "\t 29        & 22.97111  &  1        & 1.869242  & 0.1715619\\\\\n",
       "\\end{tabular}\n"
      ],
      "text/markdown": [
       "\n",
       "Resid. Df | Resid. Dev | Df | Deviance | Pr(>Chi) | \n",
       "|---|---|\n",
       "| 30        | 24.84036  | NA        |       NA  |        NA | \n",
       "| 29        | 22.97111  |  1        | 1.869242  | 0.1715619 | \n",
       "\n",
       "\n"
      ],
      "text/plain": [
       "  Resid. Df Resid. Dev Df Deviance Pr(>Chi) \n",
       "1 30        24.84036   NA       NA        NA\n",
       "2 29        22.97111    1 1.869242 0.1715619"
      ]
     },
     "metadata": {},
     "output_type": "display_data"
    }
   ],
   "source": [
    "anova(plasma.glm.1, plasma.glm.2, test = \"Chisq\")"
   ]
  },
  {
   "cell_type": "markdown",
   "metadata": {},
   "source": [
    "$H_0$: The models are the same. The only way for them to be the same is that the parameter for `globulin` is 0.\n",
    "\n",
    "p-value $=$ 0 $\\Rightarrow$ I reject $H_0$, meaning that the models are different and therefore the parameter for `globulin` is $\\neq$ 0.\n",
    "\n",
    "p-value $\\neq$ 0 $\\Rightarrow$ I can't reject $H_0$, meaning that the models are not different and therefore the parameter for `globulin` is 0."
   ]
  },
  {
   "cell_type": "code",
   "execution_count": 27,
   "metadata": {
    "collapsed": true
   },
   "outputs": [],
   "source": [
    "# Obtain estimated conditional probability of\n",
    "# an ESR value larger than 20\n",
    "prob <- predict(plasma.glm.2, type = \"response\")"
   ]
  },
  {
   "cell_type": "code",
   "execution_count": 30,
   "metadata": {},
   "outputs": [
    {
     "data": {
      "image/png": "[encoded data removed]",
      "text/plain": [
       "plot without title"
      ]
     },
     "metadata": {},
     "output_type": "display_data"
    }
   ],
   "source": [
    "# assign a larger circle to observations with larger probability\n",
    "plot(globulin ~ fibrinogen, data = plasma, xlim = c(2,6), ylim = c(25,55), pch = \"*\")\n",
    "symbols(plasma$fibrinogen, plasma$globulin, circles = prob, add = TRUE)"
   ]
  },
  {
   "cell_type": "markdown",
   "metadata": {},
   "source": [
    "# Colon polyps data"
   ]
  },
  {
   "cell_type": "code",
   "execution_count": 31,
   "metadata": {
    "collapsed": true
   },
   "outputs": [],
   "source": [
    "data(\"polyps\", package = \"HSAUR3\")\n",
    "polyps.glm.1 <- glm(number ~ treat + age, data = polyps, family = poisson())"
   ]
  },
  {
   "cell_type": "code",
   "execution_count": 34,
   "metadata": {},
   "outputs": [
    {
     "data": {
      "text/html": [
       "<table>\n",
       "<thead><tr><th scope=col>number</th><th scope=col>treat</th><th scope=col>age</th></tr></thead>\n",
       "<tbody>\n",
       "\t<tr><td>63     </td><td>placebo</td><td>20     </td></tr>\n",
       "\t<tr><td> 2     </td><td>drug   </td><td>16     </td></tr>\n",
       "\t<tr><td>28     </td><td>placebo</td><td>18     </td></tr>\n",
       "\t<tr><td>17     </td><td>drug   </td><td>22     </td></tr>\n",
       "\t<tr><td>61     </td><td>placebo</td><td>13     </td></tr>\n",
       "\t<tr><td> 1     </td><td>drug   </td><td>23     </td></tr>\n",
       "\t<tr><td> 7     </td><td>placebo</td><td>34     </td></tr>\n",
       "\t<tr><td>15     </td><td>placebo</td><td>50     </td></tr>\n",
       "\t<tr><td>44     </td><td>placebo</td><td>19     </td></tr>\n",
       "\t<tr><td>25     </td><td>drug   </td><td>17     </td></tr>\n",
       "\t<tr><td> 3     </td><td>drug   </td><td>23     </td></tr>\n",
       "\t<tr><td>28     </td><td>placebo</td><td>22     </td></tr>\n",
       "\t<tr><td>10     </td><td>placebo</td><td>30     </td></tr>\n",
       "\t<tr><td>40     </td><td>placebo</td><td>27     </td></tr>\n",
       "\t<tr><td>33     </td><td>drug   </td><td>23     </td></tr>\n",
       "\t<tr><td>46     </td><td>placebo</td><td>22     </td></tr>\n",
       "\t<tr><td>50     </td><td>placebo</td><td>34     </td></tr>\n",
       "\t<tr><td> 3     </td><td>drug   </td><td>23     </td></tr>\n",
       "\t<tr><td> 1     </td><td>drug   </td><td>22     </td></tr>\n",
       "\t<tr><td> 4     </td><td>drug   </td><td>42     </td></tr>\n",
       "</tbody>\n",
       "</table>\n"
      ],
      "text/latex": [
       "\\begin{tabular}{r|lll}\n",
       " number & treat & age\\\\\n",
       "\\hline\n",
       "\t 63      & placebo & 20     \\\\\n",
       "\t  2      & drug    & 16     \\\\\n",
       "\t 28      & placebo & 18     \\\\\n",
       "\t 17      & drug    & 22     \\\\\n",
       "\t 61      & placebo & 13     \\\\\n",
       "\t  1      & drug    & 23     \\\\\n",
       "\t  7      & placebo & 34     \\\\\n",
       "\t 15      & placebo & 50     \\\\\n",
       "\t 44      & placebo & 19     \\\\\n",
       "\t 25      & drug    & 17     \\\\\n",
       "\t  3      & drug    & 23     \\\\\n",
       "\t 28      & placebo & 22     \\\\\n",
       "\t 10      & placebo & 30     \\\\\n",
       "\t 40      & placebo & 27     \\\\\n",
       "\t 33      & drug    & 23     \\\\\n",
       "\t 46      & placebo & 22     \\\\\n",
       "\t 50      & placebo & 34     \\\\\n",
       "\t  3      & drug    & 23     \\\\\n",
       "\t  1      & drug    & 22     \\\\\n",
       "\t  4      & drug    & 42     \\\\\n",
       "\\end{tabular}\n"
      ],
      "text/markdown": [
       "\n",
       "number | treat | age | \n",
       "|---|---|---|---|---|---|---|---|---|---|---|---|---|---|---|---|---|---|---|---|\n",
       "| 63      | placebo | 20      | \n",
       "|  2      | drug    | 16      | \n",
       "| 28      | placebo | 18      | \n",
       "| 17      | drug    | 22      | \n",
       "| 61      | placebo | 13      | \n",
       "|  1      | drug    | 23      | \n",
       "|  7      | placebo | 34      | \n",
       "| 15      | placebo | 50      | \n",
       "| 44      | placebo | 19      | \n",
       "| 25      | drug    | 17      | \n",
       "|  3      | drug    | 23      | \n",
       "| 28      | placebo | 22      | \n",
       "| 10      | placebo | 30      | \n",
       "| 40      | placebo | 27      | \n",
       "| 33      | drug    | 23      | \n",
       "| 46      | placebo | 22      | \n",
       "| 50      | placebo | 34      | \n",
       "|  3      | drug    | 23      | \n",
       "|  1      | drug    | 22      | \n",
       "|  4      | drug    | 42      | \n",
       "\n",
       "\n"
      ],
      "text/plain": [
       "   number treat   age\n",
       "1  63     placebo 20 \n",
       "2   2     drug    16 \n",
       "3  28     placebo 18 \n",
       "4  17     drug    22 \n",
       "5  61     placebo 13 \n",
       "6   1     drug    23 \n",
       "7   7     placebo 34 \n",
       "8  15     placebo 50 \n",
       "9  44     placebo 19 \n",
       "10 25     drug    17 \n",
       "11  3     drug    23 \n",
       "12 28     placebo 22 \n",
       "13 10     placebo 30 \n",
       "14 40     placebo 27 \n",
       "15 33     drug    23 \n",
       "16 46     placebo 22 \n",
       "17 50     placebo 34 \n",
       "18  3     drug    23 \n",
       "19  1     drug    22 \n",
       "20  4     drug    42 "
      ]
     },
     "metadata": {},
     "output_type": "display_data"
    }
   ],
   "source": [
    "polyps"
   ]
  },
  {
   "cell_type": "code",
   "execution_count": 32,
   "metadata": {},
   "outputs": [
    {
     "data": {
      "text/plain": [
       "\n",
       "Call:\n",
       "glm(formula = number ~ treat + age, family = poisson(), data = polyps)\n",
       "\n",
       "Deviance Residuals: \n",
       "    Min       1Q   Median       3Q      Max  \n",
       "-4.2212  -3.0536  -0.1802   1.4459   5.8301  \n",
       "\n",
       "Coefficients:\n",
       "             Estimate Std. Error z value Pr(>|z|)    \n",
       "(Intercept)  4.529024   0.146872   30.84  < 2e-16 ***\n",
       "treatdrug   -1.359083   0.117643  -11.55  < 2e-16 ***\n",
       "age         -0.038830   0.005955   -6.52 7.02e-11 ***\n",
       "---\n",
       "Signif. codes:  0 ‘***’ 0.001 ‘**’ 0.01 ‘*’ 0.05 ‘.’ 0.1 ‘ ’ 1\n",
       "\n",
       "(Dispersion parameter for poisson family taken to be 1)\n",
       "\n",
       "    Null deviance: 378.66  on 19  degrees of freedom\n",
       "Residual deviance: 179.54  on 17  degrees of freedom\n",
       "AIC: 273.88\n",
       "\n",
       "Number of Fisher Scoring iterations: 5\n"
      ]
     },
     "metadata": {},
     "output_type": "display_data"
    }
   ],
   "source": [
    "summary(polyps.glm.1)"
   ]
  },
  {
   "cell_type": "markdown",
   "metadata": {},
   "source": [
    "Does there seem to be a larger variance in observed counts than expected from the Poisson\n",
    "assumption? How can you tell?\n",
    "\n",
    "Yes, we can tell because residual deviance is much larger than the number of degrees of freedom as we can see from the line:\n",
    "\n",
    "`Residual deviance: 179.54  on 17  degrees of freedom`"
   ]
  },
  {
   "cell_type": "markdown",
   "metadata": {},
   "source": [
    "Now use the quasi-likelihood approach to deal with this over-dispersion, by specifying the quasipoisson family:"
   ]
  },
  {
   "cell_type": "code",
   "execution_count": 36,
   "metadata": {
    "collapsed": true
   },
   "outputs": [],
   "source": [
    "polyps.glm.2 <- glm(number ~ treat + age, data = polyps, family = quasipoisson())"
   ]
  },
  {
   "cell_type": "code",
   "execution_count": 37,
   "metadata": {},
   "outputs": [
    {
     "data": {
      "text/plain": [
       "\n",
       "Call:\n",
       "glm(formula = number ~ treat + age, family = quasipoisson(), \n",
       "    data = polyps)\n",
       "\n",
       "Deviance Residuals: \n",
       "    Min       1Q   Median       3Q      Max  \n",
       "-4.2212  -3.0536  -0.1802   1.4459   5.8301  \n",
       "\n",
       "Coefficients:\n",
       "            Estimate Std. Error t value Pr(>|t|)    \n",
       "(Intercept)  4.52902    0.48106   9.415 3.72e-08 ***\n",
       "treatdrug   -1.35908    0.38533  -3.527  0.00259 ** \n",
       "age         -0.03883    0.01951  -1.991  0.06284 .  \n",
       "---\n",
       "Signif. codes:  0 ‘***’ 0.001 ‘**’ 0.01 ‘*’ 0.05 ‘.’ 0.1 ‘ ’ 1\n",
       "\n",
       "(Dispersion parameter for quasipoisson family taken to be 10.72805)\n",
       "\n",
       "    Null deviance: 378.66  on 19  degrees of freedom\n",
       "Residual deviance: 179.54  on 17  degrees of freedom\n",
       "AIC: NA\n",
       "\n",
       "Number of Fisher Scoring iterations: 5\n"
      ]
     },
     "metadata": {},
     "output_type": "display_data"
    }
   ],
   "source": [
    "summary(polyps.glm.2)"
   ]
  },
  {
   "cell_type": "markdown",
   "metadata": {
    "collapsed": true
   },
   "source": [
    "The drug treatment appears to be effective in reducing the number of polyps, and the age of the patient is not significant at a significance level of 5%."
   ]
  },
  {
   "cell_type": "markdown",
   "metadata": {},
   "source": [
    "#### important info!"
   ]
  },
  {
   "cell_type": "markdown",
   "metadata": {},
   "source": [
    "Negative binomial -- poisson but parameters are allowed to vary.\n",
    "\n",
    "This is best, could be used all the time, but only as long as we have enough data."
   ]
  }
 ],
 "metadata": {
  "kernelspec": {
   "display_name": "R",
   "language": "R",
   "name": "ir"
  },
  "language_info": {
   "codemirror_mode": "r",
   "file_extension": ".r",
   "mimetype": "text/x-r-source",
   "name": "R",
   "pygments_lexer": "r",
   "version": "3.4.2"
  }
 },
 "nbformat": 4,
 "nbformat_minor": 2
}
